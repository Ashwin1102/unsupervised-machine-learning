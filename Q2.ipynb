{
 "cells": [
  {
   "cell_type": "code",
   "execution_count": 37,
   "metadata": {},
   "outputs": [],
   "source": [
    "import pandas as pd\n",
    "import numpy as np\n",
    "import matplotlib.pyplot as plt\n",
    "import seaborn as sns"
   ]
  },
  {
   "cell_type": "code",
   "execution_count": 38,
   "metadata": {},
   "outputs": [
    {
     "data": {
      "text/html": [
       "<div>\n",
       "<style scoped>\n",
       "    .dataframe tbody tr th:only-of-type {\n",
       "        vertical-align: middle;\n",
       "    }\n",
       "\n",
       "    .dataframe tbody tr th {\n",
       "        vertical-align: top;\n",
       "    }\n",
       "\n",
       "    .dataframe thead th {\n",
       "        text-align: right;\n",
       "    }\n",
       "</style>\n",
       "<table border=\"1\" class=\"dataframe\">\n",
       "  <thead>\n",
       "    <tr style=\"text-align: right;\">\n",
       "      <th></th>\n",
       "      <th>cluster</th>\n",
       "      <th>pt</th>\n",
       "      <th>x</th>\n",
       "      <th>y</th>\n",
       "      <th>num_neighbors</th>\n",
       "      <th>neighbors</th>\n",
       "    </tr>\n",
       "  </thead>\n",
       "  <tbody>\n",
       "    <tr>\n",
       "      <th>0</th>\n",
       "      <td>NaN</td>\n",
       "      <td>0</td>\n",
       "      <td>51.418089</td>\n",
       "      <td>13.593610</td>\n",
       "      <td>2</td>\n",
       "      <td>0,27</td>\n",
       "    </tr>\n",
       "    <tr>\n",
       "      <th>1</th>\n",
       "      <td>NaN</td>\n",
       "      <td>1</td>\n",
       "      <td>39.132318</td>\n",
       "      <td>-4.419204</td>\n",
       "      <td>3</td>\n",
       "      <td>1,40,75</td>\n",
       "    </tr>\n",
       "    <tr>\n",
       "      <th>2</th>\n",
       "      <td>NaN</td>\n",
       "      <td>2</td>\n",
       "      <td>47.807515</td>\n",
       "      <td>-25.822561</td>\n",
       "      <td>1</td>\n",
       "      <td>2</td>\n",
       "    </tr>\n",
       "    <tr>\n",
       "      <th>3</th>\n",
       "      <td>NaN</td>\n",
       "      <td>3</td>\n",
       "      <td>27.699703</td>\n",
       "      <td>53.434193</td>\n",
       "      <td>1</td>\n",
       "      <td>3</td>\n",
       "    </tr>\n",
       "    <tr>\n",
       "      <th>4</th>\n",
       "      <td>NaN</td>\n",
       "      <td>4</td>\n",
       "      <td>39.860995</td>\n",
       "      <td>5.676871</td>\n",
       "      <td>3</td>\n",
       "      <td>4,56,75</td>\n",
       "    </tr>\n",
       "  </tbody>\n",
       "</table>\n",
       "</div>"
      ],
      "text/plain": [
       "   cluster  pt          x          y  num_neighbors neighbors\n",
       "0      NaN   0  51.418089  13.593610              2      0,27\n",
       "1      NaN   1  39.132318  -4.419204              3   1,40,75\n",
       "2      NaN   2  47.807515 -25.822561              1         2\n",
       "3      NaN   3  27.699703  53.434193              1         3\n",
       "4      NaN   4  39.860995   5.676871              3   4,56,75"
      ]
     },
     "execution_count": 38,
     "metadata": {},
     "output_type": "execute_result"
    }
   ],
   "source": [
    "df = pd.read_csv('dbscan.csv')\n",
    "df.head()"
   ]
  },
  {
   "cell_type": "code",
   "execution_count": 39,
   "metadata": {},
   "outputs": [
    {
     "name": "stdout",
     "output_type": "stream",
     "text": [
      "<class 'pandas.core.frame.DataFrame'>\n",
      "RangeIndex: 80 entries, 0 to 79\n",
      "Data columns (total 6 columns):\n",
      " #   Column         Non-Null Count  Dtype  \n",
      "---  ------         --------------  -----  \n",
      " 0   cluster        0 non-null      float64\n",
      " 1   pt             80 non-null     int64  \n",
      " 2   x              80 non-null     float64\n",
      " 3   y              80 non-null     float64\n",
      " 4   num_neighbors  80 non-null     int64  \n",
      " 5   neighbors      80 non-null     object \n",
      "dtypes: float64(3), int64(2), object(1)\n",
      "memory usage: 3.9+ KB\n"
     ]
    }
   ],
   "source": [
    "df.info()"
   ]
  },
  {
   "cell_type": "code",
   "execution_count": 40,
   "metadata": {},
   "outputs": [],
   "source": [
    "df['cluster'] = df['cluster'].fillna(0)"
   ]
  },
  {
   "cell_type": "code",
   "execution_count": 41,
   "metadata": {},
   "outputs": [],
   "source": [
    "''' Given a single point from the dataframe, this function will traverse all the neigbhours \n",
    " of the given node (until it cannot find new unique neigbhours). '''\n",
    " \n",
    "def dfs(df, node_id, visited, current_cluster):\n",
    "    if visited[node_id] == 1:\n",
    "        return df\n",
    "\n",
    "    df.at[node_id, 'cluster'] = current_cluster\n",
    "    neigbhours = [int(i) for i in df['neighbors'][node_id].split(',')]\n",
    "    visited[node_id] = 1\n",
    "\n",
    "    for neigbhour in neigbhours:\n",
    "        df = dfs(df, neigbhour, visited, current_cluster)\n",
    "    \n",
    "    return df"
   ]
  },
  {
   "cell_type": "code",
   "execution_count": 42,
   "metadata": {},
   "outputs": [],
   "source": [
    "df1 = df.copy()"
   ]
  },
  {
   "cell_type": "code",
   "execution_count": 45,
   "metadata": {},
   "outputs": [],
   "source": [
    "''' This logic is for iterating through each data point from the dataframe. This consists of following conditions:\n",
    "    1. Check if a data point is already assigned to a cluster. If yes dont traverse that point (dfs), else traverse it.\n",
    "    2. Check if a data point is a core point (number of neigbhours > minpts), if yes directly traverse it.\n",
    "    3. If the point is not assigned to the cluster and it is not a core point, then it will be border point or an outlier. For\n",
    "       this I am checking if a point is a border point by iterating it's neigbhours and checking if they are core points (if number\n",
    "        of neigbhours of the neigbhour of border point > minpts, then we can say the current point is the border point)\n",
    "'''\n",
    "n = df.shape[0]\n",
    "curr_cluster = 1 # counter to assign new cluster (cannot take zero as it is reserved for outlier)\n",
    "\n",
    "# Loop to iterate through each point dataframe\n",
    "for pt in range(n):\n",
    "    curr_pt = df1.iloc[pt, 1]\n",
    "\n",
    "    # Condition to check if the data point is already assigned to a cluster\n",
    "    if  df1.at[curr_pt, 'cluster'] != 0:\n",
    "        continue\n",
    "    \n",
    "    # Condition to check core data point, if it is just traverse it using dfs\n",
    "    if df1.at[curr_pt, 'num_neighbors'] >= 3:\n",
    "        df1 = dfs(df1.copy(), curr_pt, np.array([0]*80), curr_cluster)\n",
    "        curr_cluster+=1 # incrementing to the new cluster as current one is already assigned in the dfs\n",
    "    # This else is to check if a point is border point\n",
    "    else:\n",
    "        neigbhours = [int(i) for i in df1['neighbors'][curr_pt].split(',')] # Take the neigbhours of the border point\n",
    "\n",
    "        # Iterate over the neigbhours and check if they have at 3 (minpts) neigbhours, if yes it is border point.\n",
    "        for neigbhour in neigbhours:\n",
    "            # Condition to check neigbhour core point\n",
    "            if df1.at[neigbhour, 'num_neighbors'] >= 3:\n",
    "                df1 = dfs(df1.copy(), curr_pt, np.array([0]*80), curr_cluster)\n",
    "                curr_cluster += 1 \n",
    "\n",
    "#At the end outlier will have 0 values as intialized as they could'nt be reached from any point using dfs. "
   ]
  },
  {
   "cell_type": "code",
   "execution_count": 46,
   "metadata": {},
   "outputs": [
    {
     "data": {
      "text/plain": [
       "cluster\n",
       "2.0    43\n",
       "0.0    26\n",
       "1.0     8\n",
       "3.0     3\n",
       "Name: count, dtype: int64"
      ]
     },
     "execution_count": 46,
     "metadata": {},
     "output_type": "execute_result"
    }
   ],
   "source": [
    "df1['cluster'].value_counts()"
   ]
  },
  {
   "cell_type": "code",
   "execution_count": 48,
   "metadata": {},
   "outputs": [
    {
     "data": {
      "text/plain": [
       "<matplotlib.legend.Legend at 0x2b3be8057730>"
      ]
     },
     "execution_count": 48,
     "metadata": {},
     "output_type": "execute_result"
    },
    {
     "data": {
      "image/png": "[encoded data removed]",
      "text/plain": [
       "<Figure size 800x600 with 1 Axes>"
      ]
     },
     "metadata": {},
     "output_type": "display_data"
    }
   ],
   "source": [
    "import matplotlib.pyplot as plt\n",
    "import seaborn as sns\n",
    "\n",
    "plt.figure(figsize=(8, 6))\n",
    "\n",
    "sns.scatterplot(x=df1['x'], y=df1['y'], hue=df1['cluster'], palette='viridis', s=50, edgecolor='black')\n",
    "\n",
    "plt.legend(title=\"Cluster\")\n",
    "\n"
   ]
  }
 ],
 "metadata": {
  "kernelspec": {
   "display_name": "myenv",
   "language": "python",
   "name": "python3"
  },
  "language_info": {
   "codemirror_mode": {
    "name": "ipython",
    "version": 3
   },
   "file_extension": ".py",
   "mimetype": "text/x-python",
   "name": "python",
   "nbconvert_exporter": "python",
   "pygments_lexer": "ipython3",
   "version": "3.8.20"
  },
  "orig_nbformat": 4
 },
 "nbformat": 4,
 "nbformat_minor": 2
}
