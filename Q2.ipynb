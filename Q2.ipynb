{
 "cells": [
  {
   "cell_type": "markdown",
   "metadata": {},
   "source": [
    "# Preprocessing"
   ]
  },
  {
   "cell_type": "code",
   "execution_count": 2,
   "metadata": {},
   "outputs": [],
   "source": [
    "import idx2numpy\n",
    "train_images = idx2numpy.convert_from_file('train-images.idx3-ubyte')\n",
    "train_labels = idx2numpy.convert_from_file('train-labels.idx1-ubyte')\n",
    "test_images = idx2numpy.convert_from_file('t10k-images-idx3-ubyte.unknown')\n",
    "test_labels = idx2numpy.convert_from_file('t10k-labels-idx1-ubyte.unknown')\n"
   ]
  },
  {
   "cell_type": "code",
   "execution_count": 3,
   "metadata": {},
   "outputs": [],
   "source": [
    "import numpy as np\n",
    "\n",
    "img_preprocessed_train = np.array([img.flatten() for img in train_images])\n",
    "img_preprocessed_test = np.array([img.flatten() for img in test_images])"
   ]
  },
  {
   "cell_type": "code",
   "execution_count": 4,
   "metadata": {},
   "outputs": [],
   "source": [
    "img_preprocessed =  np.concatenate((img_preprocessed_train, img_preprocessed_test), axis=0)\n",
    "labels =  np.concatenate((train_labels, test_labels), axis=0)"
   ]
  },
  {
   "cell_type": "code",
   "execution_count": 5,
   "metadata": {},
   "outputs": [],
   "source": [
    "import pandas as pd\n",
    "df_minst = pd.DataFrame(img_preprocessed)\n",
    "df_minst['labels'] = labels"
   ]
  },
  {
   "cell_type": "code",
   "execution_count": 6,
   "metadata": {},
   "outputs": [],
   "source": [
    "df_minst_x = df_minst.drop('labels', axis=1)\n"
   ]
  },
  {
   "cell_type": "code",
   "execution_count": 7,
   "metadata": {},
   "outputs": [
    {
     "data": {
      "text/html": [
       "<div>\n",
       "<style scoped>\n",
       "    .dataframe tbody tr th:only-of-type {\n",
       "        vertical-align: middle;\n",
       "    }\n",
       "\n",
       "    .dataframe tbody tr th {\n",
       "        vertical-align: top;\n",
       "    }\n",
       "\n",
       "    .dataframe thead th {\n",
       "        text-align: right;\n",
       "    }\n",
       "</style>\n",
       "<table border=\"1\" class=\"dataframe\">\n",
       "  <thead>\n",
       "    <tr style=\"text-align: right;\">\n",
       "      <th></th>\n",
       "      <th>0</th>\n",
       "      <th>1</th>\n",
       "      <th>2</th>\n",
       "      <th>3</th>\n",
       "      <th>4</th>\n",
       "      <th>5</th>\n",
       "      <th>6</th>\n",
       "      <th>7</th>\n",
       "      <th>8</th>\n",
       "      <th>9</th>\n",
       "      <th>...</th>\n",
       "      <th>774</th>\n",
       "      <th>775</th>\n",
       "      <th>776</th>\n",
       "      <th>777</th>\n",
       "      <th>778</th>\n",
       "      <th>779</th>\n",
       "      <th>780</th>\n",
       "      <th>781</th>\n",
       "      <th>782</th>\n",
       "      <th>783</th>\n",
       "    </tr>\n",
       "  </thead>\n",
       "  <tbody>\n",
       "    <tr>\n",
       "      <th>0</th>\n",
       "      <td>0.0</td>\n",
       "      <td>0.0</td>\n",
       "      <td>0.0</td>\n",
       "      <td>0.0</td>\n",
       "      <td>0.0</td>\n",
       "      <td>0.0</td>\n",
       "      <td>0.0</td>\n",
       "      <td>0.0</td>\n",
       "      <td>0.0</td>\n",
       "      <td>0.0</td>\n",
       "      <td>...</td>\n",
       "      <td>-0.031855</td>\n",
       "      <td>-0.027449</td>\n",
       "      <td>-0.019555</td>\n",
       "      <td>-0.016876</td>\n",
       "      <td>-0.014285</td>\n",
       "      <td>-0.007071</td>\n",
       "      <td>0.0</td>\n",
       "      <td>0.0</td>\n",
       "      <td>0.0</td>\n",
       "      <td>0.0</td>\n",
       "    </tr>\n",
       "    <tr>\n",
       "      <th>1</th>\n",
       "      <td>0.0</td>\n",
       "      <td>0.0</td>\n",
       "      <td>0.0</td>\n",
       "      <td>0.0</td>\n",
       "      <td>0.0</td>\n",
       "      <td>0.0</td>\n",
       "      <td>0.0</td>\n",
       "      <td>0.0</td>\n",
       "      <td>0.0</td>\n",
       "      <td>0.0</td>\n",
       "      <td>...</td>\n",
       "      <td>-0.031855</td>\n",
       "      <td>-0.027449</td>\n",
       "      <td>-0.019555</td>\n",
       "      <td>-0.016876</td>\n",
       "      <td>-0.014285</td>\n",
       "      <td>-0.007071</td>\n",
       "      <td>0.0</td>\n",
       "      <td>0.0</td>\n",
       "      <td>0.0</td>\n",
       "      <td>0.0</td>\n",
       "    </tr>\n",
       "    <tr>\n",
       "      <th>2</th>\n",
       "      <td>0.0</td>\n",
       "      <td>0.0</td>\n",
       "      <td>0.0</td>\n",
       "      <td>0.0</td>\n",
       "      <td>0.0</td>\n",
       "      <td>0.0</td>\n",
       "      <td>0.0</td>\n",
       "      <td>0.0</td>\n",
       "      <td>0.0</td>\n",
       "      <td>0.0</td>\n",
       "      <td>...</td>\n",
       "      <td>-0.031855</td>\n",
       "      <td>-0.027449</td>\n",
       "      <td>-0.019555</td>\n",
       "      <td>-0.016876</td>\n",
       "      <td>-0.014285</td>\n",
       "      <td>-0.007071</td>\n",
       "      <td>0.0</td>\n",
       "      <td>0.0</td>\n",
       "      <td>0.0</td>\n",
       "      <td>0.0</td>\n",
       "    </tr>\n",
       "    <tr>\n",
       "      <th>3</th>\n",
       "      <td>0.0</td>\n",
       "      <td>0.0</td>\n",
       "      <td>0.0</td>\n",
       "      <td>0.0</td>\n",
       "      <td>0.0</td>\n",
       "      <td>0.0</td>\n",
       "      <td>0.0</td>\n",
       "      <td>0.0</td>\n",
       "      <td>0.0</td>\n",
       "      <td>0.0</td>\n",
       "      <td>...</td>\n",
       "      <td>-0.031855</td>\n",
       "      <td>-0.027449</td>\n",
       "      <td>-0.019555</td>\n",
       "      <td>-0.016876</td>\n",
       "      <td>-0.014285</td>\n",
       "      <td>-0.007071</td>\n",
       "      <td>0.0</td>\n",
       "      <td>0.0</td>\n",
       "      <td>0.0</td>\n",
       "      <td>0.0</td>\n",
       "    </tr>\n",
       "    <tr>\n",
       "      <th>4</th>\n",
       "      <td>0.0</td>\n",
       "      <td>0.0</td>\n",
       "      <td>0.0</td>\n",
       "      <td>0.0</td>\n",
       "      <td>0.0</td>\n",
       "      <td>0.0</td>\n",
       "      <td>0.0</td>\n",
       "      <td>0.0</td>\n",
       "      <td>0.0</td>\n",
       "      <td>0.0</td>\n",
       "      <td>...</td>\n",
       "      <td>-0.031855</td>\n",
       "      <td>-0.027449</td>\n",
       "      <td>-0.019555</td>\n",
       "      <td>-0.016876</td>\n",
       "      <td>-0.014285</td>\n",
       "      <td>-0.007071</td>\n",
       "      <td>0.0</td>\n",
       "      <td>0.0</td>\n",
       "      <td>0.0</td>\n",
       "      <td>0.0</td>\n",
       "    </tr>\n",
       "    <tr>\n",
       "      <th>...</th>\n",
       "      <td>...</td>\n",
       "      <td>...</td>\n",
       "      <td>...</td>\n",
       "      <td>...</td>\n",
       "      <td>...</td>\n",
       "      <td>...</td>\n",
       "      <td>...</td>\n",
       "      <td>...</td>\n",
       "      <td>...</td>\n",
       "      <td>...</td>\n",
       "      <td>...</td>\n",
       "      <td>...</td>\n",
       "      <td>...</td>\n",
       "      <td>...</td>\n",
       "      <td>...</td>\n",
       "      <td>...</td>\n",
       "      <td>...</td>\n",
       "      <td>...</td>\n",
       "      <td>...</td>\n",
       "      <td>...</td>\n",
       "      <td>...</td>\n",
       "    </tr>\n",
       "    <tr>\n",
       "      <th>19995</th>\n",
       "      <td>0.0</td>\n",
       "      <td>0.0</td>\n",
       "      <td>0.0</td>\n",
       "      <td>0.0</td>\n",
       "      <td>0.0</td>\n",
       "      <td>0.0</td>\n",
       "      <td>0.0</td>\n",
       "      <td>0.0</td>\n",
       "      <td>0.0</td>\n",
       "      <td>0.0</td>\n",
       "      <td>...</td>\n",
       "      <td>-0.031855</td>\n",
       "      <td>-0.027449</td>\n",
       "      <td>-0.019555</td>\n",
       "      <td>-0.016876</td>\n",
       "      <td>-0.014285</td>\n",
       "      <td>-0.007071</td>\n",
       "      <td>0.0</td>\n",
       "      <td>0.0</td>\n",
       "      <td>0.0</td>\n",
       "      <td>0.0</td>\n",
       "    </tr>\n",
       "    <tr>\n",
       "      <th>19996</th>\n",
       "      <td>0.0</td>\n",
       "      <td>0.0</td>\n",
       "      <td>0.0</td>\n",
       "      <td>0.0</td>\n",
       "      <td>0.0</td>\n",
       "      <td>0.0</td>\n",
       "      <td>0.0</td>\n",
       "      <td>0.0</td>\n",
       "      <td>0.0</td>\n",
       "      <td>0.0</td>\n",
       "      <td>...</td>\n",
       "      <td>-0.031855</td>\n",
       "      <td>-0.027449</td>\n",
       "      <td>-0.019555</td>\n",
       "      <td>-0.016876</td>\n",
       "      <td>-0.014285</td>\n",
       "      <td>-0.007071</td>\n",
       "      <td>0.0</td>\n",
       "      <td>0.0</td>\n",
       "      <td>0.0</td>\n",
       "      <td>0.0</td>\n",
       "    </tr>\n",
       "    <tr>\n",
       "      <th>19997</th>\n",
       "      <td>0.0</td>\n",
       "      <td>0.0</td>\n",
       "      <td>0.0</td>\n",
       "      <td>0.0</td>\n",
       "      <td>0.0</td>\n",
       "      <td>0.0</td>\n",
       "      <td>0.0</td>\n",
       "      <td>0.0</td>\n",
       "      <td>0.0</td>\n",
       "      <td>0.0</td>\n",
       "      <td>...</td>\n",
       "      <td>-0.031855</td>\n",
       "      <td>-0.027449</td>\n",
       "      <td>-0.019555</td>\n",
       "      <td>-0.016876</td>\n",
       "      <td>-0.014285</td>\n",
       "      <td>-0.007071</td>\n",
       "      <td>0.0</td>\n",
       "      <td>0.0</td>\n",
       "      <td>0.0</td>\n",
       "      <td>0.0</td>\n",
       "    </tr>\n",
       "    <tr>\n",
       "      <th>19998</th>\n",
       "      <td>0.0</td>\n",
       "      <td>0.0</td>\n",
       "      <td>0.0</td>\n",
       "      <td>0.0</td>\n",
       "      <td>0.0</td>\n",
       "      <td>0.0</td>\n",
       "      <td>0.0</td>\n",
       "      <td>0.0</td>\n",
       "      <td>0.0</td>\n",
       "      <td>0.0</td>\n",
       "      <td>...</td>\n",
       "      <td>-0.031855</td>\n",
       "      <td>-0.027449</td>\n",
       "      <td>-0.019555</td>\n",
       "      <td>-0.016876</td>\n",
       "      <td>-0.014285</td>\n",
       "      <td>-0.007071</td>\n",
       "      <td>0.0</td>\n",
       "      <td>0.0</td>\n",
       "      <td>0.0</td>\n",
       "      <td>0.0</td>\n",
       "    </tr>\n",
       "    <tr>\n",
       "      <th>19999</th>\n",
       "      <td>0.0</td>\n",
       "      <td>0.0</td>\n",
       "      <td>0.0</td>\n",
       "      <td>0.0</td>\n",
       "      <td>0.0</td>\n",
       "      <td>0.0</td>\n",
       "      <td>0.0</td>\n",
       "      <td>0.0</td>\n",
       "      <td>0.0</td>\n",
       "      <td>0.0</td>\n",
       "      <td>...</td>\n",
       "      <td>-0.031855</td>\n",
       "      <td>-0.027449</td>\n",
       "      <td>-0.019555</td>\n",
       "      <td>-0.016876</td>\n",
       "      <td>-0.014285</td>\n",
       "      <td>-0.007071</td>\n",
       "      <td>0.0</td>\n",
       "      <td>0.0</td>\n",
       "      <td>0.0</td>\n",
       "      <td>0.0</td>\n",
       "    </tr>\n",
       "  </tbody>\n",
       "</table>\n",
       "<p>20000 rows × 784 columns</p>\n",
       "</div>"
      ],
      "text/plain": [
       "       0    1    2    3    4    5    6    7    8    9    ...       774  \\\n",
       "0      0.0  0.0  0.0  0.0  0.0  0.0  0.0  0.0  0.0  0.0  ... -0.031855   \n",
       "1      0.0  0.0  0.0  0.0  0.0  0.0  0.0  0.0  0.0  0.0  ... -0.031855   \n",
       "2      0.0  0.0  0.0  0.0  0.0  0.0  0.0  0.0  0.0  0.0  ... -0.031855   \n",
       "3      0.0  0.0  0.0  0.0  0.0  0.0  0.0  0.0  0.0  0.0  ... -0.031855   \n",
       "4      0.0  0.0  0.0  0.0  0.0  0.0  0.0  0.0  0.0  0.0  ... -0.031855   \n",
       "...    ...  ...  ...  ...  ...  ...  ...  ...  ...  ...  ...       ...   \n",
       "19995  0.0  0.0  0.0  0.0  0.0  0.0  0.0  0.0  0.0  0.0  ... -0.031855   \n",
       "19996  0.0  0.0  0.0  0.0  0.0  0.0  0.0  0.0  0.0  0.0  ... -0.031855   \n",
       "19997  0.0  0.0  0.0  0.0  0.0  0.0  0.0  0.0  0.0  0.0  ... -0.031855   \n",
       "19998  0.0  0.0  0.0  0.0  0.0  0.0  0.0  0.0  0.0  0.0  ... -0.031855   \n",
       "19999  0.0  0.0  0.0  0.0  0.0  0.0  0.0  0.0  0.0  0.0  ... -0.031855   \n",
       "\n",
       "            775       776       777       778       779  780  781  782  783  \n",
       "0     -0.027449 -0.019555 -0.016876 -0.014285 -0.007071  0.0  0.0  0.0  0.0  \n",
       "1     -0.027449 -0.019555 -0.016876 -0.014285 -0.007071  0.0  0.0  0.0  0.0  \n",
       "2     -0.027449 -0.019555 -0.016876 -0.014285 -0.007071  0.0  0.0  0.0  0.0  \n",
       "3     -0.027449 -0.019555 -0.016876 -0.014285 -0.007071  0.0  0.0  0.0  0.0  \n",
       "4     -0.027449 -0.019555 -0.016876 -0.014285 -0.007071  0.0  0.0  0.0  0.0  \n",
       "...         ...       ...       ...       ...       ...  ...  ...  ...  ...  \n",
       "19995 -0.027449 -0.019555 -0.016876 -0.014285 -0.007071  0.0  0.0  0.0  0.0  \n",
       "19996 -0.027449 -0.019555 -0.016876 -0.014285 -0.007071  0.0  0.0  0.0  0.0  \n",
       "19997 -0.027449 -0.019555 -0.016876 -0.014285 -0.007071  0.0  0.0  0.0  0.0  \n",
       "19998 -0.027449 -0.019555 -0.016876 -0.014285 -0.007071  0.0  0.0  0.0  0.0  \n",
       "19999 -0.027449 -0.019555 -0.016876 -0.014285 -0.007071  0.0  0.0  0.0  0.0  \n",
       "\n",
       "[20000 rows x 784 columns]"
      ]
     },
     "execution_count": 7,
     "metadata": {},
     "output_type": "execute_result"
    }
   ],
   "source": [
    "df_minst_x = df_minst_x[:20000]\n",
    "df_minst_x_mean = df_minst_x.mean(axis=0)\n",
    "df_minst_x_std = df_minst_x.std(axis=0)\n",
    "\n",
    "df_minst_x_norm = (df_minst_x - df_minst_x_mean) / (df_minst_x_std + 0.000001)\n",
    "df_minst_x_norm"
   ]
  },
  {
   "cell_type": "code",
   "execution_count": 8,
   "metadata": {},
   "outputs": [],
   "source": [
    "df_minst_x_norm = df_minst_x_norm.to_numpy()"
   ]
  },
  {
   "cell_type": "markdown",
   "metadata": {},
   "source": [
    "# A) run KMeans on the MNIST Dataset, try K=10"
   ]
  },
  {
   "cell_type": "code",
   "execution_count": 9,
   "metadata": {},
   "outputs": [
    {
     "data": {
      "text/plain": [
       "(20000, 784)"
      ]
     },
     "execution_count": 9,
     "metadata": {},
     "output_type": "execute_result"
    }
   ],
   "source": [
    "df_minst_x_norm.shape"
   ]
  },
  {
   "cell_type": "code",
   "execution_count": 11,
   "metadata": {},
   "outputs": [
    {
     "data": {
      "text/plain": [
       "(10, 784)"
      ]
     },
     "execution_count": 11,
     "metadata": {},
     "output_type": "execute_result"
    }
   ],
   "source": [
    "# Consider random k point in the plane\n",
    "import numpy as np\n",
    "\n",
    "k = 10\n",
    "centers = []\n",
    "for i in range(k):\n",
    "    centers.append(np.random.uniform(-1, 1, size=784))\n",
    "centers = np.array(centers)\n",
    "centers.shape"
   ]
  },
  {
   "cell_type": "code",
   "execution_count": 6,
   "metadata": {},
   "outputs": [],
   "source": [
    "from scipy.spatial.distance import cdist\n",
    "\n",
    "def em_steps(norm_data, centers, k):\n",
    "    distance_matrix = cdist(norm_data, centers, metric='euclidean')\n",
    "    members = [[] for _ in range(k)]\n",
    "    clusters = np.argmin(distance_matrix, axis=1)\n",
    "    num_clusters = len(clusters)\n",
    "    \n",
    "    members_ind = [[] for _ in range(k)]\n",
    "\n",
    "    for c in range(num_clusters):\n",
    "        cluster = clusters[c]\n",
    "        members[cluster].append(norm_data[c])\n",
    "        members_ind[cluster].append(c)\n",
    "    \n",
    "    for member in range(len(members)):\n",
    "        members[member] = np.mean(np.array(members[member]), axis=0).ravel()\n",
    "\n",
    "    new_centers = np.array(members)\n",
    "    return new_centers, members_ind\n"
   ]
  },
  {
   "cell_type": "code",
   "execution_count": 7,
   "metadata": {},
   "outputs": [],
   "source": [
    "def calculate_obj(norm_data, centers, k, dist):\n",
    "    from scipy.spatial.distance import cdist\n",
    "    distance_matrix = cdist(norm_data, centers, metric= dist)\n",
    "    data_size = norm_data.shape[0]\n",
    "    pi = np.array([[0 for _ in range(k)] for _ in range(data_size)])\n",
    "    x = np.argmin(distance_matrix, axis=1)\n",
    "\n",
    "    for cluster in range(len(x)):\n",
    "        pi[cluster, x[cluster]] = 1\n",
    "    \n",
    "    objective_val = np.matmul(pi.T, distance_matrix).diagonal().sum()\n",
    "    return objective_val\n",
    "\n",
    "# calculate_obj(df_minst_x_norm, centers)\n",
    "    "
   ]
  },
  {
   "cell_type": "code",
   "execution_count": 8,
   "metadata": {},
   "outputs": [],
   "source": [
    "from scipy.spatial.distance import cdist\n",
    "from tqdm import tqdm\n",
    "\n",
    "def converge(norm_data, k_val, max_iter, dist='euclidean'):\n",
    "    k = k_val\n",
    "    centers = []\n",
    "    s = norm_data.shape[1]\n",
    "    for i in range(k):\n",
    "        centers.append(np.random.uniform(-1, 1, size=s))\n",
    "\n",
    "    objective_val = calculate_obj(norm_data, centers, k, dist)\n",
    "    categorized_clusters_ind = []\n",
    "    pre_objective_val = float('infinity')\n",
    "    \n",
    "    # while objective_val < pre_objective_val:\n",
    "    for i in tqdm(range(max_iter), desc=\"Convergence Progress\"):\n",
    "        centers, cluster_ind = em_steps(norm_data, centers, k)\n",
    "        categorized_clusters_ind = cluster_ind.copy()\n",
    "\n",
    "        pre_objective_val = objective_val\n",
    "        objective_val = calculate_obj(norm_data, centers, k, dist)\n",
    "        # print('objective_val', objective_val)\n",
    "        \n",
    "    return categorized_clusters_ind\n"
   ]
  },
  {
   "cell_type": "code",
   "execution_count": 128,
   "metadata": {},
   "outputs": [
    {
     "name": "stderr",
     "output_type": "stream",
     "text": [
      "Convergence Progress: 100%|██████████| 100/100 [00:33<00:00,  3.00it/s]\n"
     ]
    }
   ],
   "source": [
    "final_clusters_ind1 = converge(df_minst_x_norm, k, 100)"
   ]
  },
  {
   "cell_type": "code",
   "execution_count": 129,
   "metadata": {},
   "outputs": [],
   "source": [
    "from scipy import stats\n",
    "\n",
    "def purity(final_clusters_ind, df_minst, N):\n",
    "    n = len(final_clusters_ind)\n",
    "    sum = 0\n",
    "\n",
    "    if isinstance(df_minst, (pd.DataFrame, pd.Series)):\n",
    "        df_minst = df_minst.to_numpy()\n",
    "\n",
    "    for i in range(n):\n",
    "        cluster = np.array(final_clusters_ind[i])\n",
    "        cluster_with_labels = df_minst[final_clusters_ind[i], 784]\n",
    "        majority, count = stats.mode(cluster_with_labels, keepdims=True)\n",
    "        sum += count[0]\n",
    "\n",
    "    purity = sum/N\n",
    "    return purity\n",
    "    "
   ]
  },
  {
   "cell_type": "code",
   "execution_count": 105,
   "metadata": {},
   "outputs": [
    {
     "data": {
      "text/plain": [
       "0.7511740152398323"
      ]
     },
     "execution_count": 105,
     "metadata": {},
     "output_type": "execute_result"
    }
   ],
   "source": [
    "def gini_index(final_clusters_ind, df_minst, col, N):\n",
    "    if isinstance(df_minst, (pd.DataFrame, pd.Series)):\n",
    "        df_minst = df_minst.to_numpy()\n",
    "\n",
    "    n= len(final_clusters_ind)\n",
    "    ginis = []\n",
    "    for c in range(n):\n",
    "        cluster = np.array(final_clusters_ind[c])\n",
    "        cluster_with_labels = df_minst[cluster, col]\n",
    "        ele, counts = np.unique(cluster_with_labels, return_counts=True)\n",
    "        cluster_gini = 1 - np.sum((counts / np.sum(counts)) ** 2)\n",
    "        ginis.append(cluster_gini)\n",
    "    ginis = np.array(ginis)\n",
    "    weights = np.array([len(i)/N for i in final_clusters_ind])\n",
    "    gini = ginis * weights\n",
    "    return np.sum(gini)\n"
   ]
  },
  {
   "cell_type": "code",
   "execution_count": 108,
   "metadata": {},
   "outputs": [
    {
     "name": "stdout",
     "output_type": "stream",
     "text": [
      "purity 0.48405\n",
      "gini index 0.6370353481219888\n"
     ]
    }
   ],
   "source": [
    "# for k = 10\n",
    "print(\"purity\", purity(final_clusters_ind1, df_minst, 20000))\n",
    "print(\"gini index\", gini_index(final_clusters_ind1, df_minst, 784, 20000))"
   ]
  },
  {
   "cell_type": "code",
   "execution_count": 109,
   "metadata": {},
   "outputs": [
    {
     "name": "stderr",
     "output_type": "stream",
     "text": [
      "Convergence Progress: 100%|██████████| 100/100 [00:57<00:00,  1.75it/s]"
     ]
    },
    {
     "name": "stdout",
     "output_type": "stream",
     "text": [
      "purity 0.5914\n",
      "gini index 0.5337594065488835\n"
     ]
    },
    {
     "name": "stderr",
     "output_type": "stream",
     "text": [
      "\n"
     ]
    }
   ],
   "source": [
    "# for k = 20\n",
    "final_clusters_ind_double = converge(df_minst_x_norm, k*2, 100)\n",
    "print(\"purity\", purity(final_clusters_ind_double, df_minst, 20000))\n",
    "print(\"gini index\", gini_index(final_clusters_ind_double, df_minst, 784, 20000))"
   ]
  },
  {
   "cell_type": "code",
   "execution_count": 112,
   "metadata": {},
   "outputs": [
    {
     "name": "stderr",
     "output_type": "stream",
     "text": [
      "Convergence Progress: 100%|██████████| 100/100 [00:24<00:00,  4.09it/s]"
     ]
    },
    {
     "name": "stdout",
     "output_type": "stream",
     "text": [
      "purity 0.36135\n",
      "gini index 0.7516031708279011\n"
     ]
    },
    {
     "name": "stderr",
     "output_type": "stream",
     "text": [
      "\n"
     ]
    }
   ],
   "source": [
    "final_clusters_ind_half = converge(df_minst_x_norm, k//2, 100)\n"
   ]
  },
  {
   "cell_type": "code",
   "execution_count": 113,
   "metadata": {},
   "outputs": [
    {
     "name": "stdout",
     "output_type": "stream",
     "text": [
      "purity 0.36135\n",
      "gini index 0.7516031708279011\n"
     ]
    }
   ],
   "source": [
    "# for k = 5\n",
    "print(\"purity\", purity(final_clusters_ind_half, df_minst, 20000))\n",
    "print(\"gini index\", gini_index(final_clusters_ind_half, df_minst, 784, 20000))"
   ]
  },
  {
   "cell_type": "code",
   "execution_count": 117,
   "metadata": {},
   "outputs": [
    {
     "data": {
      "text/plain": [
       "<matplotlib.legend.Legend at 0x2b774ead7d90>"
      ]
     },
     "execution_count": 117,
     "metadata": {},
     "output_type": "execute_result"
    },
    {
     "data": {
      "image/png": "[encoded data removed]",
      "text/plain": [
       "<Figure size 640x480 with 1 Axes>"
      ]
     },
     "metadata": {},
     "output_type": "display_data"
    }
   ],
   "source": [
    "import matplotlib.pyplot as plt\n",
    "\n",
    "plt.plot([0.36135, 0.48405, 0.5914], [5, 10, 20], label = 'Purity')\n",
    "plt.plot([0.75160, 0.6370, 0.5337], [5, 10, 20], label = 'Gini Index')\n",
    "plt.xlabel('K values')\n",
    "plt.ylabel('Purity and Gini')\n",
    "\n",
    "plt.legend()\n"
   ]
  },
  {
   "cell_type": "markdown",
   "metadata": {},
   "source": [
    "We can observe that as k value increases gini index reduces whereas purity increases."
   ]
  },
  {
   "cell_type": "markdown",
   "metadata": {},
   "source": [
    "# B) run KMeans on the FASHION Dataset, try K=10"
   ]
  },
  {
   "cell_type": "code",
   "execution_count": 118,
   "metadata": {},
   "outputs": [
    {
     "name": "stderr",
     "output_type": "stream",
     "text": [
      "2025-02-02 12:03:02.374258: I tensorflow/tsl/cuda/cudart_stub.cc:28] Could not find cuda drivers on your machine, GPU will not be used.\n",
      "2025-02-02 12:03:02.456246: I tensorflow/tsl/cuda/cudart_stub.cc:28] Could not find cuda drivers on your machine, GPU will not be used.\n",
      "2025-02-02 12:03:02.457327: I tensorflow/core/platform/cpu_feature_guard.cc:182] This TensorFlow binary is optimized to use available CPU instructions in performance-critical operations.\n",
      "To enable the following instructions: AVX2 FMA, in other operations, rebuild TensorFlow with the appropriate compiler flags.\n",
      "2025-02-02 12:03:10.444918: W tensorflow/compiler/tf2tensorrt/utils/py_utils.cc:38] TF-TRT Warning: Could not find TensorRT\n"
     ]
    }
   ],
   "source": [
    "import tensorflow as tf\n",
    "\n",
    "(X_train, y_train), (X_test, y_test) = tf.keras.datasets.fashion_mnist.load_data()\n",
    "\n",
    "X = np.concatenate((X_train, X_test), axis=0)\n",
    "y = np.concatenate((y_train, y_test), axis=0)"
   ]
  },
  {
   "cell_type": "code",
   "execution_count": 119,
   "metadata": {},
   "outputs": [],
   "source": [
    "df_fashion = np.array([img.flatten() for img in X])\n",
    "df_fashion = df_fashion[:20000]"
   ]
  },
  {
   "cell_type": "code",
   "execution_count": 120,
   "metadata": {},
   "outputs": [],
   "source": [
    "import pandas as pd\n",
    "df_fashion = pd.DataFrame(df_fashion)\n",
    "df_fashion['labels'] = y[:20000]"
   ]
  },
  {
   "cell_type": "code",
   "execution_count": 121,
   "metadata": {},
   "outputs": [
    {
     "data": {
      "text/html": [
       "<div>\n",
       "<style scoped>\n",
       "    .dataframe tbody tr th:only-of-type {\n",
       "        vertical-align: middle;\n",
       "    }\n",
       "\n",
       "    .dataframe tbody tr th {\n",
       "        vertical-align: top;\n",
       "    }\n",
       "\n",
       "    .dataframe thead th {\n",
       "        text-align: right;\n",
       "    }\n",
       "</style>\n",
       "<table border=\"1\" class=\"dataframe\">\n",
       "  <thead>\n",
       "    <tr style=\"text-align: right;\">\n",
       "      <th></th>\n",
       "      <th>0</th>\n",
       "      <th>1</th>\n",
       "      <th>2</th>\n",
       "      <th>3</th>\n",
       "      <th>4</th>\n",
       "      <th>5</th>\n",
       "      <th>6</th>\n",
       "      <th>7</th>\n",
       "      <th>8</th>\n",
       "      <th>9</th>\n",
       "      <th>...</th>\n",
       "      <th>774</th>\n",
       "      <th>775</th>\n",
       "      <th>776</th>\n",
       "      <th>777</th>\n",
       "      <th>778</th>\n",
       "      <th>779</th>\n",
       "      <th>780</th>\n",
       "      <th>781</th>\n",
       "      <th>782</th>\n",
       "      <th>783</th>\n",
       "    </tr>\n",
       "  </thead>\n",
       "  <tbody>\n",
       "    <tr>\n",
       "      <th>0</th>\n",
       "      <td>-0.010861</td>\n",
       "      <td>-0.022244</td>\n",
       "      <td>-0.033499</td>\n",
       "      <td>-0.04577</td>\n",
       "      <td>-0.056837</td>\n",
       "      <td>-0.071502</td>\n",
       "      <td>-0.099371</td>\n",
       "      <td>-0.159692</td>\n",
       "      <td>-0.238653</td>\n",
       "      <td>-0.374297</td>\n",
       "      <td>...</td>\n",
       "      <td>-0.603587</td>\n",
       "      <td>-0.476228</td>\n",
       "      <td>-0.395797</td>\n",
       "      <td>-0.402048</td>\n",
       "      <td>-0.435776</td>\n",
       "      <td>-0.393878</td>\n",
       "      <td>-0.286460</td>\n",
       "      <td>-0.154018</td>\n",
       "      <td>-0.089502</td>\n",
       "      <td>-0.034036</td>\n",
       "    </tr>\n",
       "    <tr>\n",
       "      <th>1</th>\n",
       "      <td>-0.010861</td>\n",
       "      <td>-0.022244</td>\n",
       "      <td>-0.033499</td>\n",
       "      <td>-0.04577</td>\n",
       "      <td>-0.056837</td>\n",
       "      <td>0.089194</td>\n",
       "      <td>-0.099371</td>\n",
       "      <td>-0.159692</td>\n",
       "      <td>-0.238653</td>\n",
       "      <td>-0.374297</td>\n",
       "      <td>...</td>\n",
       "      <td>1.469925</td>\n",
       "      <td>1.860402</td>\n",
       "      <td>2.716740</td>\n",
       "      <td>1.354038</td>\n",
       "      <td>-0.435776</td>\n",
       "      <td>-0.393878</td>\n",
       "      <td>-0.286460</td>\n",
       "      <td>-0.154018</td>\n",
       "      <td>-0.089502</td>\n",
       "      <td>-0.034036</td>\n",
       "    </tr>\n",
       "    <tr>\n",
       "      <th>2</th>\n",
       "      <td>-0.010861</td>\n",
       "      <td>-0.022244</td>\n",
       "      <td>-0.033499</td>\n",
       "      <td>-0.04577</td>\n",
       "      <td>-0.056837</td>\n",
       "      <td>-0.071502</td>\n",
       "      <td>-0.099371</td>\n",
       "      <td>-0.159692</td>\n",
       "      <td>-0.238653</td>\n",
       "      <td>0.201660</td>\n",
       "      <td>...</td>\n",
       "      <td>-0.603587</td>\n",
       "      <td>-0.476228</td>\n",
       "      <td>-0.371855</td>\n",
       "      <td>-0.402048</td>\n",
       "      <td>-0.435776</td>\n",
       "      <td>-0.393878</td>\n",
       "      <td>-0.286460</td>\n",
       "      <td>-0.154018</td>\n",
       "      <td>-0.089502</td>\n",
       "      <td>-0.034036</td>\n",
       "    </tr>\n",
       "    <tr>\n",
       "      <th>3</th>\n",
       "      <td>-0.010861</td>\n",
       "      <td>-0.022244</td>\n",
       "      <td>-0.033499</td>\n",
       "      <td>-0.04577</td>\n",
       "      <td>-0.056837</td>\n",
       "      <td>-0.071502</td>\n",
       "      <td>-0.099371</td>\n",
       "      <td>-0.159692</td>\n",
       "      <td>1.124830</td>\n",
       "      <td>2.138970</td>\n",
       "      <td>...</td>\n",
       "      <td>-0.603587</td>\n",
       "      <td>-0.476228</td>\n",
       "      <td>-0.395797</td>\n",
       "      <td>-0.402048</td>\n",
       "      <td>-0.435776</td>\n",
       "      <td>-0.393878</td>\n",
       "      <td>-0.286460</td>\n",
       "      <td>-0.154018</td>\n",
       "      <td>-0.089502</td>\n",
       "      <td>-0.034036</td>\n",
       "    </tr>\n",
       "    <tr>\n",
       "      <th>4</th>\n",
       "      <td>-0.010861</td>\n",
       "      <td>-0.022244</td>\n",
       "      <td>-0.033499</td>\n",
       "      <td>-0.04577</td>\n",
       "      <td>-0.056837</td>\n",
       "      <td>-0.071502</td>\n",
       "      <td>-0.099371</td>\n",
       "      <td>-0.159692</td>\n",
       "      <td>-0.238653</td>\n",
       "      <td>-0.374297</td>\n",
       "      <td>...</td>\n",
       "      <td>-0.603587</td>\n",
       "      <td>-0.476228</td>\n",
       "      <td>-0.395797</td>\n",
       "      <td>-0.402048</td>\n",
       "      <td>-0.435776</td>\n",
       "      <td>-0.393878</td>\n",
       "      <td>-0.286460</td>\n",
       "      <td>-0.154018</td>\n",
       "      <td>-0.089502</td>\n",
       "      <td>-0.034036</td>\n",
       "    </tr>\n",
       "    <tr>\n",
       "      <th>...</th>\n",
       "      <td>...</td>\n",
       "      <td>...</td>\n",
       "      <td>...</td>\n",
       "      <td>...</td>\n",
       "      <td>...</td>\n",
       "      <td>...</td>\n",
       "      <td>...</td>\n",
       "      <td>...</td>\n",
       "      <td>...</td>\n",
       "      <td>...</td>\n",
       "      <td>...</td>\n",
       "      <td>...</td>\n",
       "      <td>...</td>\n",
       "      <td>...</td>\n",
       "      <td>...</td>\n",
       "      <td>...</td>\n",
       "      <td>...</td>\n",
       "      <td>...</td>\n",
       "      <td>...</td>\n",
       "      <td>...</td>\n",
       "      <td>...</td>\n",
       "    </tr>\n",
       "    <tr>\n",
       "      <th>19995</th>\n",
       "      <td>-0.010861</td>\n",
       "      <td>-0.022244</td>\n",
       "      <td>-0.033499</td>\n",
       "      <td>-0.04577</td>\n",
       "      <td>-0.056837</td>\n",
       "      <td>-0.071502</td>\n",
       "      <td>-0.099371</td>\n",
       "      <td>-0.159692</td>\n",
       "      <td>-0.197335</td>\n",
       "      <td>-0.374297</td>\n",
       "      <td>...</td>\n",
       "      <td>2.933582</td>\n",
       "      <td>2.618782</td>\n",
       "      <td>-0.395797</td>\n",
       "      <td>-0.402048</td>\n",
       "      <td>-0.435776</td>\n",
       "      <td>-0.393878</td>\n",
       "      <td>-0.286460</td>\n",
       "      <td>-0.154018</td>\n",
       "      <td>-0.089502</td>\n",
       "      <td>-0.034036</td>\n",
       "    </tr>\n",
       "    <tr>\n",
       "      <th>19996</th>\n",
       "      <td>-0.010861</td>\n",
       "      <td>-0.022244</td>\n",
       "      <td>-0.033499</td>\n",
       "      <td>-0.04577</td>\n",
       "      <td>-0.056837</td>\n",
       "      <td>-0.071502</td>\n",
       "      <td>-0.099371</td>\n",
       "      <td>-0.159692</td>\n",
       "      <td>-0.238653</td>\n",
       "      <td>-0.374297</td>\n",
       "      <td>...</td>\n",
       "      <td>1.069162</td>\n",
       "      <td>-0.476228</td>\n",
       "      <td>-0.395797</td>\n",
       "      <td>-0.402048</td>\n",
       "      <td>-0.435776</td>\n",
       "      <td>-0.393878</td>\n",
       "      <td>-0.286460</td>\n",
       "      <td>-0.154018</td>\n",
       "      <td>-0.089502</td>\n",
       "      <td>-0.034036</td>\n",
       "    </tr>\n",
       "    <tr>\n",
       "      <th>19997</th>\n",
       "      <td>-0.010861</td>\n",
       "      <td>-0.022244</td>\n",
       "      <td>-0.033499</td>\n",
       "      <td>-0.04577</td>\n",
       "      <td>-0.056837</td>\n",
       "      <td>-0.071502</td>\n",
       "      <td>-0.099371</td>\n",
       "      <td>-0.159692</td>\n",
       "      <td>-0.238653</td>\n",
       "      <td>-0.374297</td>\n",
       "      <td>...</td>\n",
       "      <td>-0.551314</td>\n",
       "      <td>-0.476228</td>\n",
       "      <td>-0.395797</td>\n",
       "      <td>-0.402048</td>\n",
       "      <td>-0.435776</td>\n",
       "      <td>-0.393878</td>\n",
       "      <td>-0.286460</td>\n",
       "      <td>-0.154018</td>\n",
       "      <td>-0.089502</td>\n",
       "      <td>-0.034036</td>\n",
       "    </tr>\n",
       "    <tr>\n",
       "      <th>19998</th>\n",
       "      <td>-0.010861</td>\n",
       "      <td>-0.022244</td>\n",
       "      <td>-0.033499</td>\n",
       "      <td>-0.04577</td>\n",
       "      <td>-0.056837</td>\n",
       "      <td>-0.071502</td>\n",
       "      <td>-0.099371</td>\n",
       "      <td>-0.159692</td>\n",
       "      <td>-0.238653</td>\n",
       "      <td>-0.374297</td>\n",
       "      <td>...</td>\n",
       "      <td>-0.603587</td>\n",
       "      <td>-0.476228</td>\n",
       "      <td>-0.395797</td>\n",
       "      <td>-0.402048</td>\n",
       "      <td>-0.435776</td>\n",
       "      <td>-0.393878</td>\n",
       "      <td>-0.286460</td>\n",
       "      <td>-0.154018</td>\n",
       "      <td>-0.089502</td>\n",
       "      <td>-0.034036</td>\n",
       "    </tr>\n",
       "    <tr>\n",
       "      <th>19999</th>\n",
       "      <td>-0.010861</td>\n",
       "      <td>-0.022244</td>\n",
       "      <td>-0.033499</td>\n",
       "      <td>-0.04577</td>\n",
       "      <td>-0.056837</td>\n",
       "      <td>-0.071502</td>\n",
       "      <td>-0.099371</td>\n",
       "      <td>-0.159692</td>\n",
       "      <td>-0.197335</td>\n",
       "      <td>-0.374297</td>\n",
       "      <td>...</td>\n",
       "      <td>-0.603587</td>\n",
       "      <td>-0.476228</td>\n",
       "      <td>-0.395797</td>\n",
       "      <td>1.816165</td>\n",
       "      <td>3.183119</td>\n",
       "      <td>3.328746</td>\n",
       "      <td>-0.011133</td>\n",
       "      <td>-0.154018</td>\n",
       "      <td>-0.089502</td>\n",
       "      <td>-0.034036</td>\n",
       "    </tr>\n",
       "  </tbody>\n",
       "</table>\n",
       "<p>20000 rows × 784 columns</p>\n",
       "</div>"
      ],
      "text/plain": [
       "            0         1         2        3         4         5         6    \\\n",
       "0     -0.010861 -0.022244 -0.033499 -0.04577 -0.056837 -0.071502 -0.099371   \n",
       "1     -0.010861 -0.022244 -0.033499 -0.04577 -0.056837  0.089194 -0.099371   \n",
       "2     -0.010861 -0.022244 -0.033499 -0.04577 -0.056837 -0.071502 -0.099371   \n",
       "3     -0.010861 -0.022244 -0.033499 -0.04577 -0.056837 -0.071502 -0.099371   \n",
       "4     -0.010861 -0.022244 -0.033499 -0.04577 -0.056837 -0.071502 -0.099371   \n",
       "...         ...       ...       ...      ...       ...       ...       ...   \n",
       "19995 -0.010861 -0.022244 -0.033499 -0.04577 -0.056837 -0.071502 -0.099371   \n",
       "19996 -0.010861 -0.022244 -0.033499 -0.04577 -0.056837 -0.071502 -0.099371   \n",
       "19997 -0.010861 -0.022244 -0.033499 -0.04577 -0.056837 -0.071502 -0.099371   \n",
       "19998 -0.010861 -0.022244 -0.033499 -0.04577 -0.056837 -0.071502 -0.099371   \n",
       "19999 -0.010861 -0.022244 -0.033499 -0.04577 -0.056837 -0.071502 -0.099371   \n",
       "\n",
       "            7         8         9    ...       774       775       776  \\\n",
       "0     -0.159692 -0.238653 -0.374297  ... -0.603587 -0.476228 -0.395797   \n",
       "1     -0.159692 -0.238653 -0.374297  ...  1.469925  1.860402  2.716740   \n",
       "2     -0.159692 -0.238653  0.201660  ... -0.603587 -0.476228 -0.371855   \n",
       "3     -0.159692  1.124830  2.138970  ... -0.603587 -0.476228 -0.395797   \n",
       "4     -0.159692 -0.238653 -0.374297  ... -0.603587 -0.476228 -0.395797   \n",
       "...         ...       ...       ...  ...       ...       ...       ...   \n",
       "19995 -0.159692 -0.197335 -0.374297  ...  2.933582  2.618782 -0.395797   \n",
       "19996 -0.159692 -0.238653 -0.374297  ...  1.069162 -0.476228 -0.395797   \n",
       "19997 -0.159692 -0.238653 -0.374297  ... -0.551314 -0.476228 -0.395797   \n",
       "19998 -0.159692 -0.238653 -0.374297  ... -0.603587 -0.476228 -0.395797   \n",
       "19999 -0.159692 -0.197335 -0.374297  ... -0.603587 -0.476228 -0.395797   \n",
       "\n",
       "            777       778       779       780       781       782       783  \n",
       "0     -0.402048 -0.435776 -0.393878 -0.286460 -0.154018 -0.089502 -0.034036  \n",
       "1      1.354038 -0.435776 -0.393878 -0.286460 -0.154018 -0.089502 -0.034036  \n",
       "2     -0.402048 -0.435776 -0.393878 -0.286460 -0.154018 -0.089502 -0.034036  \n",
       "3     -0.402048 -0.435776 -0.393878 -0.286460 -0.154018 -0.089502 -0.034036  \n",
       "4     -0.402048 -0.435776 -0.393878 -0.286460 -0.154018 -0.089502 -0.034036  \n",
       "...         ...       ...       ...       ...       ...       ...       ...  \n",
       "19995 -0.402048 -0.435776 -0.393878 -0.286460 -0.154018 -0.089502 -0.034036  \n",
       "19996 -0.402048 -0.435776 -0.393878 -0.286460 -0.154018 -0.089502 -0.034036  \n",
       "19997 -0.402048 -0.435776 -0.393878 -0.286460 -0.154018 -0.089502 -0.034036  \n",
       "19998 -0.402048 -0.435776 -0.393878 -0.286460 -0.154018 -0.089502 -0.034036  \n",
       "19999  1.816165  3.183119  3.328746 -0.011133 -0.154018 -0.089502 -0.034036  \n",
       "\n",
       "[20000 rows x 784 columns]"
      ]
     },
     "execution_count": 121,
     "metadata": {},
     "output_type": "execute_result"
    }
   ],
   "source": [
    "df_fashion_x = df_fashion.drop('labels', axis=1)\n",
    "df_fashion_x_mean = df_fashion_x.mean(axis=0)\n",
    "df_fashion_x_std = df_fashion_x.std(axis=0)\n",
    "\n",
    "df_fashion_x_norm = (df_fashion_x - df_fashion_x_mean) / (df_fashion_x_std + 0.000001)\n",
    "df_fashion_x_norm"
   ]
  },
  {
   "cell_type": "code",
   "execution_count": 122,
   "metadata": {},
   "outputs": [],
   "source": [
    "df_fashion_x_norm = df_fashion_x_norm.to_numpy()"
   ]
  },
  {
   "cell_type": "code",
   "execution_count": 123,
   "metadata": {},
   "outputs": [
    {
     "data": {
      "text/plain": [
       "(10, 784)"
      ]
     },
     "execution_count": 123,
     "metadata": {},
     "output_type": "execute_result"
    }
   ],
   "source": [
    "# Consider random k point in the plane\n",
    "import numpy as np\n",
    "\n",
    "k = 10\n",
    "centers = []\n",
    "for i in range(k):\n",
    "    centers.append(np.random.uniform(-1, 1, size=784))\n",
    "centers = np.array(centers)\n",
    "centers.shape"
   ]
  },
  {
   "cell_type": "code",
   "execution_count": null,
   "metadata": {},
   "outputs": [],
   "source": [
    "purity"
   ]
  },
  {
   "cell_type": "code",
   "execution_count": 130,
   "metadata": {},
   "outputs": [
    {
     "name": "stderr",
     "output_type": "stream",
     "text": [
      "Convergence Progress: 100%|██████████| 100/100 [00:31<00:00,  3.22it/s]"
     ]
    },
    {
     "name": "stdout",
     "output_type": "stream",
     "text": [
      "purity 0.52675\n",
      "gini index 0.5746044593938892\n"
     ]
    },
    {
     "name": "stderr",
     "output_type": "stream",
     "text": [
      "\n"
     ]
    }
   ],
   "source": [
    "# for k = 10\n",
    "final_clusters_ind_minist = converge(df_fashion_x_norm, k, 100)\n",
    "print(\"purity\", purity(final_clusters_ind_minist, df_fashion, 20000))\n",
    "print(\"gini index\", gini_index(final_clusters_ind_minist, df_fashion, 784, 20000))"
   ]
  },
  {
   "cell_type": "code",
   "execution_count": 131,
   "metadata": {},
   "outputs": [
    {
     "name": "stderr",
     "output_type": "stream",
     "text": [
      "Convergence Progress: 100%|██████████| 100/100 [00:56<00:00,  1.78it/s]"
     ]
    },
    {
     "name": "stdout",
     "output_type": "stream",
     "text": [
      "purity 0.6456\n",
      "gini index 0.4570254057302016\n"
     ]
    },
    {
     "name": "stderr",
     "output_type": "stream",
     "text": [
      "\n"
     ]
    }
   ],
   "source": [
    "# for k = 20 (double)\n",
    "final_clusters_ind_minist_double = converge(df_fashion_x_norm, k*2, 100)\n",
    "print(\"purity\", purity(final_clusters_ind_minist_double, df_fashion, 20000))\n",
    "print(\"gini index\", gini_index(final_clusters_ind_minist_double, df_fashion, 784, 20000))"
   ]
  },
  {
   "cell_type": "code",
   "execution_count": 133,
   "metadata": {},
   "outputs": [
    {
     "name": "stderr",
     "output_type": "stream",
     "text": [
      "Convergence Progress: 100%|██████████| 100/100 [00:23<00:00,  4.31it/s]\n"
     ]
    },
    {
     "name": "stdout",
     "output_type": "stream",
     "text": [
      "purity 0.4103\n",
      "gini index 0.7024214238605913\n"
     ]
    }
   ],
   "source": [
    "# for k = 5 (half)\n",
    "final_clusters_ind_minist_half = converge(df_fashion_x_norm, k//2, 100)\n",
    "print(\"purity\", purity(final_clusters_ind_minist_half, df_fashion, 20000))\n",
    "print(\"gini index\", gini_index(final_clusters_ind_minist_half, df_fashion, 784, 20000))"
   ]
  },
  {
   "cell_type": "code",
   "execution_count": 134,
   "metadata": {},
   "outputs": [
    {
     "data": {
      "text/plain": [
       "<matplotlib.legend.Legend at 0x2b788befdf10>"
      ]
     },
     "execution_count": 134,
     "metadata": {},
     "output_type": "execute_result"
    },
    {
     "data": {
      "image/png": "[encoded data removed]",
      "text/plain": [
       "<Figure size 640x480 with 1 Axes>"
      ]
     },
     "metadata": {},
     "output_type": "display_data"
    }
   ],
   "source": [
    "import matplotlib.pyplot as plt\n",
    "\n",
    "plt.plot([0.4103, 0.52675, 0.6456], [5, 10, 20], label = 'Purity')\n",
    "plt.plot([ 0.7024, 0.5746, 0.4570], [5, 10, 20], label = 'Gini Index')\n",
    "plt.xlabel('K values')\n",
    "plt.ylabel('Purity and Gini')\n",
    "\n",
    "plt.legend()\n"
   ]
  },
  {
   "cell_type": "markdown",
   "metadata": {},
   "source": [
    "# C) run KMeans on the 20NG Dataset, try K=20"
   ]
  },
  {
   "cell_type": "code",
   "execution_count": 1,
   "metadata": {},
   "outputs": [],
   "source": [
    "import pandas as pd\n",
    "from scipy import stats\n",
    "\n",
    "def gini_index(final_clusters_ind, df_minst, col, N):\n",
    "    if isinstance(df_minst, (pd.DataFrame, pd.Series)):\n",
    "        df_minst = df_minst.to_numpy()\n",
    "\n",
    "    n= len(final_clusters_ind)\n",
    "    ginis = []\n",
    "    for c in range(n):\n",
    "        cluster = np.array(final_clusters_ind[c])\n",
    "        cluster_with_labels = df_minst[cluster, col]\n",
    "        ele, counts = np.unique(cluster_with_labels, return_counts=True)\n",
    "        cluster_gini = 1 - np.sum((counts / np.sum(counts)) ** 2)\n",
    "        ginis.append(cluster_gini)\n",
    "    ginis = np.array(ginis)\n",
    "    weights = np.array([len(i)/N for i in final_clusters_ind])\n",
    "    gini = ginis * weights\n",
    "    return np.sum(gini)\n",
    "\n",
    "\n",
    "\n",
    "def purity(final_clusters_ind, df_minst, N, col):\n",
    "    n = len(final_clusters_ind)\n",
    "    sum = 0\n",
    "\n",
    "    if isinstance(df_minst, (pd.DataFrame, pd.Series)):\n",
    "        df_minst = df_minst.to_numpy()\n",
    "\n",
    "    for i in range(n):\n",
    "        cluster = np.array(final_clusters_ind[i])\n",
    "        cluster_with_labels = df_minst[final_clusters_ind[i], col]\n",
    "        majority, count = stats.mode(cluster_with_labels, keepdims=True)\n",
    "        sum += count[0]\n",
    "\n",
    "    purity = sum/N\n",
    "    return purity\n"
   ]
  },
  {
   "cell_type": "code",
   "execution_count": 2,
   "metadata": {},
   "outputs": [],
   "source": [
    "def read_20ng_and_convert(file_path = '20ng.csv'):\n",
    "    from sklearn.feature_extraction.text import TfidfVectorizer\n",
    "    import pandas as pd\n",
    "\n",
    "    df = pd.read_csv(file_path)\n",
    "    df['index'] = df['index'].str.replace(r'\\d+$', '', regex=True)\n",
    "    classes = [\"alt.atheism\", \"sci.med\", \"sci.electronics\", \"comp.graphics\", \"talk.politics.guns\", \"sci.crypt\"]\n",
    "    df = df[df['index'].isin(classes)]\n",
    "    vectorizer = TfidfVectorizer(use_idf=False, max_features=30000)\n",
    "    sparse_matrix = vectorizer.fit_transform(df['content'])\n",
    "    sparse_df = pd.DataFrame.sparse.from_spmatrix(sparse_matrix, columns=vectorizer.get_feature_names_out())\n",
    "    sparse_df_mean = sparse_df.mean(axis=0)\n",
    "    sparse_std_sub = sparse_df.sparse.to_dense().std(axis=0)\n",
    "    sparse_df = (sparse_df - sparse_df_mean)/sparse_std_sub\n",
    "    sparse_df['index'] = df['index'].to_numpy()\n",
    "    return sparse_df"
   ]
  },
  {
   "cell_type": "code",
   "execution_count": 3,
   "metadata": {},
   "outputs": [],
   "source": [
    "sparse_df = read_20ng_and_convert()"
   ]
  },
  {
   "cell_type": "code",
   "execution_count": 4,
   "metadata": {},
   "outputs": [],
   "source": [
    "df_20ng = sparse_df.drop('index', axis=1)\n",
    "df_20ng = df_20ng.to_numpy()"
   ]
  },
  {
   "cell_type": "code",
   "execution_count": 9,
   "metadata": {},
   "outputs": [
    {
     "name": "stderr",
     "output_type": "stream",
     "text": [
      "Convergence Progress: 100%|██████████| 60/60 [22:36<00:00, 22.60s/it]\n"
     ]
    },
    {
     "name": "stdout",
     "output_type": "stream",
     "text": [
      "purity 0.343\n",
      "gini index 0.7558434556472404\n"
     ]
    }
   ],
   "source": [
    "import numpy as np\n",
    "import warnings\n",
    "warnings.filterwarnings(\"ignore\")\n",
    "\n",
    "k = 20\n",
    "final_clusters_ind2 = converge(df_20ng, k, 60, 'cosine')\n",
    "\n",
    "column_index = sparse_df.columns.get_loc('index')\n",
    "\n",
    "print(\"purity\", purity(final_clusters_ind2, sparse_df, 6000, column_index))\n",
    "print(\"gini index\", gini_index(final_clusters_ind2, sparse_df, column_index, 6000))"
   ]
  },
  {
   "cell_type": "code",
   "execution_count": 10,
   "metadata": {},
   "outputs": [
    {
     "name": "stderr",
     "output_type": "stream",
     "text": [
      "Convergence Progress: 100%|██████████| 60/60 [36:52<00:00, 36.88s/it]\n"
     ]
    },
    {
     "name": "stdout",
     "output_type": "stream",
     "text": [
      "purity 0.35433333333333333\n",
      "gini index 0.7542704175179064\n"
     ]
    }
   ],
   "source": [
    "import numpy as np\n",
    "import warnings\n",
    "warnings.filterwarnings(\"ignore\")\n",
    "\n",
    "k = 20\n",
    "final_clusters_ind_double = converge(df_20ng, k*2, 60, 'cosine')\n",
    "\n",
    "print(\"purity\", purity(final_clusters_ind_double, sparse_df, 6000, column_index))\n",
    "print(\"gini index\", gini_index(final_clusters_ind_double, sparse_df, column_index, 6000))"
   ]
  },
  {
   "cell_type": "code",
   "execution_count": 11,
   "metadata": {},
   "outputs": [
    {
     "name": "stderr",
     "output_type": "stream",
     "text": [
      "Convergence Progress: 100%|██████████| 60/60 [18:05<00:00, 18.09s/it]\n"
     ]
    },
    {
     "name": "stdout",
     "output_type": "stream",
     "text": [
      "purity 0.347\n",
      "gini index 0.7634986825002776\n"
     ]
    }
   ],
   "source": [
    "import numpy as np\n",
    "import warnings\n",
    "warnings.filterwarnings(\"ignore\")\n",
    "\n",
    "k = 20\n",
    "final_clusters_ind_half = converge(df_20ng, k//2, 60, 'cosine')\n",
    "\n",
    "print(\"purity\", purity(final_clusters_ind_half, sparse_df, 6000, column_index))\n",
    "print(\"gini index\", gini_index(final_clusters_ind_half, sparse_df, column_index, 6000))"
   ]
  },
  {
   "cell_type": "markdown",
   "metadata": {},
   "source": [
    "# Soft K means"
   ]
  },
  {
   "cell_type": "code",
   "execution_count": 121,
   "metadata": {},
   "outputs": [],
   "source": [
    "import numpy as np\n",
    "from scipy.spatial.distance import cdist\n",
    "from scipy.special import softmax\n",
    "from tqdm import tqdm\n",
    "\n",
    "def e_step(norm_data, centers, k, b):\n",
    "    distance_matrix = cdist(norm_data, centers, metric='euclidean')\n",
    "    probs = []\n",
    "    for i in range(k):\n",
    "        prob = np.exp(-b * distance_matrix[:, i])\n",
    "        probs.append(prob)\n",
    "    probs = np.array(probs)\n",
    "    probs_sum = np.sum(probs, axis=1)\n",
    "    probs = probs.T/probs_sum\n",
    "    return probs\n",
    "    \n",
    "def m_step(pi_vals, norm_data, k):\n",
    "    n = norm_data.shape[0]\n",
    "    mus = []\n",
    "    for i in range(k):\n",
    "        pi = pi_vals[:, i]\n",
    "        pi_sum = np.sum(pi)\n",
    "        mu = np.sum(norm_data * pi.reshape(n, 1), axis=0) / pi_sum\n",
    "        mus.append(mu)\n",
    "    return np.array(mus)\n",
    "\n",
    "def calculate_obj(norm_data, centers, k, pi_vals):\n",
    "    distance_matrix = cdist(norm_data, centers, metric='euclidean')\n",
    "    objective_val = np.sum(pi_vals * distance_matrix)\n",
    "    return objective_val\n",
    "\n",
    "def converge(norm_data, k_val, max_iter, b, tol=1e-4, dist='euclidean'):\n",
    "    k = k_val\n",
    "    n, s = norm_data.shape\n",
    "    np.random.seed(42)\n",
    "    \n",
    "    centers = np.random.uniform(-1, 1, size=(k, s))\n",
    "\n",
    "    prev_objective_val = np.inf\n",
    "    \n",
    "    for i in tqdm(range(max_iter), desc=\"Convergence Progress\"):\n",
    "        pi_vals = e_step(norm_data, centers, k, b)\n",
    "        mus = m_step(pi_vals, norm_data, k)\n",
    "        objective_val = calculate_obj(norm_data, centers, k, pi_vals)\n",
    "        \n",
    "    \n",
    "    return mus, pi_vals\n"
   ]
  },
  {
   "cell_type": "code",
   "execution_count": null,
   "metadata": {},
   "outputs": [],
   "source": [
    "import numpy as np\n",
    "\n",
    "def calculate_purity(true_labels, pi_vals):\n",
    "    n = pi_vals.shape[0]\n",
    "    k = pi_vals.shape[1]\n",
    "    \n",
    "    clusters = np.argmax(pi_vals, axis=1)\n",
    "    \n",
    "    purity = 0\n",
    "    for cluster in range(k):\n",
    "        cluster_ind = np.where(clusters == cluster)[0]\n",
    "        \n",
    "        if len(cluster_ind) == 0:\n",
    "            continue\n",
    "        \n",
    "        labels = true_labels[cluster_ind]\n",
    "        unique, counts = np.unique(labels, return_counts=True)\n",
    "        mode = np.max(counts)\n",
    "        purity += mode\n",
    "    \n",
    "    purity /= n\n",
    "    return purity\n"
   ]
  },
  {
   "cell_type": "code",
   "execution_count": null,
   "metadata": {},
   "outputs": [],
   "source": [
    "true_labels = df_minst.iloc[:20000, 784].to_numpy()"
   ]
  },
  {
   "cell_type": "code",
   "execution_count": 130,
   "metadata": {},
   "outputs": [
    {
     "name": "stderr",
     "output_type": "stream",
     "text": [
      "Convergence Progress: 100%|██████████| 100/100 [02:10<00:00,  1.30s/it]\n"
     ]
    }
   ],
   "source": [
    "centers, pi_vals = converge(df_minst_x_norm, 10, 100, 0.1)"
   ]
  },
  {
   "cell_type": "code",
   "execution_count": 131,
   "metadata": {},
   "outputs": [
    {
     "name": "stdout",
     "output_type": "stream",
     "text": [
      "Purity:  0.22505\n"
     ]
    }
   ],
   "source": [
    "purity = calculate_purity(true_labels, pi_vals)\n",
    "print(\"Purity: \", purity)"
   ]
  },
  {
   "cell_type": "code",
   "execution_count": 133,
   "metadata": {},
   "outputs": [
    {
     "name": "stderr",
     "output_type": "stream",
     "text": [
      "Convergence Progress: 100%|██████████| 200/200 [04:22<00:00,  1.31s/it]\n"
     ]
    }
   ],
   "source": [
    "centers, pi_vals = converge(df_minst_x_norm, 10, 200, 1)\n"
   ]
  },
  {
   "cell_type": "code",
   "execution_count": 134,
   "metadata": {},
   "outputs": [
    {
     "name": "stdout",
     "output_type": "stream",
     "text": [
      "Purity:  0.207\n"
     ]
    }
   ],
   "source": [
    "purity = calculate_purity(true_labels, pi_vals)\n",
    "print(\"Purity: \", purity)"
   ]
  },
  {
   "cell_type": "code",
   "execution_count": 126,
   "metadata": {},
   "outputs": [
    {
     "name": "stderr",
     "output_type": "stream",
     "text": [
      "Convergence Progress: 100%|██████████| 100/100 [02:09<00:00,  1.30s/it]\n"
     ]
    }
   ],
   "source": [
    "centers, pi_vals = converge(df_minst_x_norm, 10, 100, 10)"
   ]
  },
  {
   "cell_type": "code",
   "execution_count": 127,
   "metadata": {},
   "outputs": [
    {
     "name": "stdout",
     "output_type": "stream",
     "text": [
      "Purity:  0.21025\n"
     ]
    }
   ],
   "source": [
    "purity = calculate_purity(true_labels, pi_vals)\n",
    "print(\"Purity: \", purity)"
   ]
  },
  {
   "cell_type": "code",
   "execution_count": 80,
   "metadata": {},
   "outputs": [
    {
     "name": "stderr",
     "output_type": "stream",
     "text": [
      "Convergence Progress: 100%|██████████| 200/200 [04:20<00:00,  1.30s/it]\n"
     ]
    }
   ],
   "source": [
    "centers, pi_vals = converge(df_minst_x_norm, 10, 200, 3)"
   ]
  },
  {
   "cell_type": "code",
   "execution_count": 116,
   "metadata": {},
   "outputs": [
    {
     "name": "stdout",
     "output_type": "stream",
     "text": [
      "Purity:  0.24535\n"
     ]
    }
   ],
   "source": [
    "purity = calculate_purity(true_labels, pi_vals)\n",
    "print(\"Purity: \", purity)"
   ]
  },
  {
   "cell_type": "markdown",
   "metadata": {},
   "source": [
    "For beta = 0.1 we get 0.20 <br>\n",
    "For beta = 1 we get 0.21 <br>\n",
    "For beta = 10 we get 0.24 <br>"
   ]
  }
 ],
 "metadata": {
  "kernelspec": {
   "display_name": "myenv",
   "language": "python",
   "name": "python3"
  },
  "language_info": {
   "codemirror_mode": {
    "name": "ipython",
    "version": 3
   },
   "file_extension": ".py",
   "mimetype": "text/x-python",
   "name": "python",
   "nbconvert_exporter": "python",
   "pygments_lexer": "ipython3",
   "version": "3.8.20"
  },
  "orig_nbformat": 4
 },
 "nbformat": 4,
 "nbformat_minor": 2
}
