{
 "cells": [
  {
   "cell_type": "markdown",
   "metadata": {},
   "source": [
    "# PROBLEM 1: Aminer : basic dataset analysis\n"
   ]
  },
  {
   "cell_type": "markdown",
   "metadata": {},
   "source": [
    "## Preprocessing\n"
   ]
  },
  {
   "cell_type": "code",
   "execution_count": 74,
   "metadata": {},
   "outputs": [],
   "source": [
    "import pandas as pd\n",
    "import numpy as np\n",
    "\n",
    "file = \"acm.txt\"\n",
    "\n",
    "title, author, year, venue, id, abstract, reference_id = [], [], [], [], [], [], []\n",
    "reference = []\n",
    "\n",
    "with open(input_file, \"r\") as file:\n",
    "    for line in file:\n",
    "        line = line.strip()\n",
    "        if line == \"\":\n",
    "            reference_id.append(reference)\n",
    "            if len(year) < len(id):\n",
    "                year.append(None)\n",
    "            if len(venue) < len(id):\n",
    "                venue.append(None)\n",
    "            if len(abstract) < len(id):\n",
    "                abstract.append(None)\n",
    "            if len(author) < len(id):\n",
    "                author.append([])\n",
    "            if len(title) < len(id):\n",
    "                title.append(None)\n",
    "\n",
    "            if (\n",
    "                len(year) != len(venue)\n",
    "                or len(venue) != len(year)\n",
    "                or len(year) != len(id)\n",
    "                or len(id) != len(abstract)\n",
    "                or len(abstract) != len(author)\n",
    "            ):\n",
    "                break\n",
    "            reference = []\n",
    "\n",
    "        if line.startswith(\"#*\"):\n",
    "            title.append(line[2:].strip())\n",
    "        elif line.startswith(\"#@\"):\n",
    "            auth = line[2:].strip().split(\",\")\n",
    "            author.append(auth)\n",
    "        elif line.startswith(\"#t\"):\n",
    "            year.append(line[2:].strip())\n",
    "        elif line.startswith(\"#c\"):\n",
    "            venue.append(line[2:].strip())\n",
    "        elif line.startswith(\"#index\"):\n",
    "            id.append(line[6:].strip())\n",
    "        elif line.startswith(\"#%\"):\n",
    "            reference.append(line[2:].strip())\n",
    "\n",
    "\n",
    "df = pd.DataFrame({\"Title\": title, \"Year\": year, \"Venue\": venue, \"Index\": id})"
   ]
  },
  {
   "cell_type": "code",
   "execution_count": 92,
   "metadata": {},
   "outputs": [
    {
     "data": {
      "text/plain": [
       "Index     2233982\n",
       "Author    1651475\n",
       "dtype: int64"
      ]
     },
     "execution_count": 92,
     "metadata": {},
     "output_type": "execute_result"
    }
   ],
   "source": [
    "df_auth.nunique()"
   ]
  },
  {
   "cell_type": "code",
   "execution_count": 99,
   "metadata": {},
   "outputs": [
    {
     "data": {
      "text/plain": [
       "22"
      ]
     },
     "execution_count": 99,
     "metadata": {},
     "output_type": "execute_result"
    }
   ],
   "source": [
    "len(df_auth[df_auth['Author'] == 'Andrea Bracciali'])"
   ]
  },
  {
   "cell_type": "code",
   "execution_count": 106,
   "metadata": {},
   "outputs": [
    {
     "data": {
      "text/plain": [
       "4458"
      ]
     },
     "execution_count": 106,
     "metadata": {},
     "output_type": "execute_result"
    }
   ],
   "source": [
    "len(df_auth[df_auth['Author'] == '-'])"
   ]
  },
  {
   "cell_type": "code",
   "execution_count": 100,
   "metadata": {},
   "outputs": [
    {
     "data": {
      "text/html": [
       "<div>\n",
       "<style scoped>\n",
       "    .dataframe tbody tr th:only-of-type {\n",
       "        vertical-align: middle;\n",
       "    }\n",
       "\n",
       "    .dataframe tbody tr th {\n",
       "        vertical-align: top;\n",
       "    }\n",
       "\n",
       "    .dataframe thead th {\n",
       "        text-align: right;\n",
       "    }\n",
       "</style>\n",
       "<table border=\"1\" class=\"dataframe\">\n",
       "  <thead>\n",
       "    <tr style=\"text-align: right;\">\n",
       "      <th></th>\n",
       "      <th>Index</th>\n",
       "      <th>Author</th>\n",
       "      <th>Title</th>\n",
       "      <th>Year</th>\n",
       "      <th>Venue</th>\n",
       "    </tr>\n",
       "  </thead>\n",
       "  <tbody>\n",
       "    <tr>\n",
       "      <th>0</th>\n",
       "      <td>2</td>\n",
       "      <td>Virgil D. Gligor</td>\n",
       "      <td>The verification of the protection mechanisms ...</td>\n",
       "      <td>1984.0</td>\n",
       "      <td>International Journal of Parallel Programming</td>\n",
       "    </tr>\n",
       "    <tr>\n",
       "      <th>1</th>\n",
       "      <td>3</td>\n",
       "      <td>M. Gyssens</td>\n",
       "      <td>Another view of functional and multivalued dep...</td>\n",
       "      <td>1984.0</td>\n",
       "      <td>International Journal of Parallel Programming</td>\n",
       "    </tr>\n",
       "    <tr>\n",
       "      <th>2</th>\n",
       "      <td>3</td>\n",
       "      <td>J. Paredaens</td>\n",
       "      <td>Another view of functional and multivalued dep...</td>\n",
       "      <td>1984.0</td>\n",
       "      <td>International Journal of Parallel Programming</td>\n",
       "    </tr>\n",
       "    <tr>\n",
       "      <th>3</th>\n",
       "      <td>4</td>\n",
       "      <td>Sushil Jajodia</td>\n",
       "      <td>Entity-relationship diagrams which are in BCNF</td>\n",
       "      <td>1984.0</td>\n",
       "      <td>International Journal of Parallel Programming</td>\n",
       "    </tr>\n",
       "    <tr>\n",
       "      <th>4</th>\n",
       "      <td>4</td>\n",
       "      <td>Peter A. Ng</td>\n",
       "      <td>Entity-relationship diagrams which are in BCNF</td>\n",
       "      <td>1984.0</td>\n",
       "      <td>International Journal of Parallel Programming</td>\n",
       "    </tr>\n",
       "  </tbody>\n",
       "</table>\n",
       "</div>"
      ],
      "text/plain": [
       "   Index            Author                                              Title  \\\n",
       "0      2  Virgil D. Gligor  The verification of the protection mechanisms ...   \n",
       "1      3        M. Gyssens  Another view of functional and multivalued dep...   \n",
       "2      3      J. Paredaens  Another view of functional and multivalued dep...   \n",
       "3      4    Sushil Jajodia     Entity-relationship diagrams which are in BCNF   \n",
       "4      4       Peter A. Ng     Entity-relationship diagrams which are in BCNF   \n",
       "\n",
       "     Year                                          Venue  \n",
       "0  1984.0  International Journal of Parallel Programming  \n",
       "1  1984.0  International Journal of Parallel Programming  \n",
       "2  1984.0  International Journal of Parallel Programming  \n",
       "3  1984.0  International Journal of Parallel Programming  \n",
       "4  1984.0  International Journal of Parallel Programming  "
      ]
     },
     "execution_count": 100,
     "metadata": {},
     "output_type": "execute_result"
    }
   ],
   "source": [
    "result = pd.merge(df_auth, df, on='Index', how='left')\n",
    "result.head()"
   ]
  },
  {
   "cell_type": "code",
   "execution_count": 104,
   "metadata": {},
   "outputs": [
    {
     "data": {
      "text/plain": [
       "array(['Coordinating interaction patterns', 'Bisimulation by Unification',\n",
       "       'Security and Dynamic Compositions of Open Systems',\n",
       "       'Dynamically Adapting the Behaviour of Software Components',\n",
       "       'Adapting Components with Mismatching Behaviours',\n",
       "       'A formal approach to component adaptation',\n",
       "       'A symbolic framework for multi-faceted security protocol analysis',\n",
       "       'Abduction and legal reasoning',\n",
       "       'Synapses as stochastic concurrent systems',\n",
       "       'Control Flow Analysis for Brane Calculi',\n",
       "       'On Symbolic Semantics for Name-decorated Contexts',\n",
       "       'A Coordination-based Methodology for Security Protocol Verification',\n",
       "       'Deducing interactions in partially unspecified biological systems',\n",
       "       'Expressive models for synaptic plasticity',\n",
       "       'Modelling non-linear crowd dynamics in bio-PEPA',\n",
       "       'StochKit-FF: efficient systems biology on multicore architectures',\n",
       "       'A new framework for knowledge revision of abductive agents through their interaction',\n",
       "       'On modelling multi-agent systems declaratively',\n",
       "       'Symbolic equivalences for open systems',\n",
       "       'Engineering stable multi-agent systems',\n",
       "       'Survival vs. revenue: modelling and reasoning on population dynamics (WIP)'],\n",
       "      dtype=object)"
      ]
     },
     "execution_count": 104,
     "metadata": {},
     "output_type": "execute_result"
    }
   ],
   "source": [
    "result[result['Author'] == 'Andrea Bracciali']['Title'].unique()"
   ]
  },
  {
   "cell_type": "code",
   "execution_count": 96,
   "metadata": {},
   "outputs": [
    {
     "data": {
      "text/html": [
       "<div>\n",
       "<style scoped>\n",
       "    .dataframe tbody tr th:only-of-type {\n",
       "        vertical-align: middle;\n",
       "    }\n",
       "\n",
       "    .dataframe tbody tr th {\n",
       "        vertical-align: top;\n",
       "    }\n",
       "\n",
       "    .dataframe thead th {\n",
       "        text-align: right;\n",
       "    }\n",
       "</style>\n",
       "<table border=\"1\" class=\"dataframe\">\n",
       "  <thead>\n",
       "    <tr style=\"text-align: right;\">\n",
       "      <th></th>\n",
       "      <th>Title</th>\n",
       "      <th>Year</th>\n",
       "      <th>Venue</th>\n",
       "      <th>Index</th>\n",
       "    </tr>\n",
       "  </thead>\n",
       "  <tbody>\n",
       "    <tr>\n",
       "      <th>0</th>\n",
       "      <td>MOSFET table look-up models for circuit simula...</td>\n",
       "      <td>1984.0</td>\n",
       "      <td>Integration, the VLSI Journal</td>\n",
       "      <td>1</td>\n",
       "    </tr>\n",
       "    <tr>\n",
       "      <th>1</th>\n",
       "      <td>The verification of the protection mechanisms ...</td>\n",
       "      <td>1984.0</td>\n",
       "      <td>International Journal of Parallel Programming</td>\n",
       "      <td>2</td>\n",
       "    </tr>\n",
       "    <tr>\n",
       "      <th>2</th>\n",
       "      <td>Another view of functional and multivalued dep...</td>\n",
       "      <td>1984.0</td>\n",
       "      <td>International Journal of Parallel Programming</td>\n",
       "      <td>3</td>\n",
       "    </tr>\n",
       "    <tr>\n",
       "      <th>3</th>\n",
       "      <td>Entity-relationship diagrams which are in BCNF</td>\n",
       "      <td>1984.0</td>\n",
       "      <td>International Journal of Parallel Programming</td>\n",
       "      <td>4</td>\n",
       "    </tr>\n",
       "    <tr>\n",
       "      <th>4</th>\n",
       "      <td>The computer comes of age</td>\n",
       "      <td>1984.0</td>\n",
       "      <td>The computer comes of age</td>\n",
       "      <td>5</td>\n",
       "    </tr>\n",
       "  </tbody>\n",
       "</table>\n",
       "</div>"
      ],
      "text/plain": [
       "                                               Title    Year  \\\n",
       "0  MOSFET table look-up models for circuit simula...  1984.0   \n",
       "1  The verification of the protection mechanisms ...  1984.0   \n",
       "2  Another view of functional and multivalued dep...  1984.0   \n",
       "3     Entity-relationship diagrams which are in BCNF  1984.0   \n",
       "4                          The computer comes of age  1984.0   \n",
       "\n",
       "                                           Venue  Index  \n",
       "0                  Integration, the VLSI Journal      1  \n",
       "1  International Journal of Parallel Programming      2  \n",
       "2  International Journal of Parallel Programming      3  \n",
       "3  International Journal of Parallel Programming      4  \n",
       "4                      The computer comes of age      5  "
      ]
     },
     "execution_count": 96,
     "metadata": {},
     "output_type": "execute_result"
    }
   ],
   "source": [
    "df.head()"
   ]
  },
  {
   "cell_type": "code",
   "execution_count": 90,
   "metadata": {},
   "outputs": [
    {
     "data": {
      "text/html": [
       "<div>\n",
       "<style scoped>\n",
       "    .dataframe tbody tr th:only-of-type {\n",
       "        vertical-align: middle;\n",
       "    }\n",
       "\n",
       "    .dataframe tbody tr th {\n",
       "        vertical-align: top;\n",
       "    }\n",
       "\n",
       "    .dataframe thead th {\n",
       "        text-align: right;\n",
       "    }\n",
       "</style>\n",
       "<table border=\"1\" class=\"dataframe\">\n",
       "  <thead>\n",
       "    <tr style=\"text-align: right;\">\n",
       "      <th></th>\n",
       "      <th>Title</th>\n",
       "      <th>Year</th>\n",
       "      <th>Venue</th>\n",
       "      <th>Index</th>\n",
       "    </tr>\n",
       "  </thead>\n",
       "  <tbody>\n",
       "    <tr>\n",
       "      <th>2385061</th>\n",
       "      <td>Editorial Board</td>\n",
       "      <td>2016.0</td>\n",
       "      <td>Theoretical Computer Science</td>\n",
       "      <td>2385062</td>\n",
       "    </tr>\n",
       "    <tr>\n",
       "      <th>2385062</th>\n",
       "      <td>Linear-time computation of prefix table for we...</td>\n",
       "      <td>2016.0</td>\n",
       "      <td>Theoretical Computer Science</td>\n",
       "      <td>2385063</td>\n",
       "    </tr>\n",
       "    <tr>\n",
       "      <th>2385063</th>\n",
       "      <td>A space-efficient alphabet-independent Four-Ru...</td>\n",
       "      <td>2016.0</td>\n",
       "      <td>Theoretical Computer Science</td>\n",
       "      <td>2385064</td>\n",
       "    </tr>\n",
       "    <tr>\n",
       "      <th>2385064</th>\n",
       "      <td>Computers in Entertainment (CIE) - Special Iss...</td>\n",
       "      <td>2016.0</td>\n",
       "      <td>Computers in Entertainment (CIE)</td>\n",
       "      <td>2385065</td>\n",
       "    </tr>\n",
       "    <tr>\n",
       "      <th>2385065</th>\n",
       "      <td>Computers in Entertainment (CIE) - Special Iss...</td>\n",
       "      <td>2016.0</td>\n",
       "      <td>Computers in Entertainment (CIE)</td>\n",
       "      <td>2385066</td>\n",
       "    </tr>\n",
       "  </tbody>\n",
       "</table>\n",
       "</div>"
      ],
      "text/plain": [
       "                                                     Title    Year  \\\n",
       "2385061                                    Editorial Board  2016.0   \n",
       "2385062  Linear-time computation of prefix table for we...  2016.0   \n",
       "2385063  A space-efficient alphabet-independent Four-Ru...  2016.0   \n",
       "2385064  Computers in Entertainment (CIE) - Special Iss...  2016.0   \n",
       "2385065  Computers in Entertainment (CIE) - Special Iss...  2016.0   \n",
       "\n",
       "                                    Venue    Index  \n",
       "2385061      Theoretical Computer Science  2385062  \n",
       "2385062      Theoretical Computer Science  2385063  \n",
       "2385063      Theoretical Computer Science  2385064  \n",
       "2385064  Computers in Entertainment (CIE)  2385065  \n",
       "2385065  Computers in Entertainment (CIE)  2385066  "
      ]
     },
     "execution_count": 90,
     "metadata": {},
     "output_type": "execute_result"
    }
   ],
   "source": [
    "df.tail()"
   ]
  },
  {
   "cell_type": "code",
   "execution_count": 11,
   "metadata": {},
   "outputs": [
    {
     "data": {
      "text/html": [
       "<div>\n",
       "<style scoped>\n",
       "    .dataframe tbody tr th:only-of-type {\n",
       "        vertical-align: middle;\n",
       "    }\n",
       "\n",
       "    .dataframe tbody tr th {\n",
       "        vertical-align: top;\n",
       "    }\n",
       "\n",
       "    .dataframe thead th {\n",
       "        text-align: right;\n",
       "    }\n",
       "</style>\n",
       "<table border=\"1\" class=\"dataframe\">\n",
       "  <thead>\n",
       "    <tr style=\"text-align: right;\">\n",
       "      <th></th>\n",
       "      <th>Title</th>\n",
       "      <th>Year</th>\n",
       "      <th>Venue</th>\n",
       "      <th>Index</th>\n",
       "    </tr>\n",
       "  </thead>\n",
       "  <tbody>\n",
       "    <tr>\n",
       "      <th>0</th>\n",
       "      <td>MOSFET table look-up models for circuit simula...</td>\n",
       "      <td>1984</td>\n",
       "      <td>Integration, the VLSI Journal</td>\n",
       "      <td>1</td>\n",
       "    </tr>\n",
       "    <tr>\n",
       "      <th>1</th>\n",
       "      <td>The verification of the protection mechanisms ...</td>\n",
       "      <td>1984</td>\n",
       "      <td>International Journal of Parallel Programming</td>\n",
       "      <td>2</td>\n",
       "    </tr>\n",
       "    <tr>\n",
       "      <th>2</th>\n",
       "      <td>Another view of functional and multivalued dep...</td>\n",
       "      <td>1984</td>\n",
       "      <td>International Journal of Parallel Programming</td>\n",
       "      <td>3</td>\n",
       "    </tr>\n",
       "    <tr>\n",
       "      <th>3</th>\n",
       "      <td>Entity-relationship diagrams which are in BCNF</td>\n",
       "      <td>1984</td>\n",
       "      <td>International Journal of Parallel Programming</td>\n",
       "      <td>4</td>\n",
       "    </tr>\n",
       "    <tr>\n",
       "      <th>4</th>\n",
       "      <td>The computer comes of age</td>\n",
       "      <td>1984</td>\n",
       "      <td>The computer comes of age</td>\n",
       "      <td>5</td>\n",
       "    </tr>\n",
       "  </tbody>\n",
       "</table>\n",
       "</div>"
      ],
      "text/plain": [
       "                                               Title  Year  \\\n",
       "0  MOSFET table look-up models for circuit simula...  1984   \n",
       "1  The verification of the protection mechanisms ...  1984   \n",
       "2  Another view of functional and multivalued dep...  1984   \n",
       "3     Entity-relationship diagrams which are in BCNF  1984   \n",
       "4                          The computer comes of age  1984   \n",
       "\n",
       "                                           Venue Index  \n",
       "0                  Integration, the VLSI Journal     1  \n",
       "1  International Journal of Parallel Programming     2  \n",
       "2  International Journal of Parallel Programming     3  \n",
       "3  International Journal of Parallel Programming     4  \n",
       "4                      The computer comes of age     5  "
      ]
     },
     "execution_count": 11,
     "metadata": {},
     "output_type": "execute_result"
    }
   ],
   "source": [
    "df.head()"
   ]
  },
  {
   "cell_type": "code",
   "execution_count": 16,
   "metadata": {},
   "outputs": [],
   "source": [
    "reference_data = {\n",
    "    \"Index\": [],\n",
    "    \"Reference_Id\": []\n",
    "}\n",
    "\n",
    "for idx, refs in zip(id, reference_id):\n",
    "    for ref in refs:\n",
    "        reference_data[\"Index\"].append(idx)\n",
    "        reference_data[\"Reference_Id\"].append(ref)\n",
    "\n",
    "df_ref = pd.DataFrame(reference_data)"
   ]
  },
  {
   "cell_type": "code",
   "execution_count": 86,
   "metadata": {},
   "outputs": [
    {
     "data": {
      "text/plain": [
       "(2385066, 4)"
      ]
     },
     "execution_count": 86,
     "metadata": {},
     "output_type": "execute_result"
    }
   ],
   "source": [
    "df.shape"
   ]
  },
  {
   "cell_type": "code",
   "execution_count": 93,
   "metadata": {},
   "outputs": [
    {
     "data": {
      "text/plain": [
       "Index     2233982\n",
       "Author    1651475\n",
       "dtype: int64"
      ]
     },
     "execution_count": 93,
     "metadata": {},
     "output_type": "execute_result"
    }
   ],
   "source": [
    "df_auth.nunique()"
   ]
  },
  {
   "cell_type": "code",
   "execution_count": 17,
   "metadata": {},
   "outputs": [],
   "source": [
    "author_data = {\n",
    "    \"Index\": [],\n",
    "    \"Author\": []\n",
    "}\n",
    "\n",
    "for idx, auths in zip(id, author):\n",
    "    for auth in auths:\n",
    "        # cleaned_auth = auth.strip(\"*†\\\" \").strip()\n",
    "        cleaned_auth = auth.replace('\"', '').strip(\"*† \").strip()\n",
    "        if cleaned_auth == '':\n",
    "            continue\n",
    "        author_data[\"Index\"].append(idx)\n",
    "        author_data[\"Author\"].append(cleaned_auth)\n",
    "\n",
    "df_auth = pd.DataFrame(author_data)"
   ]
  },
  {
   "cell_type": "code",
   "execution_count": 18,
   "metadata": {},
   "outputs": [
    {
     "data": {
      "text/html": [
       "<div>\n",
       "<style scoped>\n",
       "    .dataframe tbody tr th:only-of-type {\n",
       "        vertical-align: middle;\n",
       "    }\n",
       "\n",
       "    .dataframe tbody tr th {\n",
       "        vertical-align: top;\n",
       "    }\n",
       "\n",
       "    .dataframe thead th {\n",
       "        text-align: right;\n",
       "    }\n",
       "</style>\n",
       "<table border=\"1\" class=\"dataframe\">\n",
       "  <thead>\n",
       "    <tr style=\"text-align: right;\">\n",
       "      <th></th>\n",
       "      <th>Index</th>\n",
       "      <th>Author</th>\n",
       "    </tr>\n",
       "  </thead>\n",
       "  <tbody>\n",
       "    <tr>\n",
       "      <th>0</th>\n",
       "      <td>2</td>\n",
       "      <td>Virgil D. Gligor</td>\n",
       "    </tr>\n",
       "    <tr>\n",
       "      <th>1</th>\n",
       "      <td>3</td>\n",
       "      <td>M. Gyssens</td>\n",
       "    </tr>\n",
       "    <tr>\n",
       "      <th>2</th>\n",
       "      <td>3</td>\n",
       "      <td>J. Paredaens</td>\n",
       "    </tr>\n",
       "    <tr>\n",
       "      <th>3</th>\n",
       "      <td>4</td>\n",
       "      <td>Sushil Jajodia</td>\n",
       "    </tr>\n",
       "    <tr>\n",
       "      <th>4</th>\n",
       "      <td>4</td>\n",
       "      <td>Peter A. Ng</td>\n",
       "    </tr>\n",
       "  </tbody>\n",
       "</table>\n",
       "</div>"
      ],
      "text/plain": [
       "  Index            Author\n",
       "0     2  Virgil D. Gligor\n",
       "1     3        M. Gyssens\n",
       "2     3      J. Paredaens\n",
       "3     4    Sushil Jajodia\n",
       "4     4       Peter A. Ng"
      ]
     },
     "execution_count": 18,
     "metadata": {},
     "output_type": "execute_result"
    }
   ],
   "source": [
    "df_auth.head()"
   ]
  },
  {
   "cell_type": "code",
   "execution_count": 88,
   "metadata": {},
   "outputs": [
    {
     "data": {
      "text/plain": [
       "2183550"
      ]
     },
     "execution_count": 88,
     "metadata": {},
     "output_type": "execute_result"
    }
   ],
   "source": [
    "df['Title'].nunique()"
   ]
  },
  {
   "cell_type": "code",
   "execution_count": 89,
   "metadata": {},
   "outputs": [
    {
     "data": {
      "text/plain": [
       "1651475"
      ]
     },
     "execution_count": 89,
     "metadata": {},
     "output_type": "execute_result"
    }
   ],
   "source": [
    "df_auth['Author'].nunique()"
   ]
  },
  {
   "cell_type": "code",
   "execution_count": 81,
   "metadata": {},
   "outputs": [
    {
     "data": {
      "text/html": [
       "<div>\n",
       "<style scoped>\n",
       "    .dataframe tbody tr th:only-of-type {\n",
       "        vertical-align: middle;\n",
       "    }\n",
       "\n",
       "    .dataframe tbody tr th {\n",
       "        vertical-align: top;\n",
       "    }\n",
       "\n",
       "    .dataframe thead th {\n",
       "        text-align: right;\n",
       "    }\n",
       "</style>\n",
       "<table border=\"1\" class=\"dataframe\">\n",
       "  <thead>\n",
       "    <tr style=\"text-align: right;\">\n",
       "      <th></th>\n",
       "      <th>Index</th>\n",
       "      <th>Author</th>\n",
       "    </tr>\n",
       "  </thead>\n",
       "  <tbody>\n",
       "    <tr>\n",
       "      <th>1055</th>\n",
       "      <td>608</td>\n",
       "      <td>Franco Turini</td>\n",
       "    </tr>\n",
       "    <tr>\n",
       "      <th>3234</th>\n",
       "      <td>1907</td>\n",
       "      <td>Franco Turini</td>\n",
       "    </tr>\n",
       "    <tr>\n",
       "      <th>41438</th>\n",
       "      <td>25053</td>\n",
       "      <td>Franco Turini</td>\n",
       "    </tr>\n",
       "    <tr>\n",
       "      <th>115558</th>\n",
       "      <td>68418</td>\n",
       "      <td>Franco Turini</td>\n",
       "    </tr>\n",
       "    <tr>\n",
       "      <th>140954</th>\n",
       "      <td>82388</td>\n",
       "      <td>Franco Turini</td>\n",
       "    </tr>\n",
       "    <tr>\n",
       "      <th>...</th>\n",
       "      <td>...</td>\n",
       "      <td>...</td>\n",
       "    </tr>\n",
       "    <tr>\n",
       "      <th>4403938</th>\n",
       "      <td>1796946</td>\n",
       "      <td>Franco Turini</td>\n",
       "    </tr>\n",
       "    <tr>\n",
       "      <th>4910548</th>\n",
       "      <td>1979088</td>\n",
       "      <td>Franco Turini</td>\n",
       "    </tr>\n",
       "    <tr>\n",
       "      <th>4985800</th>\n",
       "      <td>2002093</td>\n",
       "      <td>Franco Turini</td>\n",
       "    </tr>\n",
       "    <tr>\n",
       "      <th>5233244</th>\n",
       "      <td>2084004</td>\n",
       "      <td>Franco Turini</td>\n",
       "    </tr>\n",
       "    <tr>\n",
       "      <th>5639193</th>\n",
       "      <td>2313873</td>\n",
       "      <td>Franco Turini</td>\n",
       "    </tr>\n",
       "  </tbody>\n",
       "</table>\n",
       "<p>65 rows × 2 columns</p>\n",
       "</div>"
      ],
      "text/plain": [
       "           Index         Author\n",
       "1055         608  Franco Turini\n",
       "3234        1907  Franco Turini\n",
       "41438      25053  Franco Turini\n",
       "115558     68418  Franco Turini\n",
       "140954     82388  Franco Turini\n",
       "...          ...            ...\n",
       "4403938  1796946  Franco Turini\n",
       "4910548  1979088  Franco Turini\n",
       "4985800  2002093  Franco Turini\n",
       "5233244  2084004  Franco Turini\n",
       "5639193  2313873  Franco Turini\n",
       "\n",
       "[65 rows x 2 columns]"
      ]
     },
     "execution_count": 81,
     "metadata": {},
     "output_type": "execute_result"
    }
   ],
   "source": [
    "df_auth[df_auth['Author'] == 'Franco Turini']"
   ]
  },
  {
   "cell_type": "code",
   "execution_count": 19,
   "metadata": {},
   "outputs": [
    {
     "data": {
      "text/html": [
       "<div>\n",
       "<style scoped>\n",
       "    .dataframe tbody tr th:only-of-type {\n",
       "        vertical-align: middle;\n",
       "    }\n",
       "\n",
       "    .dataframe tbody tr th {\n",
       "        vertical-align: top;\n",
       "    }\n",
       "\n",
       "    .dataframe thead th {\n",
       "        text-align: right;\n",
       "    }\n",
       "</style>\n",
       "<table border=\"1\" class=\"dataframe\">\n",
       "  <thead>\n",
       "    <tr style=\"text-align: right;\">\n",
       "      <th></th>\n",
       "      <th>Index</th>\n",
       "      <th>Reference_Id</th>\n",
       "    </tr>\n",
       "  </thead>\n",
       "  <tbody>\n",
       "    <tr>\n",
       "      <th>0</th>\n",
       "      <td>9</td>\n",
       "      <td>289258</td>\n",
       "    </tr>\n",
       "    <tr>\n",
       "      <th>1</th>\n",
       "      <td>9</td>\n",
       "      <td>2135000</td>\n",
       "    </tr>\n",
       "    <tr>\n",
       "      <th>2</th>\n",
       "      <td>10</td>\n",
       "      <td>2135000</td>\n",
       "    </tr>\n",
       "    <tr>\n",
       "      <th>3</th>\n",
       "      <td>11</td>\n",
       "      <td>289023</td>\n",
       "    </tr>\n",
       "    <tr>\n",
       "      <th>4</th>\n",
       "      <td>11</td>\n",
       "      <td>408637</td>\n",
       "    </tr>\n",
       "  </tbody>\n",
       "</table>\n",
       "</div>"
      ],
      "text/plain": [
       "  Index Reference_Id\n",
       "0     9       289258\n",
       "1     9      2135000\n",
       "2    10      2135000\n",
       "3    11       289023\n",
       "4    11       408637"
      ]
     },
     "execution_count": 19,
     "metadata": {},
     "output_type": "execute_result"
    }
   ],
   "source": [
    "df_ref.head()"
   ]
  },
  {
   "cell_type": "code",
   "execution_count": 94,
   "metadata": {},
   "outputs": [
    {
     "data": {
      "text/plain": [
       "(5718609, 2)"
      ]
     },
     "execution_count": 94,
     "metadata": {},
     "output_type": "execute_result"
    }
   ],
   "source": [
    "df_auth.shape"
   ]
  },
  {
   "cell_type": "code",
   "execution_count": 20,
   "metadata": {},
   "outputs": [],
   "source": [
    "df_ref.to_csv('df_ref.csv', index=False)\n",
    "df.to_csv('df.csv', index=False)\n",
    "df_auth.to_csv('df_auth.csv', index=False)"
   ]
  },
  {
   "cell_type": "code",
   "execution_count": 21,
   "metadata": {},
   "outputs": [
    {
     "data": {
      "text/plain": [
       "Title      44\n",
       "Year     8428\n",
       "Venue     138\n",
       "Index       0\n",
       "dtype: int64"
      ]
     },
     "execution_count": 21,
     "metadata": {},
     "output_type": "execute_result"
    }
   ],
   "source": [
    "df.isnull().sum()"
   ]
  },
  {
   "cell_type": "code",
   "execution_count": 22,
   "metadata": {},
   "outputs": [
    {
     "data": {
      "text/plain": [
       "Index     0\n",
       "Author    0\n",
       "dtype: int64"
      ]
     },
     "execution_count": 22,
     "metadata": {},
     "output_type": "execute_result"
    }
   ],
   "source": [
    "df_auth.isnull().sum()"
   ]
  },
  {
   "cell_type": "code",
   "execution_count": 23,
   "metadata": {},
   "outputs": [
    {
     "data": {
      "text/plain": [
       "(2385066, 4)"
      ]
     },
     "execution_count": 23,
     "metadata": {},
     "output_type": "execute_result"
    }
   ],
   "source": [
    "df.shape"
   ]
  },
  {
   "cell_type": "markdown",
   "metadata": {},
   "source": [
    "## A. Compute the number of distinct authors, publication venues, publications, and citations/references\n"
   ]
  },
  {
   "cell_type": "code",
   "execution_count": 1,
   "metadata": {},
   "outputs": [],
   "source": [
    "import pandas as pd\n",
    "import numpy as np\n",
    "import matplotlib.pyplot as plt\n",
    "import seaborn as sns"
   ]
  },
  {
   "cell_type": "code",
   "execution_count": 2,
   "metadata": {},
   "outputs": [],
   "source": [
    "import pandas as pd\n",
    "\n",
    "df_ref = pd.read_csv('df_ref.csv')\n",
    "df = pd.read_csv('df.csv')\n",
    "df_auth = pd.read_csv('df_auth.csv')"
   ]
  },
  {
   "cell_type": "code",
   "execution_count": 3,
   "metadata": {},
   "outputs": [
    {
     "data": {
      "text/html": [
       "<div>\n",
       "<style scoped>\n",
       "    .dataframe tbody tr th:only-of-type {\n",
       "        vertical-align: middle;\n",
       "    }\n",
       "\n",
       "    .dataframe tbody tr th {\n",
       "        vertical-align: top;\n",
       "    }\n",
       "\n",
       "    .dataframe thead th {\n",
       "        text-align: right;\n",
       "    }\n",
       "</style>\n",
       "<table border=\"1\" class=\"dataframe\">\n",
       "  <thead>\n",
       "    <tr style=\"text-align: right;\">\n",
       "      <th></th>\n",
       "      <th>Index</th>\n",
       "      <th>Reference_Id</th>\n",
       "    </tr>\n",
       "  </thead>\n",
       "  <tbody>\n",
       "    <tr>\n",
       "      <th>0</th>\n",
       "      <td>9</td>\n",
       "      <td>289258</td>\n",
       "    </tr>\n",
       "    <tr>\n",
       "      <th>1</th>\n",
       "      <td>9</td>\n",
       "      <td>2135000</td>\n",
       "    </tr>\n",
       "    <tr>\n",
       "      <th>2</th>\n",
       "      <td>10</td>\n",
       "      <td>2135000</td>\n",
       "    </tr>\n",
       "    <tr>\n",
       "      <th>3</th>\n",
       "      <td>11</td>\n",
       "      <td>289023</td>\n",
       "    </tr>\n",
       "    <tr>\n",
       "      <th>4</th>\n",
       "      <td>11</td>\n",
       "      <td>408637</td>\n",
       "    </tr>\n",
       "  </tbody>\n",
       "</table>\n",
       "</div>"
      ],
      "text/plain": [
       "   Index  Reference_Id\n",
       "0      9        289258\n",
       "1      9       2135000\n",
       "2     10       2135000\n",
       "3     11        289023\n",
       "4     11        408637"
      ]
     },
     "execution_count": 3,
     "metadata": {},
     "output_type": "execute_result"
    }
   ],
   "source": [
    "df_ref.head()"
   ]
  },
  {
   "cell_type": "code",
   "execution_count": 4,
   "metadata": {},
   "outputs": [
    {
     "data": {
      "text/html": [
       "<div>\n",
       "<style scoped>\n",
       "    .dataframe tbody tr th:only-of-type {\n",
       "        vertical-align: middle;\n",
       "    }\n",
       "\n",
       "    .dataframe tbody tr th {\n",
       "        vertical-align: top;\n",
       "    }\n",
       "\n",
       "    .dataframe thead th {\n",
       "        text-align: right;\n",
       "    }\n",
       "</style>\n",
       "<table border=\"1\" class=\"dataframe\">\n",
       "  <thead>\n",
       "    <tr style=\"text-align: right;\">\n",
       "      <th></th>\n",
       "      <th>Index</th>\n",
       "      <th>Author</th>\n",
       "    </tr>\n",
       "  </thead>\n",
       "  <tbody>\n",
       "    <tr>\n",
       "      <th>0</th>\n",
       "      <td>2</td>\n",
       "      <td>Virgil D. Gligor</td>\n",
       "    </tr>\n",
       "    <tr>\n",
       "      <th>1</th>\n",
       "      <td>3</td>\n",
       "      <td>M. Gyssens</td>\n",
       "    </tr>\n",
       "    <tr>\n",
       "      <th>2</th>\n",
       "      <td>3</td>\n",
       "      <td>J. Paredaens</td>\n",
       "    </tr>\n",
       "    <tr>\n",
       "      <th>3</th>\n",
       "      <td>4</td>\n",
       "      <td>Sushil Jajodia</td>\n",
       "    </tr>\n",
       "    <tr>\n",
       "      <th>4</th>\n",
       "      <td>4</td>\n",
       "      <td>Peter A. Ng</td>\n",
       "    </tr>\n",
       "  </tbody>\n",
       "</table>\n",
       "</div>"
      ],
      "text/plain": [
       "   Index            Author\n",
       "0      2  Virgil D. Gligor\n",
       "1      3        M. Gyssens\n",
       "2      3      J. Paredaens\n",
       "3      4    Sushil Jajodia\n",
       "4      4       Peter A. Ng"
      ]
     },
     "execution_count": 4,
     "metadata": {},
     "output_type": "execute_result"
    }
   ],
   "source": [
    "df_auth.head()"
   ]
  },
  {
   "cell_type": "code",
   "execution_count": 5,
   "metadata": {},
   "outputs": [
    {
     "data": {
      "text/html": [
       "<div>\n",
       "<style scoped>\n",
       "    .dataframe tbody tr th:only-of-type {\n",
       "        vertical-align: middle;\n",
       "    }\n",
       "\n",
       "    .dataframe tbody tr th {\n",
       "        vertical-align: top;\n",
       "    }\n",
       "\n",
       "    .dataframe thead th {\n",
       "        text-align: right;\n",
       "    }\n",
       "</style>\n",
       "<table border=\"1\" class=\"dataframe\">\n",
       "  <thead>\n",
       "    <tr style=\"text-align: right;\">\n",
       "      <th></th>\n",
       "      <th>Index</th>\n",
       "      <th>Reference_Id</th>\n",
       "    </tr>\n",
       "  </thead>\n",
       "  <tbody>\n",
       "    <tr>\n",
       "      <th>0</th>\n",
       "      <td>9</td>\n",
       "      <td>289258</td>\n",
       "    </tr>\n",
       "    <tr>\n",
       "      <th>1</th>\n",
       "      <td>9</td>\n",
       "      <td>2135000</td>\n",
       "    </tr>\n",
       "    <tr>\n",
       "      <th>2</th>\n",
       "      <td>10</td>\n",
       "      <td>2135000</td>\n",
       "    </tr>\n",
       "    <tr>\n",
       "      <th>3</th>\n",
       "      <td>11</td>\n",
       "      <td>289023</td>\n",
       "    </tr>\n",
       "    <tr>\n",
       "      <th>4</th>\n",
       "      <td>11</td>\n",
       "      <td>408637</td>\n",
       "    </tr>\n",
       "  </tbody>\n",
       "</table>\n",
       "</div>"
      ],
      "text/plain": [
       "   Index  Reference_Id\n",
       "0      9        289258\n",
       "1      9       2135000\n",
       "2     10       2135000\n",
       "3     11        289023\n",
       "4     11        408637"
      ]
     },
     "execution_count": 5,
     "metadata": {},
     "output_type": "execute_result"
    }
   ],
   "source": [
    "df_ref.head()"
   ]
  },
  {
   "cell_type": "code",
   "execution_count": 6,
   "metadata": {},
   "outputs": [
    {
     "data": {
      "text/plain": [
       "Title    0\n",
       "Year     0\n",
       "Venue    0\n",
       "Index    0\n",
       "dtype: int64"
      ]
     },
     "execution_count": 6,
     "metadata": {},
     "output_type": "execute_result"
    }
   ],
   "source": [
    "df_non_null = df.dropna()\n",
    "df_non_null.isnull().sum()"
   ]
  },
  {
   "cell_type": "code",
   "execution_count": 7,
   "metadata": {},
   "outputs": [
    {
     "name": "stdout",
     "output_type": "stream",
     "text": [
      "Final answers\n",
      "Distinct Authors             - 1651476\n",
      "Distinct Publication Venues  - 273092\n",
      "Distinct Publications        - 2385066\n",
      "Distinct References          - 1007495\n"
     ]
    }
   ],
   "source": [
    "print(\"Final answers\")\n",
    "print(\"Distinct Authors             -\", len(df_auth['Author'].unique()))\n",
    "print(\"Distinct Publication Venues  -\", len(df_non_null['Venue'].unique()))\n",
    "print(\"Distinct Publications        -\", df.shape[0])\n",
    "print(\"Distinct References          -\", len(df_ref['Reference_Id'].unique()))"
   ]
  },
  {
   "cell_type": "markdown",
   "metadata": {},
   "source": [
    "## B. Are these numbers likely to be accurate? As an example look up all the publications venue names associated with the conference “Principles and Practice of Knowledge Discovery in Databases” – what do you notice?\n"
   ]
  },
  {
   "cell_type": "markdown",
   "metadata": {},
   "source": [
    "**The accuracy of the numbers**\n",
    "\n",
    "- There are some publications where there are no author names (e.g. '-' or 'Jr.'). This shows that the number for distinct authors is inaccurate. However, it is obivious that number of publications should be more than the number of distinct author and that can be seen in the numbers (but I am unsure about how much this difference should be).\n",
    "- For venue we can observe that every year there is a new venue for PKDD. However we don't have a venue listed for year 2003. This may imply that the data for year 2003 might be missing and thus the numbers might be inaccurate.\n",
    "- In case of the number of distinct publication, it seems accurate because if we check the last index number of the publication in .txt file, we can observe that it is the same number as the number of distinct publications which makes sense and the index is the unique idenfier for each publication (also the index just a iterative number from 1 to last publication thus last index is the number of distinct publication).\n"
   ]
  },
  {
   "cell_type": "code",
   "execution_count": 13,
   "metadata": {},
   "outputs": [
    {
     "data": {
      "text/plain": [
       "array([\"PKDD '97 Proceedings of the First European Symposium on Principles of Data Mining and Knowledge Discovery\",\n",
       "       \"PKDD '98 Proceedings of the Second European Symposium on Principles of Data Mining and Knowledge Discovery\",\n",
       "       \"PKDD '99 Proceedings of the Third European Conference on Principles of Data Mining and Knowledge Discovery\",\n",
       "       \"PKDD '00 Proceedings of the 4th European Conference on Principles of Data Mining and Knowledge Discovery\",\n",
       "       \"PKDD '01 Proceedings of the 5th European Conference on Principles of Data Mining and Knowledge Discovery\",\n",
       "       \"PKDD '02 Proceedings of the 6th European Conference on Principles of Data Mining and Knowledge Discovery\",\n",
       "       \"PKDD '04 Proceedings of the 8th European Conference on Principles and Practice of Knowledge Discovery in Databases\",\n",
       "       'PKDD 2007 Proceedings of the 11th European conference on Principles and Practice of Knowledge Discovery in Databases',\n",
       "       \"PKDD'06 Proceedings of the 10th European conference on Principle and Practice of Knowledge Discovery in Databases\",\n",
       "       \"PKDD'05 Proceedings of the 9th European conference on Principles and Practice of Knowledge Discovery in Databases\"],\n",
       "      dtype=object)"
      ]
     },
     "execution_count": 13,
     "metadata": {},
     "output_type": "execute_result"
    }
   ],
   "source": [
    "df_non_null[df_non_null['Venue'].str.startswith('PKDD')]['Venue'].unique()"
   ]
  },
  {
   "cell_type": "markdown",
   "metadata": {},
   "source": [
    "## C. For each author, construct the list of publications. Plot a histogram of the number of publications per author (use a logarithmic scale on the y axis)\n"
   ]
  },
  {
   "cell_type": "code",
   "execution_count": 14,
   "metadata": {},
   "outputs": [
    {
     "data": {
      "text/html": [
       "<div>\n",
       "<style scoped>\n",
       "    .dataframe tbody tr th:only-of-type {\n",
       "        vertical-align: middle;\n",
       "    }\n",
       "\n",
       "    .dataframe tbody tr th {\n",
       "        vertical-align: top;\n",
       "    }\n",
       "\n",
       "    .dataframe thead th {\n",
       "        text-align: right;\n",
       "    }\n",
       "</style>\n",
       "<table border=\"1\" class=\"dataframe\">\n",
       "  <thead>\n",
       "    <tr style=\"text-align: right;\">\n",
       "      <th></th>\n",
       "      <th>Index</th>\n",
       "      <th>Author</th>\n",
       "    </tr>\n",
       "  </thead>\n",
       "  <tbody>\n",
       "    <tr>\n",
       "      <th>0</th>\n",
       "      <td>2</td>\n",
       "      <td>Virgil D. Gligor</td>\n",
       "    </tr>\n",
       "    <tr>\n",
       "      <th>1</th>\n",
       "      <td>3</td>\n",
       "      <td>M. Gyssens</td>\n",
       "    </tr>\n",
       "    <tr>\n",
       "      <th>2</th>\n",
       "      <td>3</td>\n",
       "      <td>J. Paredaens</td>\n",
       "    </tr>\n",
       "    <tr>\n",
       "      <th>3</th>\n",
       "      <td>4</td>\n",
       "      <td>Sushil Jajodia</td>\n",
       "    </tr>\n",
       "    <tr>\n",
       "      <th>4</th>\n",
       "      <td>4</td>\n",
       "      <td>Peter A. Ng</td>\n",
       "    </tr>\n",
       "  </tbody>\n",
       "</table>\n",
       "</div>"
      ],
      "text/plain": [
       "   Index            Author\n",
       "0      2  Virgil D. Gligor\n",
       "1      3        M. Gyssens\n",
       "2      3      J. Paredaens\n",
       "3      4    Sushil Jajodia\n",
       "4      4       Peter A. Ng"
      ]
     },
     "execution_count": 14,
     "metadata": {},
     "output_type": "execute_result"
    }
   ],
   "source": [
    "df_auth.head()"
   ]
  },
  {
   "cell_type": "code",
   "execution_count": 15,
   "metadata": {},
   "outputs": [
    {
     "data": {
      "text/plain": [
       "(5718609, 2)"
      ]
     },
     "execution_count": 15,
     "metadata": {},
     "output_type": "execute_result"
    }
   ],
   "source": [
    "df_auth.shape"
   ]
  },
  {
   "cell_type": "code",
   "execution_count": 16,
   "metadata": {},
   "outputs": [
    {
     "data": {
      "text/html": [
       "<div>\n",
       "<style scoped>\n",
       "    .dataframe tbody tr th:only-of-type {\n",
       "        vertical-align: middle;\n",
       "    }\n",
       "\n",
       "    .dataframe tbody tr th {\n",
       "        vertical-align: top;\n",
       "    }\n",
       "\n",
       "    .dataframe thead th {\n",
       "        text-align: right;\n",
       "    }\n",
       "</style>\n",
       "<table border=\"1\" class=\"dataframe\">\n",
       "  <thead>\n",
       "    <tr style=\"text-align: right;\">\n",
       "      <th></th>\n",
       "      <th>Author</th>\n",
       "      <th>Publications_per_auth</th>\n",
       "    </tr>\n",
       "  </thead>\n",
       "  <tbody>\n",
       "    <tr>\n",
       "      <th>747295</th>\n",
       "      <td>Jr.</td>\n",
       "      <td>8878</td>\n",
       "    </tr>\n",
       "    <tr>\n",
       "      <th>95</th>\n",
       "      <td>-</td>\n",
       "      <td>4458</td>\n",
       "    </tr>\n",
       "    <tr>\n",
       "      <th>589445</th>\n",
       "      <td>III</td>\n",
       "      <td>1761</td>\n",
       "    </tr>\n",
       "    <tr>\n",
       "      <th>266243</th>\n",
       "      <td>Computer Staff</td>\n",
       "      <td>1560</td>\n",
       "    </tr>\n",
       "    <tr>\n",
       "      <th>1370556</th>\n",
       "      <td>Staff</td>\n",
       "      <td>1446</td>\n",
       "    </tr>\n",
       "    <tr>\n",
       "      <th>...</th>\n",
       "      <td>...</td>\n",
       "      <td>...</td>\n",
       "    </tr>\n",
       "    <tr>\n",
       "      <th>689304</th>\n",
       "      <td>Jian-Fan Dun</td>\n",
       "      <td>1</td>\n",
       "    </tr>\n",
       "    <tr>\n",
       "      <th>689302</th>\n",
       "      <td>Jian-Fa Luo</td>\n",
       "      <td>1</td>\n",
       "    </tr>\n",
       "    <tr>\n",
       "      <th>689301</th>\n",
       "      <td>Jian-Er Hung</td>\n",
       "      <td>1</td>\n",
       "    </tr>\n",
       "    <tr>\n",
       "      <th>689298</th>\n",
       "      <td>Jian-Dong Zhang</td>\n",
       "      <td>1</td>\n",
       "    </tr>\n",
       "    <tr>\n",
       "      <th>1651474</th>\n",
       "      <td>脥bero Camilo Kreps Ben铆tez</td>\n",
       "      <td>1</td>\n",
       "    </tr>\n",
       "  </tbody>\n",
       "</table>\n",
       "<p>1651475 rows × 2 columns</p>\n",
       "</div>"
      ],
      "text/plain": [
       "                             Author  Publications_per_auth\n",
       "747295                          Jr.                   8878\n",
       "95                                -                   4458\n",
       "589445                          III                   1761\n",
       "266243               Computer Staff                   1560\n",
       "1370556                       Staff                   1446\n",
       "...                             ...                    ...\n",
       "689304                 Jian-Fan Dun                      1\n",
       "689302                  Jian-Fa Luo                      1\n",
       "689301                 Jian-Er Hung                      1\n",
       "689298              Jian-Dong Zhang                      1\n",
       "1651474  脥bero Camilo Kreps Ben铆tez                      1\n",
       "\n",
       "[1651475 rows x 2 columns]"
      ]
     },
     "execution_count": 16,
     "metadata": {},
     "output_type": "execute_result"
    }
   ],
   "source": [
    "auth_count = df_auth.groupby(['Author']).size().reset_index(\n",
    "    name='Publications_per_auth').sort_values(by='Publications_per_auth', ascending=False)\n",
    "auth_count"
   ]
  },
  {
   "cell_type": "code",
   "execution_count": 17,
   "metadata": {},
   "outputs": [
    {
     "data": {
      "text/plain": [
       "<Axes: xlabel='Count', ylabel='Publications_per_auth'>"
      ]
     },
     "execution_count": 17,
     "metadata": {},
     "output_type": "execute_result"
    },
    {
     "data": {
      "image/png": "[encoded data removed]",
      "text/plain": [
       "<Figure size 640x480 with 1 Axes>"
      ]
     },
     "metadata": {},
     "output_type": "display_data"
    }
   ],
   "source": [
    "sns.histplot(auth_count, y='Publications_per_auth',\n",
    "             bins=30, log_scale=(False, True), kde=False)"
   ]
  },
  {
   "cell_type": "code",
   "execution_count": 18,
   "metadata": {},
   "outputs": [
    {
     "data": {
      "text/plain": [
       "417"
      ]
     },
     "execution_count": 18,
     "metadata": {},
     "output_type": "execute_result"
    }
   ],
   "source": [
    "auth_count['Publications_per_auth'].nunique()"
   ]
  },
  {
   "cell_type": "markdown",
   "metadata": {},
   "source": [
    "## D. Calculate the mean and standard deviation of the number of publications per author. Also calculate the Q1 (1st quartile14), Q2 (2nd quartile, or median) and Q3 (3rd quartile) values. Compare the median to the mean and explain the difference between the two values based on the standard deviation and the 1st and 3rd quartiles.\n"
   ]
  },
  {
   "cell_type": "code",
   "execution_count": 19,
   "metadata": {},
   "outputs": [],
   "source": [
    "import numpy as np\n",
    "author_pub = np.array(auth_count['Publications_per_auth'])"
   ]
  },
  {
   "cell_type": "code",
   "execution_count": 20,
   "metadata": {},
   "outputs": [
    {
     "name": "stdout",
     "output_type": "stream",
     "text": [
      "Mean               - 3.462726956205816\n",
      "SD                 - 12.771927958377761\n",
      "First Quartile     - 1.0\n",
      "Second Quartile    - 1.0\n",
      "Third Quartile     - 3.0\n"
     ]
    }
   ],
   "source": [
    "print(\"Mean               -\", author_pub.mean())\n",
    "print(\"SD                 -\", author_pub.std())\n",
    "print(\"First Quartile     -\", np.percentile(author_pub, 25))\n",
    "print(\"Second Quartile    -\", np.percentile(author_pub, 50))\n",
    "print(\"Third Quartile     -\", np.percentile(author_pub, 75))"
   ]
  },
  {
   "cell_type": "markdown",
   "metadata": {},
   "source": [
    "- As mean is greater than median(Second Quartile), this tells us that the distribution of the data is right skewed.\n",
    "- The third quartile is 3 and the standard deviation is 12.77. This implies that the standard deviation is exceeding the values which are greater than 75% of the data (3rd Quartile). This can happen if we have some outlier. From the table we can see the outliers are coming from values such as 'Jr.' or '-' (These might be given because the author names are unkown).\n"
   ]
  },
  {
   "cell_type": "code",
   "execution_count": 21,
   "metadata": {},
   "outputs": [
    {
     "data": {
      "text/plain": [
       "<seaborn.axisgrid.FacetGrid at 0x2ba59d9c6fa0>"
      ]
     },
     "execution_count": 21,
     "metadata": {},
     "output_type": "execute_result"
    },
    {
     "data": {
      "image/png": "[encoded data removed]",
      "text/plain": [
       "<Figure size 500x500 with 1 Axes>"
      ]
     },
     "metadata": {},
     "output_type": "display_data"
    }
   ],
   "source": [
    "import seaborn as sns\n",
    "means = []\n",
    "\n",
    "for i in range(1000):\n",
    "    sample = np.random.choice(author_pub, size=1000, replace=False)\n",
    "    means.append(sample.mean())\n",
    "\n",
    "sns.displot(means, kde=True)"
   ]
  },
  {
   "cell_type": "markdown",
   "metadata": {},
   "source": [
    "## E. Now plot a histogram of the number of publications per venue, as well as calculate the mean, standard deviation, median, Q1, and Q3 values. What is the venue with the largest number of publications in the dataset?\n"
   ]
  },
  {
   "cell_type": "code",
   "execution_count": 22,
   "metadata": {},
   "outputs": [
    {
     "data": {
      "text/html": [
       "<div>\n",
       "<style scoped>\n",
       "    .dataframe tbody tr th:only-of-type {\n",
       "        vertical-align: middle;\n",
       "    }\n",
       "\n",
       "    .dataframe tbody tr th {\n",
       "        vertical-align: top;\n",
       "    }\n",
       "\n",
       "    .dataframe thead th {\n",
       "        text-align: right;\n",
       "    }\n",
       "</style>\n",
       "<table border=\"1\" class=\"dataframe\">\n",
       "  <thead>\n",
       "    <tr style=\"text-align: right;\">\n",
       "      <th></th>\n",
       "      <th>Venue</th>\n",
       "      <th>Publications_per_venu</th>\n",
       "    </tr>\n",
       "  </thead>\n",
       "  <tbody>\n",
       "    <tr>\n",
       "      <th>118379</th>\n",
       "      <td>IEEE Transactions on Information Theory</td>\n",
       "      <td>12754</td>\n",
       "    </tr>\n",
       "    <tr>\n",
       "      <th>57872</th>\n",
       "      <td>Computer</td>\n",
       "      <td>11621</td>\n",
       "    </tr>\n",
       "    <tr>\n",
       "      <th>80108</th>\n",
       "      <td>Discrete Mathematics</td>\n",
       "      <td>10814</td>\n",
       "    </tr>\n",
       "    <tr>\n",
       "      <th>54191</th>\n",
       "      <td>Communications of the ACM</td>\n",
       "      <td>10125</td>\n",
       "    </tr>\n",
       "    <tr>\n",
       "      <th>118408</th>\n",
       "      <td>IEEE Transactions on Signal Processing</td>\n",
       "      <td>9863</td>\n",
       "    </tr>\n",
       "    <tr>\n",
       "      <th>...</th>\n",
       "      <td>...</td>\n",
       "      <td>...</td>\n",
       "    </tr>\n",
       "    <tr>\n",
       "      <th>95301</th>\n",
       "      <td>Exploring the Apple IIGS: Programming with Gra...</td>\n",
       "      <td>1</td>\n",
       "    </tr>\n",
       "    <tr>\n",
       "      <th>95302</th>\n",
       "      <td>Exploring the Art and Technology of Web Design...</td>\n",
       "      <td>1</td>\n",
       "    </tr>\n",
       "    <tr>\n",
       "      <th>95303</th>\n",
       "      <td>Exploring the Basics of Drawing - Book Only</td>\n",
       "      <td>1</td>\n",
       "    </tr>\n",
       "    <tr>\n",
       "      <th>95304</th>\n",
       "      <td>Exploring the Basics of Drawing - with CourseM...</td>\n",
       "      <td>1</td>\n",
       "    </tr>\n",
       "    <tr>\n",
       "      <th>273327</th>\n",
       "      <td>“Virtual fixtures”: perceptual overlays enhanc...</td>\n",
       "      <td>1</td>\n",
       "    </tr>\n",
       "  </tbody>\n",
       "</table>\n",
       "<p>273328 rows × 2 columns</p>\n",
       "</div>"
      ],
      "text/plain": [
       "                                                    Venue  \\\n",
       "118379            IEEE Transactions on Information Theory   \n",
       "57872                                            Computer   \n",
       "80108                                Discrete Mathematics   \n",
       "54191                           Communications of the ACM   \n",
       "118408             IEEE Transactions on Signal Processing   \n",
       "...                                                   ...   \n",
       "95301   Exploring the Apple IIGS: Programming with Gra...   \n",
       "95302   Exploring the Art and Technology of Web Design...   \n",
       "95303         Exploring the Basics of Drawing - Book Only   \n",
       "95304   Exploring the Basics of Drawing - with CourseM...   \n",
       "273327  “Virtual fixtures”: perceptual overlays enhanc...   \n",
       "\n",
       "        Publications_per_venu  \n",
       "118379                  12754  \n",
       "57872                   11621  \n",
       "80108                   10814  \n",
       "54191                   10125  \n",
       "118408                   9863  \n",
       "...                       ...  \n",
       "95301                       1  \n",
       "95302                       1  \n",
       "95303                       1  \n",
       "95304                       1  \n",
       "273327                      1  \n",
       "\n",
       "[273328 rows x 2 columns]"
      ]
     },
     "execution_count": 22,
     "metadata": {},
     "output_type": "execute_result"
    }
   ],
   "source": [
    "venu_count = df.groupby(['Venue']).size().reset_index(\n",
    "    name='Publications_per_venu').sort_values(by='Publications_per_venu', ascending=False)\n",
    "venu_count"
   ]
  },
  {
   "cell_type": "code",
   "execution_count": 23,
   "metadata": {},
   "outputs": [
    {
     "data": {
      "text/plain": [
       "<Axes: xlabel='Publications_per_venu', ylabel='Count'>"
      ]
     },
     "execution_count": 23,
     "metadata": {},
     "output_type": "execute_result"
    },
    {
     "data": {
      "image/png": "[encoded data removed]",
      "text/plain": [
       "<Figure size 640x480 with 1 Axes>"
      ]
     },
     "metadata": {},
     "output_type": "display_data"
    }
   ],
   "source": [
    "sns.histplot(venu_count['Publications_per_venu'],\n",
    "             bins=5, log_scale=(True, False), kde=False)"
   ]
  },
  {
   "cell_type": "code",
   "execution_count": 24,
   "metadata": {},
   "outputs": [],
   "source": [
    "# sns.histplot(data=venu_count, x='Publications_per_venu', y='Venue')"
   ]
  },
  {
   "cell_type": "code",
   "execution_count": 25,
   "metadata": {},
   "outputs": [],
   "source": [
    "publications_per_venu = np.array(venu_count['Publications_per_venu'])"
   ]
  },
  {
   "cell_type": "code",
   "execution_count": 26,
   "metadata": {},
   "outputs": [
    {
     "name": "stdout",
     "output_type": "stream",
     "text": [
      "Mean               - 8.725512936837792\n",
      "SD                 - 106.79602901572888\n",
      "First Quartile     - 1.0\n",
      "Second Quartile    - 1.0\n",
      "Third Quartile     - 1.0\n"
     ]
    }
   ],
   "source": [
    "print(\"Mean               -\", publications_per_venu.mean())\n",
    "print(\"SD                 -\", publications_per_venu.std())\n",
    "print(\"First Quartile     -\", np.percentile(publications_per_venu, 25))\n",
    "print(\"Second Quartile    -\", np.percentile(publications_per_venu, 50))\n",
    "print(\"Third Quartile     -\", np.percentile(publications_per_venu, 75))"
   ]
  },
  {
   "cell_type": "markdown",
   "metadata": {},
   "source": [
    "Venue with the largest number of publications is 'IEEE Transactions on Information Theory'\n"
   ]
  },
  {
   "cell_type": "markdown",
   "metadata": {},
   "source": [
    "## F. Plot a histogram of the number of references (number of publications a publication refers to) and citations (number of publications referring to a publication) per publication. What is the publication with the largest number of references? What is the publication with the largest number of citations? Do these make sense?\n"
   ]
  },
  {
   "cell_type": "code",
   "execution_count": 9,
   "metadata": {},
   "outputs": [
    {
     "data": {
      "text/html": [
       "<div>\n",
       "<style scoped>\n",
       "    .dataframe tbody tr th:only-of-type {\n",
       "        vertical-align: middle;\n",
       "    }\n",
       "\n",
       "    .dataframe tbody tr th {\n",
       "        vertical-align: top;\n",
       "    }\n",
       "\n",
       "    .dataframe thead th {\n",
       "        text-align: right;\n",
       "    }\n",
       "</style>\n",
       "<table border=\"1\" class=\"dataframe\">\n",
       "  <thead>\n",
       "    <tr style=\"text-align: right;\">\n",
       "      <th></th>\n",
       "      <th>Index</th>\n",
       "      <th>Reference_Id</th>\n",
       "    </tr>\n",
       "  </thead>\n",
       "  <tbody>\n",
       "    <tr>\n",
       "      <th>0</th>\n",
       "      <td>9</td>\n",
       "      <td>289258</td>\n",
       "    </tr>\n",
       "    <tr>\n",
       "      <th>1</th>\n",
       "      <td>9</td>\n",
       "      <td>2135000</td>\n",
       "    </tr>\n",
       "    <tr>\n",
       "      <th>2</th>\n",
       "      <td>10</td>\n",
       "      <td>2135000</td>\n",
       "    </tr>\n",
       "    <tr>\n",
       "      <th>3</th>\n",
       "      <td>11</td>\n",
       "      <td>289023</td>\n",
       "    </tr>\n",
       "    <tr>\n",
       "      <th>4</th>\n",
       "      <td>11</td>\n",
       "      <td>408637</td>\n",
       "    </tr>\n",
       "  </tbody>\n",
       "</table>\n",
       "</div>"
      ],
      "text/plain": [
       "   Index  Reference_Id\n",
       "0      9        289258\n",
       "1      9       2135000\n",
       "2     10       2135000\n",
       "3     11        289023\n",
       "4     11        408637"
      ]
     },
     "execution_count": 9,
     "metadata": {},
     "output_type": "execute_result"
    }
   ],
   "source": [
    "df_ref.head()"
   ]
  },
  {
   "cell_type": "code",
   "execution_count": 10,
   "metadata": {},
   "outputs": [
    {
     "data": {
      "text/html": [
       "<div>\n",
       "<style scoped>\n",
       "    .dataframe tbody tr th:only-of-type {\n",
       "        vertical-align: middle;\n",
       "    }\n",
       "\n",
       "    .dataframe tbody tr th {\n",
       "        vertical-align: top;\n",
       "    }\n",
       "\n",
       "    .dataframe thead th {\n",
       "        text-align: right;\n",
       "    }\n",
       "</style>\n",
       "<table border=\"1\" class=\"dataframe\">\n",
       "  <thead>\n",
       "    <tr style=\"text-align: right;\">\n",
       "      <th></th>\n",
       "      <th>Index</th>\n",
       "      <th>References_per_pub</th>\n",
       "    </tr>\n",
       "  </thead>\n",
       "  <tbody>\n",
       "    <tr>\n",
       "      <th>914088</th>\n",
       "      <td>2015217</td>\n",
       "      <td>809</td>\n",
       "    </tr>\n",
       "    <tr>\n",
       "      <th>180422</th>\n",
       "      <td>719352</td>\n",
       "      <td>773</td>\n",
       "    </tr>\n",
       "    <tr>\n",
       "      <th>440816</th>\n",
       "      <td>1221203</td>\n",
       "      <td>556</td>\n",
       "    </tr>\n",
       "    <tr>\n",
       "      <th>669583</th>\n",
       "      <td>1583652</td>\n",
       "      <td>528</td>\n",
       "    </tr>\n",
       "    <tr>\n",
       "      <th>534198</th>\n",
       "      <td>1376719</td>\n",
       "      <td>525</td>\n",
       "    </tr>\n",
       "    <tr>\n",
       "      <th>...</th>\n",
       "      <td>...</td>\n",
       "      <td>...</td>\n",
       "    </tr>\n",
       "    <tr>\n",
       "      <th>604346</th>\n",
       "      <td>1475352</td>\n",
       "      <td>1</td>\n",
       "    </tr>\n",
       "    <tr>\n",
       "      <th>604352</th>\n",
       "      <td>1475358</td>\n",
       "      <td>1</td>\n",
       "    </tr>\n",
       "    <tr>\n",
       "      <th>604353</th>\n",
       "      <td>1475359</td>\n",
       "      <td>1</td>\n",
       "    </tr>\n",
       "    <tr>\n",
       "      <th>604354</th>\n",
       "      <td>1475360</td>\n",
       "      <td>1</td>\n",
       "    </tr>\n",
       "    <tr>\n",
       "      <th>1040326</th>\n",
       "      <td>2385064</td>\n",
       "      <td>1</td>\n",
       "    </tr>\n",
       "  </tbody>\n",
       "</table>\n",
       "<p>1040327 rows × 2 columns</p>\n",
       "</div>"
      ],
      "text/plain": [
       "           Index  References_per_pub\n",
       "914088   2015217                 809\n",
       "180422    719352                 773\n",
       "440816   1221203                 556\n",
       "669583   1583652                 528\n",
       "534198   1376719                 525\n",
       "...          ...                 ...\n",
       "604346   1475352                   1\n",
       "604352   1475358                   1\n",
       "604353   1475359                   1\n",
       "604354   1475360                   1\n",
       "1040326  2385064                   1\n",
       "\n",
       "[1040327 rows x 2 columns]"
      ]
     },
     "execution_count": 10,
     "metadata": {},
     "output_type": "execute_result"
    }
   ],
   "source": [
    "ref_per_pub = df_ref.groupby(['Index']).size().reset_index(\n",
    "    name='References_per_pub').sort_values(by='References_per_pub', ascending=False)\n",
    "ref_per_pub"
   ]
  },
  {
   "cell_type": "code",
   "execution_count": 11,
   "metadata": {},
   "outputs": [
    {
     "data": {
      "text/plain": [
       "<Axes: xlabel='References_per_pub', ylabel='Count'>"
      ]
     },
     "execution_count": 11,
     "metadata": {},
     "output_type": "execute_result"
    },
    {
     "data": {
      "image/png": "[encoded data removed]",
      "text/plain": [
       "<Figure size 640x480 with 1 Axes>"
      ]
     },
     "metadata": {},
     "output_type": "display_data"
    }
   ],
   "source": [
    "sns.histplot(ref_per_pub['References_per_pub'],\n",
    "             bins=50, log_scale=(True, False), kde=False)"
   ]
  },
  {
   "cell_type": "code",
   "execution_count": 30,
   "metadata": {},
   "outputs": [
    {
     "data": {
      "text/html": [
       "<div>\n",
       "<style scoped>\n",
       "    .dataframe tbody tr th:only-of-type {\n",
       "        vertical-align: middle;\n",
       "    }\n",
       "\n",
       "    .dataframe tbody tr th {\n",
       "        vertical-align: top;\n",
       "    }\n",
       "\n",
       "    .dataframe thead th {\n",
       "        text-align: right;\n",
       "    }\n",
       "</style>\n",
       "<table border=\"1\" class=\"dataframe\">\n",
       "  <thead>\n",
       "    <tr style=\"text-align: right;\">\n",
       "      <th></th>\n",
       "      <th>Reference_Id</th>\n",
       "      <th>Citations_per_pub</th>\n",
       "    </tr>\n",
       "  </thead>\n",
       "  <tbody>\n",
       "    <tr>\n",
       "      <th>994715</th>\n",
       "      <td>2135000</td>\n",
       "      <td>938039</td>\n",
       "    </tr>\n",
       "    <tr>\n",
       "      <th>1007493</th>\n",
       "      <td>2381731</td>\n",
       "      <td>82080</td>\n",
       "    </tr>\n",
       "    <tr>\n",
       "      <th>195094</th>\n",
       "      <td>408395</td>\n",
       "      <td>8620</td>\n",
       "    </tr>\n",
       "    <tr>\n",
       "      <th>182079</th>\n",
       "      <td>369235</td>\n",
       "      <td>6526</td>\n",
       "    </tr>\n",
       "    <tr>\n",
       "      <th>85848</th>\n",
       "      <td>190580</td>\n",
       "      <td>5297</td>\n",
       "    </tr>\n",
       "    <tr>\n",
       "      <th>...</th>\n",
       "      <td>...</td>\n",
       "      <td>...</td>\n",
       "    </tr>\n",
       "    <tr>\n",
       "      <th>759045</th>\n",
       "      <td>1490348</td>\n",
       "      <td>1</td>\n",
       "    </tr>\n",
       "    <tr>\n",
       "      <th>759044</th>\n",
       "      <td>1490347</td>\n",
       "      <td>1</td>\n",
       "    </tr>\n",
       "    <tr>\n",
       "      <th>362720</th>\n",
       "      <td>734466</td>\n",
       "      <td>1</td>\n",
       "    </tr>\n",
       "    <tr>\n",
       "      <th>759042</th>\n",
       "      <td>1490341</td>\n",
       "      <td>1</td>\n",
       "    </tr>\n",
       "    <tr>\n",
       "      <th>1007494</th>\n",
       "      <td>2383389</td>\n",
       "      <td>1</td>\n",
       "    </tr>\n",
       "  </tbody>\n",
       "</table>\n",
       "<p>1007495 rows × 2 columns</p>\n",
       "</div>"
      ],
      "text/plain": [
       "         Reference_Id  Citations_per_pub\n",
       "994715        2135000             938039\n",
       "1007493       2381731              82080\n",
       "195094         408395               8620\n",
       "182079         369235               6526\n",
       "85848          190580               5297\n",
       "...               ...                ...\n",
       "759045        1490348                  1\n",
       "759044        1490347                  1\n",
       "362720         734466                  1\n",
       "759042        1490341                  1\n",
       "1007494       2383389                  1\n",
       "\n",
       "[1007495 rows x 2 columns]"
      ]
     },
     "execution_count": 30,
     "metadata": {},
     "output_type": "execute_result"
    }
   ],
   "source": [
    "cit_per_pub = df_ref.groupby(['Reference_Id']).size().reset_index(\n",
    "    name='Citations_per_pub').sort_values(by='Citations_per_pub', ascending=False)\n",
    "cit_per_pub"
   ]
  },
  {
   "cell_type": "code",
   "execution_count": 101,
   "metadata": {},
   "outputs": [
    {
     "data": {
      "text/plain": [
       "<Axes: xlabel='Citations_per_pub', ylabel='Count'>"
      ]
     },
     "execution_count": 101,
     "metadata": {},
     "output_type": "execute_result"
    },
    {
     "data": {
      "image/png": "[encoded data removed]",
      "text/plain": [
       "<Figure size 640x480 with 1 Axes>"
      ]
     },
     "metadata": {},
     "output_type": "display_data"
    }
   ],
   "source": [
    "sns.histplot(cit_per_pub['Citations_per_pub'],\n",
    "             bins=50, log_scale=(True, False), kde=False)\n",
    "# sns.histplot(cit_per_pub['Citations_per_pub'], bins=50, kde=False)"
   ]
  },
  {
   "cell_type": "code",
   "execution_count": 32,
   "metadata": {},
   "outputs": [
    {
     "data": {
      "text/plain": [
       "'Proceedings of the Twenty-Fourth ACM Symposium on Operating Systems Principles'"
      ]
     },
     "execution_count": 32,
     "metadata": {},
     "output_type": "execute_result"
    }
   ],
   "source": [
    "df.loc[df['Index'] == 2015217, 'Title'].iloc[0]"
   ]
  },
  {
   "cell_type": "code",
   "execution_count": 33,
   "metadata": {},
   "outputs": [
    {
     "data": {
      "text/plain": [
       "'INFORMS Journal on Computing'"
      ]
     },
     "execution_count": 33,
     "metadata": {},
     "output_type": "execute_result"
    }
   ],
   "source": [
    "df.loc[df['Index'] == 2135000, 'Title'].iloc[0]"
   ]
  },
  {
   "cell_type": "markdown",
   "metadata": {},
   "source": [
    "- Publication with largest number of references is 'Proceedings of the Twenty-Fourth ACM Symposium on Operating Systems Principles'\n",
    "- Publication with largest number of citations is 'INFORMS Journal on Computing'\n",
    "- This makes sense because citations are done in multiple papers whereas references are made in single paper, so the number of citations will be larger than the number of references.\n"
   ]
  },
  {
   "cell_type": "markdown",
   "metadata": {},
   "source": [
    "## G. Calculate the so called “impact” factor for each venue. To do so, calculate the total number of citations for the publications in the venue, and then divide this number by the number of publications for the venue. Plot a histogram of the results\n"
   ]
  },
  {
   "cell_type": "code",
   "execution_count": 3,
   "metadata": {},
   "outputs": [
    {
     "data": {
      "text/html": [
       "<div>\n",
       "<style scoped>\n",
       "    .dataframe tbody tr th:only-of-type {\n",
       "        vertical-align: middle;\n",
       "    }\n",
       "\n",
       "    .dataframe tbody tr th {\n",
       "        vertical-align: top;\n",
       "    }\n",
       "\n",
       "    .dataframe thead th {\n",
       "        text-align: right;\n",
       "    }\n",
       "</style>\n",
       "<table border=\"1\" class=\"dataframe\">\n",
       "  <thead>\n",
       "    <tr style=\"text-align: right;\">\n",
       "      <th></th>\n",
       "      <th>Title</th>\n",
       "      <th>Year</th>\n",
       "      <th>Venue</th>\n",
       "      <th>Index</th>\n",
       "    </tr>\n",
       "  </thead>\n",
       "  <tbody>\n",
       "    <tr>\n",
       "      <th>0</th>\n",
       "      <td>MOSFET table look-up models for circuit simula...</td>\n",
       "      <td>1984.0</td>\n",
       "      <td>Integration, the VLSI Journal</td>\n",
       "      <td>1</td>\n",
       "    </tr>\n",
       "    <tr>\n",
       "      <th>1</th>\n",
       "      <td>The verification of the protection mechanisms ...</td>\n",
       "      <td>1984.0</td>\n",
       "      <td>International Journal of Parallel Programming</td>\n",
       "      <td>2</td>\n",
       "    </tr>\n",
       "    <tr>\n",
       "      <th>2</th>\n",
       "      <td>Another view of functional and multivalued dep...</td>\n",
       "      <td>1984.0</td>\n",
       "      <td>International Journal of Parallel Programming</td>\n",
       "      <td>3</td>\n",
       "    </tr>\n",
       "    <tr>\n",
       "      <th>3</th>\n",
       "      <td>Entity-relationship diagrams which are in BCNF</td>\n",
       "      <td>1984.0</td>\n",
       "      <td>International Journal of Parallel Programming</td>\n",
       "      <td>4</td>\n",
       "    </tr>\n",
       "    <tr>\n",
       "      <th>4</th>\n",
       "      <td>The computer comes of age</td>\n",
       "      <td>1984.0</td>\n",
       "      <td>The computer comes of age</td>\n",
       "      <td>5</td>\n",
       "    </tr>\n",
       "    <tr>\n",
       "      <th>...</th>\n",
       "      <td>...</td>\n",
       "      <td>...</td>\n",
       "      <td>...</td>\n",
       "      <td>...</td>\n",
       "    </tr>\n",
       "    <tr>\n",
       "      <th>2385061</th>\n",
       "      <td>Editorial Board</td>\n",
       "      <td>2016.0</td>\n",
       "      <td>Theoretical Computer Science</td>\n",
       "      <td>2385062</td>\n",
       "    </tr>\n",
       "    <tr>\n",
       "      <th>2385062</th>\n",
       "      <td>Linear-time computation of prefix table for we...</td>\n",
       "      <td>2016.0</td>\n",
       "      <td>Theoretical Computer Science</td>\n",
       "      <td>2385063</td>\n",
       "    </tr>\n",
       "    <tr>\n",
       "      <th>2385063</th>\n",
       "      <td>A space-efficient alphabet-independent Four-Ru...</td>\n",
       "      <td>2016.0</td>\n",
       "      <td>Theoretical Computer Science</td>\n",
       "      <td>2385064</td>\n",
       "    </tr>\n",
       "    <tr>\n",
       "      <th>2385064</th>\n",
       "      <td>Computers in Entertainment (CIE) - Special Iss...</td>\n",
       "      <td>2016.0</td>\n",
       "      <td>Computers in Entertainment (CIE)</td>\n",
       "      <td>2385065</td>\n",
       "    </tr>\n",
       "    <tr>\n",
       "      <th>2385065</th>\n",
       "      <td>Computers in Entertainment (CIE) - Special Iss...</td>\n",
       "      <td>2016.0</td>\n",
       "      <td>Computers in Entertainment (CIE)</td>\n",
       "      <td>2385066</td>\n",
       "    </tr>\n",
       "  </tbody>\n",
       "</table>\n",
       "<p>2385066 rows × 4 columns</p>\n",
       "</div>"
      ],
      "text/plain": [
       "                                                     Title    Year  \\\n",
       "0        MOSFET table look-up models for circuit simula...  1984.0   \n",
       "1        The verification of the protection mechanisms ...  1984.0   \n",
       "2        Another view of functional and multivalued dep...  1984.0   \n",
       "3           Entity-relationship diagrams which are in BCNF  1984.0   \n",
       "4                                The computer comes of age  1984.0   \n",
       "...                                                    ...     ...   \n",
       "2385061                                    Editorial Board  2016.0   \n",
       "2385062  Linear-time computation of prefix table for we...  2016.0   \n",
       "2385063  A space-efficient alphabet-independent Four-Ru...  2016.0   \n",
       "2385064  Computers in Entertainment (CIE) - Special Iss...  2016.0   \n",
       "2385065  Computers in Entertainment (CIE) - Special Iss...  2016.0   \n",
       "\n",
       "                                                 Venue    Index  \n",
       "0                        Integration, the VLSI Journal        1  \n",
       "1        International Journal of Parallel Programming        2  \n",
       "2        International Journal of Parallel Programming        3  \n",
       "3        International Journal of Parallel Programming        4  \n",
       "4                            The computer comes of age        5  \n",
       "...                                                ...      ...  \n",
       "2385061                   Theoretical Computer Science  2385062  \n",
       "2385062                   Theoretical Computer Science  2385063  \n",
       "2385063                   Theoretical Computer Science  2385064  \n",
       "2385064               Computers in Entertainment (CIE)  2385065  \n",
       "2385065               Computers in Entertainment (CIE)  2385066  \n",
       "\n",
       "[2385066 rows x 4 columns]"
      ]
     },
     "execution_count": 3,
     "metadata": {},
     "output_type": "execute_result"
    }
   ],
   "source": [
    "df"
   ]
  },
  {
   "cell_type": "code",
   "execution_count": 4,
   "metadata": {},
   "outputs": [
    {
     "data": {
      "text/plain": [
       "2381731"
      ]
     },
     "execution_count": 4,
     "metadata": {},
     "output_type": "execute_result"
    }
   ],
   "source": [
    "2381731"
   ]
  },
  {
   "cell_type": "code",
   "execution_count": 5,
   "metadata": {},
   "outputs": [
    {
     "data": {
      "text/html": [
       "<div>\n",
       "<style scoped>\n",
       "    .dataframe tbody tr th:only-of-type {\n",
       "        vertical-align: middle;\n",
       "    }\n",
       "\n",
       "    .dataframe tbody tr th {\n",
       "        vertical-align: top;\n",
       "    }\n",
       "\n",
       "    .dataframe thead th {\n",
       "        text-align: right;\n",
       "    }\n",
       "</style>\n",
       "<table border=\"1\" class=\"dataframe\">\n",
       "  <thead>\n",
       "    <tr style=\"text-align: right;\">\n",
       "      <th></th>\n",
       "      <th>Index</th>\n",
       "      <th>Reference_Id</th>\n",
       "    </tr>\n",
       "  </thead>\n",
       "  <tbody>\n",
       "    <tr>\n",
       "      <th>5110067</th>\n",
       "      <td>1424587</td>\n",
       "      <td>1223423</td>\n",
       "    </tr>\n",
       "    <tr>\n",
       "      <th>5183396</th>\n",
       "      <td>1433107</td>\n",
       "      <td>1223423</td>\n",
       "    </tr>\n",
       "    <tr>\n",
       "      <th>5414518</th>\n",
       "      <td>1474892</td>\n",
       "      <td>1223423</td>\n",
       "    </tr>\n",
       "    <tr>\n",
       "      <th>5509403</th>\n",
       "      <td>1486155</td>\n",
       "      <td>1223423</td>\n",
       "    </tr>\n",
       "    <tr>\n",
       "      <th>5577108</th>\n",
       "      <td>1493474</td>\n",
       "      <td>1223423</td>\n",
       "    </tr>\n",
       "    <tr>\n",
       "      <th>...</th>\n",
       "      <td>...</td>\n",
       "      <td>...</td>\n",
       "    </tr>\n",
       "    <tr>\n",
       "      <th>9441280</th>\n",
       "      <td>2191200</td>\n",
       "      <td>1223423</td>\n",
       "    </tr>\n",
       "    <tr>\n",
       "      <th>9474438</th>\n",
       "      <td>2201861</td>\n",
       "      <td>1223423</td>\n",
       "    </tr>\n",
       "    <tr>\n",
       "      <th>9548226</th>\n",
       "      <td>2299075</td>\n",
       "      <td>1223423</td>\n",
       "    </tr>\n",
       "    <tr>\n",
       "      <th>9618441</th>\n",
       "      <td>2370806</td>\n",
       "      <td>1223423</td>\n",
       "    </tr>\n",
       "    <tr>\n",
       "      <th>9627649</th>\n",
       "      <td>2371990</td>\n",
       "      <td>1223423</td>\n",
       "    </tr>\n",
       "  </tbody>\n",
       "</table>\n",
       "<p>112 rows × 2 columns</p>\n",
       "</div>"
      ],
      "text/plain": [
       "           Index  Reference_Id\n",
       "5110067  1424587       1223423\n",
       "5183396  1433107       1223423\n",
       "5414518  1474892       1223423\n",
       "5509403  1486155       1223423\n",
       "5577108  1493474       1223423\n",
       "...          ...           ...\n",
       "9441280  2191200       1223423\n",
       "9474438  2201861       1223423\n",
       "9548226  2299075       1223423\n",
       "9618441  2370806       1223423\n",
       "9627649  2371990       1223423\n",
       "\n",
       "[112 rows x 2 columns]"
      ]
     },
     "execution_count": 5,
     "metadata": {},
     "output_type": "execute_result"
    }
   ],
   "source": [
    "df_ref[df_ref['Reference_Id'] == 1223423]"
   ]
  },
  {
   "cell_type": "code",
   "execution_count": 35,
   "metadata": {},
   "outputs": [],
   "source": [
    "df_ref_merge = pd.merge(df_ref, df, left_on='Reference_Id', right_on='Index')"
   ]
  },
  {
   "cell_type": "code",
   "execution_count": 36,
   "metadata": {},
   "outputs": [
    {
     "data": {
      "text/html": [
       "<div>\n",
       "<style scoped>\n",
       "    .dataframe tbody tr th:only-of-type {\n",
       "        vertical-align: middle;\n",
       "    }\n",
       "\n",
       "    .dataframe tbody tr th {\n",
       "        vertical-align: top;\n",
       "    }\n",
       "\n",
       "    .dataframe thead th {\n",
       "        text-align: right;\n",
       "    }\n",
       "</style>\n",
       "<table border=\"1\" class=\"dataframe\">\n",
       "  <thead>\n",
       "    <tr style=\"text-align: right;\">\n",
       "      <th></th>\n",
       "      <th>Index_x</th>\n",
       "      <th>Reference_Id</th>\n",
       "      <th>Title</th>\n",
       "      <th>Year</th>\n",
       "      <th>Venue</th>\n",
       "      <th>Index_y</th>\n",
       "    </tr>\n",
       "  </thead>\n",
       "  <tbody>\n",
       "    <tr>\n",
       "      <th>0</th>\n",
       "      <td>9</td>\n",
       "      <td>289258</td>\n",
       "      <td>Flowshop scheduling with limited temporary sto...</td>\n",
       "      <td>1980.0</td>\n",
       "      <td>Journal of the ACM (JACM)</td>\n",
       "      <td>289258</td>\n",
       "    </tr>\n",
       "    <tr>\n",
       "      <th>1</th>\n",
       "      <td>191224</td>\n",
       "      <td>289258</td>\n",
       "      <td>Flowshop scheduling with limited temporary sto...</td>\n",
       "      <td>1980.0</td>\n",
       "      <td>Journal of the ACM (JACM)</td>\n",
       "      <td>289258</td>\n",
       "    </tr>\n",
       "    <tr>\n",
       "      <th>2</th>\n",
       "      <td>285856</td>\n",
       "      <td>289258</td>\n",
       "      <td>Flowshop scheduling with limited temporary sto...</td>\n",
       "      <td>1980.0</td>\n",
       "      <td>Journal of the ACM (JACM)</td>\n",
       "      <td>289258</td>\n",
       "    </tr>\n",
       "    <tr>\n",
       "      <th>3</th>\n",
       "      <td>289458</td>\n",
       "      <td>289258</td>\n",
       "      <td>Flowshop scheduling with limited temporary sto...</td>\n",
       "      <td>1980.0</td>\n",
       "      <td>Journal of the ACM (JACM)</td>\n",
       "      <td>289258</td>\n",
       "    </tr>\n",
       "    <tr>\n",
       "      <th>4</th>\n",
       "      <td>790380</td>\n",
       "      <td>289258</td>\n",
       "      <td>Flowshop scheduling with limited temporary sto...</td>\n",
       "      <td>1980.0</td>\n",
       "      <td>Journal of the ACM (JACM)</td>\n",
       "      <td>289258</td>\n",
       "    </tr>\n",
       "    <tr>\n",
       "      <th>...</th>\n",
       "      <td>...</td>\n",
       "      <td>...</td>\n",
       "      <td>...</td>\n",
       "      <td>...</td>\n",
       "      <td>...</td>\n",
       "      <td>...</td>\n",
       "    </tr>\n",
       "    <tr>\n",
       "      <th>10410608</th>\n",
       "      <td>2385039</td>\n",
       "      <td>1915270</td>\n",
       "      <td>Semantics-preserving implementation of multira...</td>\n",
       "      <td>2012.0</td>\n",
       "      <td>Proceedings of the 20th International Conferen...</td>\n",
       "      <td>1915270</td>\n",
       "    </tr>\n",
       "    <tr>\n",
       "      <th>10410609</th>\n",
       "      <td>2385039</td>\n",
       "      <td>1779298</td>\n",
       "      <td>On Resource Overbooking in an Unmanned Aerial ...</td>\n",
       "      <td>2012.0</td>\n",
       "      <td>ICCPS '12 Proceedings of the 2012 IEEE/ACM Thi...</td>\n",
       "      <td>1779298</td>\n",
       "    </tr>\n",
       "    <tr>\n",
       "      <th>10410610</th>\n",
       "      <td>2385041</td>\n",
       "      <td>2146909</td>\n",
       "      <td>Measurement and interpretation of microbenchma...</td>\n",
       "      <td>2014.0</td>\n",
       "      <td>Proceedings of the 2nd International Workshop ...</td>\n",
       "      <td>2146909</td>\n",
       "    </tr>\n",
       "    <tr>\n",
       "      <th>10410611</th>\n",
       "      <td>2385043</td>\n",
       "      <td>2210057</td>\n",
       "      <td>Enhanced Secure Architecture for Joint Action ...</td>\n",
       "      <td>2013.0</td>\n",
       "      <td>IEEE Transactions on Very Large Scale Integrat...</td>\n",
       "      <td>2210057</td>\n",
       "    </tr>\n",
       "    <tr>\n",
       "      <th>10410612</th>\n",
       "      <td>2385043</td>\n",
       "      <td>2370908</td>\n",
       "      <td>Correctness and security at odds: post-silicon...</td>\n",
       "      <td>2015.0</td>\n",
       "      <td>Proceedings of the 52nd Annual Design Automati...</td>\n",
       "      <td>2370908</td>\n",
       "    </tr>\n",
       "  </tbody>\n",
       "</table>\n",
       "<p>10410613 rows × 6 columns</p>\n",
       "</div>"
      ],
      "text/plain": [
       "          Index_x  Reference_Id  \\\n",
       "0               9        289258   \n",
       "1          191224        289258   \n",
       "2          285856        289258   \n",
       "3          289458        289258   \n",
       "4          790380        289258   \n",
       "...           ...           ...   \n",
       "10410608  2385039       1915270   \n",
       "10410609  2385039       1779298   \n",
       "10410610  2385041       2146909   \n",
       "10410611  2385043       2210057   \n",
       "10410612  2385043       2370908   \n",
       "\n",
       "                                                      Title    Year  \\\n",
       "0         Flowshop scheduling with limited temporary sto...  1980.0   \n",
       "1         Flowshop scheduling with limited temporary sto...  1980.0   \n",
       "2         Flowshop scheduling with limited temporary sto...  1980.0   \n",
       "3         Flowshop scheduling with limited temporary sto...  1980.0   \n",
       "4         Flowshop scheduling with limited temporary sto...  1980.0   \n",
       "...                                                     ...     ...   \n",
       "10410608  Semantics-preserving implementation of multira...  2012.0   \n",
       "10410609  On Resource Overbooking in an Unmanned Aerial ...  2012.0   \n",
       "10410610  Measurement and interpretation of microbenchma...  2014.0   \n",
       "10410611  Enhanced Secure Architecture for Joint Action ...  2013.0   \n",
       "10410612  Correctness and security at odds: post-silicon...  2015.0   \n",
       "\n",
       "                                                      Venue  Index_y  \n",
       "0                                 Journal of the ACM (JACM)   289258  \n",
       "1                                 Journal of the ACM (JACM)   289258  \n",
       "2                                 Journal of the ACM (JACM)   289258  \n",
       "3                                 Journal of the ACM (JACM)   289258  \n",
       "4                                 Journal of the ACM (JACM)   289258  \n",
       "...                                                     ...      ...  \n",
       "10410608  Proceedings of the 20th International Conferen...  1915270  \n",
       "10410609  ICCPS '12 Proceedings of the 2012 IEEE/ACM Thi...  1779298  \n",
       "10410610  Proceedings of the 2nd International Workshop ...  2146909  \n",
       "10410611  IEEE Transactions on Very Large Scale Integrat...  2210057  \n",
       "10410612  Proceedings of the 52nd Annual Design Automati...  2370908  \n",
       "\n",
       "[10410613 rows x 6 columns]"
      ]
     },
     "execution_count": 36,
     "metadata": {},
     "output_type": "execute_result"
    }
   ],
   "source": [
    "df_ref_merge"
   ]
  },
  {
   "cell_type": "code",
   "execution_count": 37,
   "metadata": {},
   "outputs": [],
   "source": [
    "df_ref_merge.drop('Index_y', axis=1, inplace=True)\n",
    "df_ref_merge.rename(columns={'Index_x': 'Index'}, inplace=True)"
   ]
  },
  {
   "cell_type": "code",
   "execution_count": 38,
   "metadata": {},
   "outputs": [],
   "source": [
    "pub_per_venue = df.groupby('Venue').size().reset_index(\n",
    "    name='Publications_per_venue').sort_values(by='Publications_per_venue', ascending=False)\n",
    "citaions_per_venue = df_ref_merge.groupby(['Reference_Id']).size().reset_index(\n",
    "    name='Count').sort_values(by='Count', ascending=False)\n",
    "citaions_per_venue = df_ref_merge.groupby(['Venue']).size().reset_index(\n",
    "    name='Count').sort_values(by='Count', ascending=False)"
   ]
  },
  {
   "cell_type": "code",
   "execution_count": 10,
   "metadata": {},
   "outputs": [
    {
     "data": {
      "text/html": [
       "<div>\n",
       "<style scoped>\n",
       "    .dataframe tbody tr th:only-of-type {\n",
       "        vertical-align: middle;\n",
       "    }\n",
       "\n",
       "    .dataframe tbody tr th {\n",
       "        vertical-align: top;\n",
       "    }\n",
       "\n",
       "    .dataframe thead th {\n",
       "        text-align: right;\n",
       "    }\n",
       "</style>\n",
       "<table border=\"1\" class=\"dataframe\">\n",
       "  <thead>\n",
       "    <tr style=\"text-align: right;\">\n",
       "      <th></th>\n",
       "      <th>Venue</th>\n",
       "      <th>Count</th>\n",
       "    </tr>\n",
       "  </thead>\n",
       "  <tbody>\n",
       "    <tr>\n",
       "      <th>46223</th>\n",
       "      <td>Journal of Computational and Applied Mathemati...</td>\n",
       "      <td>24</td>\n",
       "    </tr>\n",
       "    <tr>\n",
       "      <th>26287</th>\n",
       "      <td>Dynamic Routing in Telecommunications Networks</td>\n",
       "      <td>24</td>\n",
       "    </tr>\n",
       "    <tr>\n",
       "      <th>50568</th>\n",
       "      <td>Machine Learning and Its Applications, Advance...</td>\n",
       "      <td>24</td>\n",
       "    </tr>\n",
       "    <tr>\n",
       "      <th>67515</th>\n",
       "      <td>Proceedings of the fifteenth international wor...</td>\n",
       "      <td>24</td>\n",
       "    </tr>\n",
       "    <tr>\n",
       "      <th>50567</th>\n",
       "      <td>Machine Learning and Its Applications</td>\n",
       "      <td>24</td>\n",
       "    </tr>\n",
       "    <tr>\n",
       "      <th>...</th>\n",
       "      <td>...</td>\n",
       "      <td>...</td>\n",
       "    </tr>\n",
       "    <tr>\n",
       "      <th>47653</th>\n",
       "      <td>Knowledge-based intelligent tracking (expert s...</td>\n",
       "      <td>1</td>\n",
       "    </tr>\n",
       "    <tr>\n",
       "      <th>47655</th>\n",
       "      <td>Knowledge-based machine vision system for outd...</td>\n",
       "      <td>1</td>\n",
       "    </tr>\n",
       "    <tr>\n",
       "      <th>47656</th>\n",
       "      <td>Knowledge-based management of legacy codes for...</td>\n",
       "      <td>1</td>\n",
       "    </tr>\n",
       "    <tr>\n",
       "      <th>47657</th>\n",
       "      <td>Knowledge-based master production scheduler fo...</td>\n",
       "      <td>1</td>\n",
       "    </tr>\n",
       "    <tr>\n",
       "      <th>45960</th>\n",
       "      <td>Java servlet &amp; jsp cookbook</td>\n",
       "      <td>1</td>\n",
       "    </tr>\n",
       "  </tbody>\n",
       "</table>\n",
       "<p>67245 rows × 2 columns</p>\n",
       "</div>"
      ],
      "text/plain": [
       "                                                   Venue  Count\n",
       "46223  Journal of Computational and Applied Mathemati...     24\n",
       "26287     Dynamic Routing in Telecommunications Networks     24\n",
       "50568  Machine Learning and Its Applications, Advance...     24\n",
       "67515  Proceedings of the fifteenth international wor...     24\n",
       "50567              Machine Learning and Its Applications     24\n",
       "...                                                  ...    ...\n",
       "47653  Knowledge-based intelligent tracking (expert s...      1\n",
       "47655  Knowledge-based machine vision system for outd...      1\n",
       "47656  Knowledge-based management of legacy codes for...      1\n",
       "47657  Knowledge-based master production scheduler fo...      1\n",
       "45960                        Java servlet & jsp cookbook      1\n",
       "\n",
       "[67245 rows x 2 columns]"
      ]
     },
     "execution_count": 10,
     "metadata": {},
     "output_type": "execute_result"
    }
   ],
   "source": [
    "citaions_per_venue[citaions_per_venue['Count'] < 25]"
   ]
  },
  {
   "cell_type": "code",
   "execution_count": 39,
   "metadata": {},
   "outputs": [],
   "source": [
    "pub_per_venne = df.groupby('Venue').size().reset_index(\n",
    "    name='pub_per_venue').sort_values(by='pub_per_venue', ascending=False)"
   ]
  },
  {
   "cell_type": "code",
   "execution_count": 40,
   "metadata": {},
   "outputs": [
    {
     "data": {
      "text/html": [
       "<div>\n",
       "<style scoped>\n",
       "    .dataframe tbody tr th:only-of-type {\n",
       "        vertical-align: middle;\n",
       "    }\n",
       "\n",
       "    .dataframe tbody tr th {\n",
       "        vertical-align: top;\n",
       "    }\n",
       "\n",
       "    .dataframe thead th {\n",
       "        text-align: right;\n",
       "    }\n",
       "</style>\n",
       "<table border=\"1\" class=\"dataframe\">\n",
       "  <thead>\n",
       "    <tr style=\"text-align: right;\">\n",
       "      <th></th>\n",
       "      <th>Venue</th>\n",
       "      <th>pub_per_venue</th>\n",
       "    </tr>\n",
       "  </thead>\n",
       "  <tbody>\n",
       "    <tr>\n",
       "      <th>118379</th>\n",
       "      <td>IEEE Transactions on Information Theory</td>\n",
       "      <td>12754</td>\n",
       "    </tr>\n",
       "    <tr>\n",
       "      <th>57872</th>\n",
       "      <td>Computer</td>\n",
       "      <td>11621</td>\n",
       "    </tr>\n",
       "    <tr>\n",
       "      <th>80108</th>\n",
       "      <td>Discrete Mathematics</td>\n",
       "      <td>10814</td>\n",
       "    </tr>\n",
       "    <tr>\n",
       "      <th>54191</th>\n",
       "      <td>Communications of the ACM</td>\n",
       "      <td>10125</td>\n",
       "    </tr>\n",
       "    <tr>\n",
       "      <th>118408</th>\n",
       "      <td>IEEE Transactions on Signal Processing</td>\n",
       "      <td>9863</td>\n",
       "    </tr>\n",
       "    <tr>\n",
       "      <th>...</th>\n",
       "      <td>...</td>\n",
       "      <td>...</td>\n",
       "    </tr>\n",
       "    <tr>\n",
       "      <th>95301</th>\n",
       "      <td>Exploring the Apple IIGS: Programming with Gra...</td>\n",
       "      <td>1</td>\n",
       "    </tr>\n",
       "    <tr>\n",
       "      <th>95302</th>\n",
       "      <td>Exploring the Art and Technology of Web Design...</td>\n",
       "      <td>1</td>\n",
       "    </tr>\n",
       "    <tr>\n",
       "      <th>95303</th>\n",
       "      <td>Exploring the Basics of Drawing - Book Only</td>\n",
       "      <td>1</td>\n",
       "    </tr>\n",
       "    <tr>\n",
       "      <th>95304</th>\n",
       "      <td>Exploring the Basics of Drawing - with CourseM...</td>\n",
       "      <td>1</td>\n",
       "    </tr>\n",
       "    <tr>\n",
       "      <th>273327</th>\n",
       "      <td>“Virtual fixtures”: perceptual overlays enhanc...</td>\n",
       "      <td>1</td>\n",
       "    </tr>\n",
       "  </tbody>\n",
       "</table>\n",
       "<p>273328 rows × 2 columns</p>\n",
       "</div>"
      ],
      "text/plain": [
       "                                                    Venue  pub_per_venue\n",
       "118379            IEEE Transactions on Information Theory          12754\n",
       "57872                                            Computer          11621\n",
       "80108                                Discrete Mathematics          10814\n",
       "54191                           Communications of the ACM          10125\n",
       "118408             IEEE Transactions on Signal Processing           9863\n",
       "...                                                   ...            ...\n",
       "95301   Exploring the Apple IIGS: Programming with Gra...              1\n",
       "95302   Exploring the Art and Technology of Web Design...              1\n",
       "95303         Exploring the Basics of Drawing - Book Only              1\n",
       "95304   Exploring the Basics of Drawing - with CourseM...              1\n",
       "273327  “Virtual fixtures”: perceptual overlays enhanc...              1\n",
       "\n",
       "[273328 rows x 2 columns]"
      ]
     },
     "execution_count": 40,
     "metadata": {},
     "output_type": "execute_result"
    }
   ],
   "source": [
    "pub_per_venne"
   ]
  },
  {
   "cell_type": "code",
   "execution_count": 41,
   "metadata": {},
   "outputs": [
    {
     "data": {
      "text/html": [
       "<div>\n",
       "<style scoped>\n",
       "    .dataframe tbody tr th:only-of-type {\n",
       "        vertical-align: middle;\n",
       "    }\n",
       "\n",
       "    .dataframe tbody tr th {\n",
       "        vertical-align: top;\n",
       "    }\n",
       "\n",
       "    .dataframe thead th {\n",
       "        text-align: right;\n",
       "    }\n",
       "</style>\n",
       "<table border=\"1\" class=\"dataframe\">\n",
       "  <thead>\n",
       "    <tr style=\"text-align: right;\">\n",
       "      <th></th>\n",
       "      <th>Venue</th>\n",
       "      <th>Count</th>\n",
       "      <th>pub_per_venue</th>\n",
       "      <th>Impact</th>\n",
       "    </tr>\n",
       "  </thead>\n",
       "  <tbody>\n",
       "    <tr>\n",
       "      <th>0</th>\n",
       "      <td>INFORMS Journal on Computing</td>\n",
       "      <td>942441</td>\n",
       "      <td>1242</td>\n",
       "      <td>758.809179</td>\n",
       "    </tr>\n",
       "    <tr>\n",
       "      <th>1</th>\n",
       "      <td>Proceedings of the 19th ACM SIGKDD internation...</td>\n",
       "      <td>410707</td>\n",
       "      <td>202</td>\n",
       "      <td>2033.202970</td>\n",
       "    </tr>\n",
       "    <tr>\n",
       "      <th>2</th>\n",
       "      <td>Communications of the ACM</td>\n",
       "      <td>131615</td>\n",
       "      <td>10125</td>\n",
       "      <td>12.999012</td>\n",
       "    </tr>\n",
       "    <tr>\n",
       "      <th>3</th>\n",
       "      <td>IEEE Transactions on Pattern Analysis and Mach...</td>\n",
       "      <td>122327</td>\n",
       "      <td>5560</td>\n",
       "      <td>22.001259</td>\n",
       "    </tr>\n",
       "    <tr>\n",
       "      <th>4</th>\n",
       "      <td>IJIRR: International Journal of Information Re...</td>\n",
       "      <td>82080</td>\n",
       "      <td>1</td>\n",
       "      <td>82080.000000</td>\n",
       "    </tr>\n",
       "    <tr>\n",
       "      <th>...</th>\n",
       "      <td>...</td>\n",
       "      <td>...</td>\n",
       "      <td>...</td>\n",
       "      <td>...</td>\n",
       "    </tr>\n",
       "    <tr>\n",
       "      <th>91915</th>\n",
       "      <td>Knowledge-based intelligent tracking (expert s...</td>\n",
       "      <td>1</td>\n",
       "      <td>1</td>\n",
       "      <td>1.000000</td>\n",
       "    </tr>\n",
       "    <tr>\n",
       "      <th>91916</th>\n",
       "      <td>Knowledge-based machine vision system for outd...</td>\n",
       "      <td>1</td>\n",
       "      <td>1</td>\n",
       "      <td>1.000000</td>\n",
       "    </tr>\n",
       "    <tr>\n",
       "      <th>91917</th>\n",
       "      <td>Knowledge-based management of legacy codes for...</td>\n",
       "      <td>1</td>\n",
       "      <td>1</td>\n",
       "      <td>1.000000</td>\n",
       "    </tr>\n",
       "    <tr>\n",
       "      <th>91918</th>\n",
       "      <td>Knowledge-based master production scheduler fo...</td>\n",
       "      <td>1</td>\n",
       "      <td>1</td>\n",
       "      <td>1.000000</td>\n",
       "    </tr>\n",
       "    <tr>\n",
       "      <th>91919</th>\n",
       "      <td>Java servlet &amp; jsp cookbook</td>\n",
       "      <td>1</td>\n",
       "      <td>1</td>\n",
       "      <td>1.000000</td>\n",
       "    </tr>\n",
       "  </tbody>\n",
       "</table>\n",
       "<p>91920 rows × 4 columns</p>\n",
       "</div>"
      ],
      "text/plain": [
       "                                                   Venue   Count  \\\n",
       "0                           INFORMS Journal on Computing  942441   \n",
       "1      Proceedings of the 19th ACM SIGKDD internation...  410707   \n",
       "2                              Communications of the ACM  131615   \n",
       "3      IEEE Transactions on Pattern Analysis and Mach...  122327   \n",
       "4      IJIRR: International Journal of Information Re...   82080   \n",
       "...                                                  ...     ...   \n",
       "91915  Knowledge-based intelligent tracking (expert s...       1   \n",
       "91916  Knowledge-based machine vision system for outd...       1   \n",
       "91917  Knowledge-based management of legacy codes for...       1   \n",
       "91918  Knowledge-based master production scheduler fo...       1   \n",
       "91919                        Java servlet & jsp cookbook       1   \n",
       "\n",
       "       pub_per_venue        Impact  \n",
       "0               1242    758.809179  \n",
       "1                202   2033.202970  \n",
       "2              10125     12.999012  \n",
       "3               5560     22.001259  \n",
       "4                  1  82080.000000  \n",
       "...              ...           ...  \n",
       "91915              1      1.000000  \n",
       "91916              1      1.000000  \n",
       "91917              1      1.000000  \n",
       "91918              1      1.000000  \n",
       "91919              1      1.000000  \n",
       "\n",
       "[91920 rows x 4 columns]"
      ]
     },
     "execution_count": 41,
     "metadata": {},
     "output_type": "execute_result"
    }
   ],
   "source": [
    "citations_pub = pd.merge(citaions_per_venue, pub_per_venne,\n",
    "                         left_on='Venue', right_on='Venue')\n",
    "citations_pub['Impact'] = citations_pub['Count'] / \\\n",
    "    citations_pub['pub_per_venue']\n",
    "citations_pub"
   ]
  },
  {
   "cell_type": "code",
   "execution_count": 42,
   "metadata": {},
   "outputs": [
    {
     "data": {
      "text/plain": [
       "4"
      ]
     },
     "execution_count": 42,
     "metadata": {},
     "output_type": "execute_result"
    }
   ],
   "source": [
    "citations_pub['Impact'].idxmax()"
   ]
  },
  {
   "cell_type": "code",
   "execution_count": 43,
   "metadata": {},
   "outputs": [
    {
     "data": {
      "text/plain": [
       "Venue            IJIRR: International Journal of Information Re...\n",
       "Count                                                        82080\n",
       "pub_per_venue                                                    1\n",
       "Impact                                                     82080.0\n",
       "Name: 4, dtype: object"
      ]
     },
     "execution_count": 43,
     "metadata": {},
     "output_type": "execute_result"
    }
   ],
   "source": [
    "citations_pub.iloc[4]"
   ]
  },
  {
   "cell_type": "code",
   "execution_count": 44,
   "metadata": {},
   "outputs": [
    {
     "data": {
      "text/plain": [
       "'IJIRR: International Journal of Information Retrieval Research.'"
      ]
     },
     "execution_count": 44,
     "metadata": {},
     "output_type": "execute_result"
    }
   ],
   "source": [
    "citations_pub.iloc[4][0]"
   ]
  },
  {
   "cell_type": "code",
   "execution_count": 45,
   "metadata": {},
   "outputs": [
    {
     "data": {
      "text/plain": [
       "<Axes: xlabel='Impact', ylabel='Count'>"
      ]
     },
     "execution_count": 45,
     "metadata": {},
     "output_type": "execute_result"
    },
    {
     "data": {
      "image/png": "[encoded data removed]",
      "text/plain": [
       "<Figure size 640x480 with 1 Axes>"
      ]
     },
     "metadata": {},
     "output_type": "display_data"
    }
   ],
   "source": [
    "# Without log scale\n",
    "sns.histplot(citations_pub['Impact'], bins=50, kde=False)"
   ]
  },
  {
   "cell_type": "code",
   "execution_count": 46,
   "metadata": {},
   "outputs": [
    {
     "data": {
      "text/plain": [
       "<Axes: xlabel='Impact', ylabel='Count'>"
      ]
     },
     "execution_count": 46,
     "metadata": {},
     "output_type": "execute_result"
    },
    {
     "data": {
      "image/png": "[encoded data removed]",
      "text/plain": [
       "<Figure size 640x480 with 1 Axes>"
      ]
     },
     "metadata": {},
     "output_type": "display_data"
    }
   ],
   "source": [
    "# With log scale\n",
    "sns.histplot(citations_pub['Impact'], bins=50,\n",
    "             log_scale=(True, False), kde=False)"
   ]
  },
  {
   "cell_type": "code",
   "execution_count": 19,
   "metadata": {},
   "outputs": [
    {
     "name": "stdout",
     "output_type": "stream",
     "text": [
      "1000+  72\n",
      "100+   1580\n",
      "20+    7843\n",
      "10+    14242\n",
      "5+     24309\n"
     ]
    }
   ],
   "source": [
    "print(\"1000+ \", len(citations_pub[citations_pub['Impact'] > 1000]))\n",
    "print(\"100+  \", len(citations_pub[citations_pub['Impact'] > 100]))\n",
    "print(\"20+   \", len(citations_pub[citations_pub['Impact'] > 20]))\n",
    "print(\"10+   \", len(citations_pub[citations_pub['Impact'] > 10]))\n",
    "print(\"5+    \", len(citations_pub[citations_pub['Impact'] > 5]))"
   ]
  },
  {
   "cell_type": "markdown",
   "metadata": {},
   "source": [
    "## H. What is the venue with the highest apparent impact factor? Do you believe this number?\n"
   ]
  },
  {
   "cell_type": "code",
   "execution_count": 23,
   "metadata": {},
   "outputs": [
    {
     "data": {
      "text/plain": [
       "'IJIRR: International Journal of Information Retrieval Research.'"
      ]
     },
     "execution_count": 23,
     "metadata": {},
     "output_type": "execute_result"
    }
   ],
   "source": [
    "citations_pub.loc[citations_pub['Impact'].idxmax()]['Venue']"
   ]
  },
  {
   "cell_type": "code",
   "execution_count": 24,
   "metadata": {},
   "outputs": [
    {
     "data": {
      "text/plain": [
       "Venue            IJIRR: International Journal of Information Re...\n",
       "Count                                                        82080\n",
       "pub_per_venue                                                    1\n",
       "Impact                                                     82080.0\n",
       "Name: 4, dtype: object"
      ]
     },
     "execution_count": 24,
     "metadata": {},
     "output_type": "execute_result"
    }
   ],
   "source": [
    "citations_pub.loc[citations_pub['Impact'].idxmax()]"
   ]
  },
  {
   "cell_type": "code",
   "execution_count": 25,
   "metadata": {},
   "outputs": [
    {
     "data": {
      "text/html": [
       "<div>\n",
       "<style scoped>\n",
       "    .dataframe tbody tr th:only-of-type {\n",
       "        vertical-align: middle;\n",
       "    }\n",
       "\n",
       "    .dataframe tbody tr th {\n",
       "        vertical-align: top;\n",
       "    }\n",
       "\n",
       "    .dataframe thead th {\n",
       "        text-align: right;\n",
       "    }\n",
       "</style>\n",
       "<table border=\"1\" class=\"dataframe\">\n",
       "  <thead>\n",
       "    <tr style=\"text-align: right;\">\n",
       "      <th></th>\n",
       "      <th>Venue</th>\n",
       "      <th>Count</th>\n",
       "      <th>pub_per_venue</th>\n",
       "      <th>Impact</th>\n",
       "    </tr>\n",
       "  </thead>\n",
       "  <tbody>\n",
       "    <tr>\n",
       "      <th>4</th>\n",
       "      <td>IJIRR: International Journal of Information Re...</td>\n",
       "      <td>82080</td>\n",
       "      <td>1</td>\n",
       "      <td>82080.0</td>\n",
       "    </tr>\n",
       "    <tr>\n",
       "      <th>5</th>\n",
       "      <td>Graphics Interface 1990</td>\n",
       "      <td>82080</td>\n",
       "      <td>1</td>\n",
       "      <td>82080.0</td>\n",
       "    </tr>\n",
       "    <tr>\n",
       "      <th>6</th>\n",
       "      <td>PVLDB</td>\n",
       "      <td>82080</td>\n",
       "      <td>1</td>\n",
       "      <td>82080.0</td>\n",
       "    </tr>\n",
       "    <tr>\n",
       "      <th>7</th>\n",
       "      <td>AI EDAM</td>\n",
       "      <td>82080</td>\n",
       "      <td>1</td>\n",
       "      <td>82080.0</td>\n",
       "    </tr>\n",
       "    <tr>\n",
       "      <th>8</th>\n",
       "      <td>Graz</td>\n",
       "      <td>82080</td>\n",
       "      <td>1</td>\n",
       "      <td>82080.0</td>\n",
       "    </tr>\n",
       "  </tbody>\n",
       "</table>\n",
       "</div>"
      ],
      "text/plain": [
       "                                               Venue  Count  pub_per_venue  \\\n",
       "4  IJIRR: International Journal of Information Re...  82080              1   \n",
       "5                            Graphics Interface 1990  82080              1   \n",
       "6                                              PVLDB  82080              1   \n",
       "7                                            AI EDAM  82080              1   \n",
       "8                                               Graz  82080              1   \n",
       "\n",
       "    Impact  \n",
       "4  82080.0  \n",
       "5  82080.0  \n",
       "6  82080.0  \n",
       "7  82080.0  \n",
       "8  82080.0  "
      ]
     },
     "execution_count": 25,
     "metadata": {},
     "output_type": "execute_result"
    }
   ],
   "source": [
    "citations_pub[citations_pub['Impact'] == 82080]"
   ]
  },
  {
   "cell_type": "markdown",
   "metadata": {},
   "source": [
    "- Venue with the highest apparent impact factor is 'IJIRR: International Journal of Information Retrieval Research'\n",
    "- As per data in the dataset, I can find that for the above 5 venues, I am getting only one publication and 82080 citations for these publications. The reason to get 5 venues with the same 82080 number is that all of these have the same index number (I don't why but the index should be unique as per description of the data) and thus the same number of citations and publications. So as per the data this makes sense to me.\n"
   ]
  },
  {
   "cell_type": "markdown",
   "metadata": {},
   "source": [
    "## I. Now repeat the calculation from item G, but restrict the calculation to venues with at least 10 publications. How does your histogram change? List the citation counts for all publications from the venue with the highest impact factor. How does the impact factor (mean number of citations) compare to the median number of citations?\n"
   ]
  },
  {
   "cell_type": "code",
   "execution_count": 26,
   "metadata": {},
   "outputs": [
    {
     "data": {
      "text/html": [
       "<div>\n",
       "<style scoped>\n",
       "    .dataframe tbody tr th:only-of-type {\n",
       "        vertical-align: middle;\n",
       "    }\n",
       "\n",
       "    .dataframe tbody tr th {\n",
       "        vertical-align: top;\n",
       "    }\n",
       "\n",
       "    .dataframe thead th {\n",
       "        text-align: right;\n",
       "    }\n",
       "</style>\n",
       "<table border=\"1\" class=\"dataframe\">\n",
       "  <thead>\n",
       "    <tr style=\"text-align: right;\">\n",
       "      <th></th>\n",
       "      <th>Venue</th>\n",
       "      <th>Count</th>\n",
       "      <th>pub_per_venue</th>\n",
       "      <th>Impact</th>\n",
       "    </tr>\n",
       "  </thead>\n",
       "  <tbody>\n",
       "    <tr>\n",
       "      <th>0</th>\n",
       "      <td>INFORMS Journal on Computing</td>\n",
       "      <td>942441</td>\n",
       "      <td>1242</td>\n",
       "      <td>758.809179</td>\n",
       "    </tr>\n",
       "    <tr>\n",
       "      <th>1</th>\n",
       "      <td>Proceedings of the 19th ACM SIGKDD internation...</td>\n",
       "      <td>410707</td>\n",
       "      <td>202</td>\n",
       "      <td>2033.202970</td>\n",
       "    </tr>\n",
       "    <tr>\n",
       "      <th>2</th>\n",
       "      <td>Communications of the ACM</td>\n",
       "      <td>131615</td>\n",
       "      <td>10125</td>\n",
       "      <td>12.999012</td>\n",
       "    </tr>\n",
       "    <tr>\n",
       "      <th>3</th>\n",
       "      <td>IEEE Transactions on Pattern Analysis and Mach...</td>\n",
       "      <td>122327</td>\n",
       "      <td>5560</td>\n",
       "      <td>22.001259</td>\n",
       "    </tr>\n",
       "    <tr>\n",
       "      <th>9</th>\n",
       "      <td>Journal of the ACM (JACM)</td>\n",
       "      <td>73720</td>\n",
       "      <td>3016</td>\n",
       "      <td>24.442971</td>\n",
       "    </tr>\n",
       "    <tr>\n",
       "      <th>...</th>\n",
       "      <td>...</td>\n",
       "      <td>...</td>\n",
       "      <td>...</td>\n",
       "      <td>...</td>\n",
       "    </tr>\n",
       "    <tr>\n",
       "      <th>91776</th>\n",
       "      <td>Kognitive Aspekte der Mensch-Computer-Interakt...</td>\n",
       "      <td>1</td>\n",
       "      <td>17</td>\n",
       "      <td>0.058824</td>\n",
       "    </tr>\n",
       "    <tr>\n",
       "      <th>91809</th>\n",
       "      <td>LADC '13 Proceedings of the 2013 Sixth Latin-A...</td>\n",
       "      <td>1</td>\n",
       "      <td>26</td>\n",
       "      <td>0.038462</td>\n",
       "    </tr>\n",
       "    <tr>\n",
       "      <th>91822</th>\n",
       "      <td>LSSA'97 Proceedings of the 1997 Workshop on La...</td>\n",
       "      <td>1</td>\n",
       "      <td>12</td>\n",
       "      <td>0.083333</td>\n",
       "    </tr>\n",
       "    <tr>\n",
       "      <th>91829</th>\n",
       "      <td>LISA'14 Proceedings of the 28th USENIX confere...</td>\n",
       "      <td>1</td>\n",
       "      <td>17</td>\n",
       "      <td>0.058824</td>\n",
       "    </tr>\n",
       "    <tr>\n",
       "      <th>91877</th>\n",
       "      <td>Knowledge management and networked environments</td>\n",
       "      <td>1</td>\n",
       "      <td>11</td>\n",
       "      <td>0.090909</td>\n",
       "    </tr>\n",
       "  </tbody>\n",
       "</table>\n",
       "<p>23628 rows × 4 columns</p>\n",
       "</div>"
      ],
      "text/plain": [
       "                                                   Venue   Count  \\\n",
       "0                           INFORMS Journal on Computing  942441   \n",
       "1      Proceedings of the 19th ACM SIGKDD internation...  410707   \n",
       "2                              Communications of the ACM  131615   \n",
       "3      IEEE Transactions on Pattern Analysis and Mach...  122327   \n",
       "9                              Journal of the ACM (JACM)   73720   \n",
       "...                                                  ...     ...   \n",
       "91776  Kognitive Aspekte der Mensch-Computer-Interakt...       1   \n",
       "91809  LADC '13 Proceedings of the 2013 Sixth Latin-A...       1   \n",
       "91822  LSSA'97 Proceedings of the 1997 Workshop on La...       1   \n",
       "91829  LISA'14 Proceedings of the 28th USENIX confere...       1   \n",
       "91877    Knowledge management and networked environments       1   \n",
       "\n",
       "       pub_per_venue       Impact  \n",
       "0               1242   758.809179  \n",
       "1                202  2033.202970  \n",
       "2              10125    12.999012  \n",
       "3               5560    22.001259  \n",
       "9               3016    24.442971  \n",
       "...              ...          ...  \n",
       "91776             17     0.058824  \n",
       "91809             26     0.038462  \n",
       "91822             12     0.083333  \n",
       "91829             17     0.058824  \n",
       "91877             11     0.090909  \n",
       "\n",
       "[23628 rows x 4 columns]"
      ]
     },
     "execution_count": 26,
     "metadata": {},
     "output_type": "execute_result"
    }
   ],
   "source": [
    "merge_total_citations_pub_more_than_10 = citations_pub[citations_pub['pub_per_venue'] > 10]\n",
    "merge_total_citations_pub_more_than_10"
   ]
  },
  {
   "cell_type": "code",
   "execution_count": 27,
   "metadata": {},
   "outputs": [
    {
     "data": {
      "text/plain": [
       "<Axes: xlabel='Impact', ylabel='Count'>"
      ]
     },
     "execution_count": 27,
     "metadata": {},
     "output_type": "execute_result"
    },
    {
     "data": {
      "image/png": "[encoded data removed]",
      "text/plain": [
       "<Figure size 640x480 with 1 Axes>"
      ]
     },
     "metadata": {},
     "output_type": "display_data"
    }
   ],
   "source": [
    "# Without log scale\n",
    "sns.histplot(\n",
    "    merge_total_citations_pub_more_than_10['Impact'], bins=50, kde=False)"
   ]
  },
  {
   "cell_type": "code",
   "execution_count": 28,
   "metadata": {},
   "outputs": [
    {
     "data": {
      "text/plain": [
       "<Axes: xlabel='Impact', ylabel='Count'>"
      ]
     },
     "execution_count": 28,
     "metadata": {},
     "output_type": "execute_result"
    },
    {
     "data": {
      "image/png": "[encoded data removed]",
      "text/plain": [
       "<Figure size 640x480 with 1 Axes>"
      ]
     },
     "metadata": {},
     "output_type": "display_data"
    }
   ],
   "source": [
    "# Without log scale\n",
    "sns.histplot(merge_total_citations_pub_more_than_10['Impact'], bins=50, log_scale=(\n",
    "    True, False), kde=False)"
   ]
  },
  {
   "cell_type": "markdown",
   "metadata": {},
   "source": [
    "The histogram becomes more similar to the normal form.\n"
   ]
  },
  {
   "cell_type": "code",
   "execution_count": 29,
   "metadata": {},
   "outputs": [
    {
     "name": "stdout",
     "output_type": "stream",
     "text": [
      "1000+ 1\n",
      "100+ 24\n",
      "20+ 918\n",
      "10+ 2391\n",
      "5+ 5241\n"
     ]
    }
   ],
   "source": [
    "print(\"1000+\",\n",
    "      len(merge_total_citations_pub_more_than_10[merge_total_citations_pub_more_than_10['Impact'] > 1000]))\n",
    "print(\"100+\",\n",
    "      len(merge_total_citations_pub_more_than_10[merge_total_citations_pub_more_than_10['Impact'] > 100]))\n",
    "print(\n",
    "    \"20+\", len(merge_total_citations_pub_more_than_10[merge_total_citations_pub_more_than_10['Impact'] > 20]))\n",
    "print(\n",
    "    \"10+\", len(merge_total_citations_pub_more_than_10[merge_total_citations_pub_more_than_10['Impact'] > 10]))\n",
    "print(\n",
    "    \"5+\", len(merge_total_citations_pub_more_than_10[merge_total_citations_pub_more_than_10['Impact'] > 5]))"
   ]
  },
  {
   "cell_type": "code",
   "execution_count": 30,
   "metadata": {},
   "outputs": [],
   "source": [
    "venue = merge_total_citations_pub_more_than_10.loc[merge_total_citations_pub_more_than_10['Impact'].idxmax(\n",
    ")]['Venue']"
   ]
  },
  {
   "cell_type": "code",
   "execution_count": 31,
   "metadata": {},
   "outputs": [
    {
     "data": {
      "text/plain": [
       "'Proceedings of the 19th ACM SIGKDD international conference on Knowledge discovery and data mining'"
      ]
     },
     "execution_count": 31,
     "metadata": {},
     "output_type": "execute_result"
    }
   ],
   "source": [
    "citations_for_max_impact = merge_total_citations_pub_more_than_10[\n",
    "    merge_total_citations_pub_more_than_10['Venue'] == venue]\n",
    "citations_for_max_impact['Venue'].iloc[0]"
   ]
  },
  {
   "cell_type": "code",
   "execution_count": 32,
   "metadata": {},
   "outputs": [
    {
     "name": "stdout",
     "output_type": "stream",
     "text": [
      "Mean 372.85876925681396\n",
      "Median 60.0\n"
     ]
    }
   ],
   "source": [
    "citation_count = merge_total_citations_pub_more_than_10['Count']\n",
    "print(\"Mean\", citation_count.mean())\n",
    "print(\"Median\", citation_count.median())"
   ]
  },
  {
   "cell_type": "markdown",
   "metadata": {},
   "source": [
    "- Mean is larger than median. The reason for this difference is that the number of citations for some of the publications is very large compared to other publications for 'IJIRR: International Journal of Information Retrieval Research.'. The large number citations has increased the mean whereas median remains the same irrespective of the outliers\n"
   ]
  },
  {
   "cell_type": "markdown",
   "metadata": {},
   "source": [
    "## J. Finally, construct a list of publications for each publication year. Use this list to plot the average number of references and average number of citations per publication as a function of time. Explain the differences you see in the trends.\n"
   ]
  },
  {
   "cell_type": "code",
   "execution_count": 47,
   "metadata": {},
   "outputs": [
    {
     "data": {
      "text/html": [
       "<div>\n",
       "<style scoped>\n",
       "    .dataframe tbody tr th:only-of-type {\n",
       "        vertical-align: middle;\n",
       "    }\n",
       "\n",
       "    .dataframe tbody tr th {\n",
       "        vertical-align: top;\n",
       "    }\n",
       "\n",
       "    .dataframe thead th {\n",
       "        text-align: right;\n",
       "    }\n",
       "</style>\n",
       "<table border=\"1\" class=\"dataframe\">\n",
       "  <thead>\n",
       "    <tr style=\"text-align: right;\">\n",
       "      <th></th>\n",
       "      <th>Index</th>\n",
       "      <th>Reference_Id</th>\n",
       "      <th>Title</th>\n",
       "      <th>Year</th>\n",
       "      <th>Venue</th>\n",
       "    </tr>\n",
       "  </thead>\n",
       "  <tbody>\n",
       "    <tr>\n",
       "      <th>0</th>\n",
       "      <td>9</td>\n",
       "      <td>289258</td>\n",
       "      <td>Flowshop scheduling with limited temporary sto...</td>\n",
       "      <td>1980.0</td>\n",
       "      <td>Journal of the ACM (JACM)</td>\n",
       "    </tr>\n",
       "    <tr>\n",
       "      <th>1</th>\n",
       "      <td>191224</td>\n",
       "      <td>289258</td>\n",
       "      <td>Flowshop scheduling with limited temporary sto...</td>\n",
       "      <td>1980.0</td>\n",
       "      <td>Journal of the ACM (JACM)</td>\n",
       "    </tr>\n",
       "    <tr>\n",
       "      <th>2</th>\n",
       "      <td>285856</td>\n",
       "      <td>289258</td>\n",
       "      <td>Flowshop scheduling with limited temporary sto...</td>\n",
       "      <td>1980.0</td>\n",
       "      <td>Journal of the ACM (JACM)</td>\n",
       "    </tr>\n",
       "    <tr>\n",
       "      <th>3</th>\n",
       "      <td>289458</td>\n",
       "      <td>289258</td>\n",
       "      <td>Flowshop scheduling with limited temporary sto...</td>\n",
       "      <td>1980.0</td>\n",
       "      <td>Journal of the ACM (JACM)</td>\n",
       "    </tr>\n",
       "    <tr>\n",
       "      <th>4</th>\n",
       "      <td>790380</td>\n",
       "      <td>289258</td>\n",
       "      <td>Flowshop scheduling with limited temporary sto...</td>\n",
       "      <td>1980.0</td>\n",
       "      <td>Journal of the ACM (JACM)</td>\n",
       "    </tr>\n",
       "    <tr>\n",
       "      <th>...</th>\n",
       "      <td>...</td>\n",
       "      <td>...</td>\n",
       "      <td>...</td>\n",
       "      <td>...</td>\n",
       "      <td>...</td>\n",
       "    </tr>\n",
       "    <tr>\n",
       "      <th>10410608</th>\n",
       "      <td>2385039</td>\n",
       "      <td>1915270</td>\n",
       "      <td>Semantics-preserving implementation of multira...</td>\n",
       "      <td>2012.0</td>\n",
       "      <td>Proceedings of the 20th International Conferen...</td>\n",
       "    </tr>\n",
       "    <tr>\n",
       "      <th>10410609</th>\n",
       "      <td>2385039</td>\n",
       "      <td>1779298</td>\n",
       "      <td>On Resource Overbooking in an Unmanned Aerial ...</td>\n",
       "      <td>2012.0</td>\n",
       "      <td>ICCPS '12 Proceedings of the 2012 IEEE/ACM Thi...</td>\n",
       "    </tr>\n",
       "    <tr>\n",
       "      <th>10410610</th>\n",
       "      <td>2385041</td>\n",
       "      <td>2146909</td>\n",
       "      <td>Measurement and interpretation of microbenchma...</td>\n",
       "      <td>2014.0</td>\n",
       "      <td>Proceedings of the 2nd International Workshop ...</td>\n",
       "    </tr>\n",
       "    <tr>\n",
       "      <th>10410611</th>\n",
       "      <td>2385043</td>\n",
       "      <td>2210057</td>\n",
       "      <td>Enhanced Secure Architecture for Joint Action ...</td>\n",
       "      <td>2013.0</td>\n",
       "      <td>IEEE Transactions on Very Large Scale Integrat...</td>\n",
       "    </tr>\n",
       "    <tr>\n",
       "      <th>10410612</th>\n",
       "      <td>2385043</td>\n",
       "      <td>2370908</td>\n",
       "      <td>Correctness and security at odds: post-silicon...</td>\n",
       "      <td>2015.0</td>\n",
       "      <td>Proceedings of the 52nd Annual Design Automati...</td>\n",
       "    </tr>\n",
       "  </tbody>\n",
       "</table>\n",
       "<p>10410613 rows × 5 columns</p>\n",
       "</div>"
      ],
      "text/plain": [
       "            Index  Reference_Id  \\\n",
       "0               9        289258   \n",
       "1          191224        289258   \n",
       "2          285856        289258   \n",
       "3          289458        289258   \n",
       "4          790380        289258   \n",
       "...           ...           ...   \n",
       "10410608  2385039       1915270   \n",
       "10410609  2385039       1779298   \n",
       "10410610  2385041       2146909   \n",
       "10410611  2385043       2210057   \n",
       "10410612  2385043       2370908   \n",
       "\n",
       "                                                      Title    Year  \\\n",
       "0         Flowshop scheduling with limited temporary sto...  1980.0   \n",
       "1         Flowshop scheduling with limited temporary sto...  1980.0   \n",
       "2         Flowshop scheduling with limited temporary sto...  1980.0   \n",
       "3         Flowshop scheduling with limited temporary sto...  1980.0   \n",
       "4         Flowshop scheduling with limited temporary sto...  1980.0   \n",
       "...                                                     ...     ...   \n",
       "10410608  Semantics-preserving implementation of multira...  2012.0   \n",
       "10410609  On Resource Overbooking in an Unmanned Aerial ...  2012.0   \n",
       "10410610  Measurement and interpretation of microbenchma...  2014.0   \n",
       "10410611  Enhanced Secure Architecture for Joint Action ...  2013.0   \n",
       "10410612  Correctness and security at odds: post-silicon...  2015.0   \n",
       "\n",
       "                                                      Venue  \n",
       "0                                 Journal of the ACM (JACM)  \n",
       "1                                 Journal of the ACM (JACM)  \n",
       "2                                 Journal of the ACM (JACM)  \n",
       "3                                 Journal of the ACM (JACM)  \n",
       "4                                 Journal of the ACM (JACM)  \n",
       "...                                                     ...  \n",
       "10410608  Proceedings of the 20th International Conferen...  \n",
       "10410609  ICCPS '12 Proceedings of the 2012 IEEE/ACM Thi...  \n",
       "10410610  Proceedings of the 2nd International Workshop ...  \n",
       "10410611  IEEE Transactions on Very Large Scale Integrat...  \n",
       "10410612  Proceedings of the 52nd Annual Design Automati...  \n",
       "\n",
       "[10410613 rows x 5 columns]"
      ]
     },
     "execution_count": 47,
     "metadata": {},
     "output_type": "execute_result"
    }
   ],
   "source": [
    "df_ref_merge"
   ]
  },
  {
   "cell_type": "code",
   "execution_count": 96,
   "metadata": {},
   "outputs": [],
   "source": [
    "cit_count = df_ref_merge.groupby(\n",
    "    ['Reference_Id', 'Year']).size().reset_index(name='Count')\n",
    "cit_avg = cit_count.groupby(\"Year\", as_index=False)[\"Count\"].mean()"
   ]
  },
  {
   "cell_type": "code",
   "execution_count": 99,
   "metadata": {},
   "outputs": [],
   "source": [
    "ref_count = df_ref_merge.groupby(['Index', 'Year']).size().reset_index(\n",
    "    name='Count').sort_values(by='Count', ascending=False)\n",
    "ref_avg = ref_count.groupby(\"Year\", as_index=False)[\"Count\"].mean()"
   ]
  },
  {
   "cell_type": "code",
   "execution_count": 108,
   "metadata": {},
   "outputs": [
    {
     "data": {
      "text/plain": [
       "<matplotlib.legend.Legend at 0x2b50f3418e80>"
      ]
     },
     "execution_count": 108,
     "metadata": {},
     "output_type": "execute_result"
    },
    {
     "data": {
      "image/png": "[encoded data removed]",
      "text/plain": [
       "<Figure size 640x480 with 1 Axes>"
      ]
     },
     "metadata": {},
     "output_type": "display_data"
    }
   ],
   "source": [
    "import seaborn as sns\n",
    "plt.plot(cit_avg['Year'], cit_avg['Count'], label='Avg Citations')\n",
    "plt.plot(ref_avg['Year'], ref_avg['Count'], label='Avg References')\n",
    "plt.legend()"
   ]
  },
  {
   "cell_type": "markdown",
   "metadata": {},
   "source": [
    "We can observe that citations per publications for all years is almost always higher than references per publications. Also we can observe a spike in after 2010 in both the fields.\n"
   ]
  }
 ],
 "metadata": {
  "kernelspec": {
   "display_name": "base",
   "language": "python",
   "name": "python3"
  },
  "language_info": {
   "codemirror_mode": {
    "name": "ipython",
    "version": 3
   },
   "file_extension": ".py",
   "mimetype": "text/x-python",
   "name": "python",
   "nbconvert_exporter": "python",
   "pygments_lexer": "ipython3",
   "version": "3.11.7"
  },
  "orig_nbformat": 4
 },
 "nbformat": 4,
 "nbformat_minor": 2
}
