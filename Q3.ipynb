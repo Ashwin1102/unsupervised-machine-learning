{
 "cells": [
  {
   "cell_type": "markdown",
   "metadata": {},
   "source": [
    "# PROBLEM 3 : Gaussian Mixture on toy data"
   ]
  },
  {
   "cell_type": "markdown",
   "metadata": {},
   "source": [
    "## Read data"
   ]
  },
  {
   "cell_type": "code",
   "execution_count": 1,
   "metadata": {},
   "outputs": [],
   "source": [
    "import requests\n",
    "\n",
    "\n",
    "url_A = 'https://www.ccs.neu.edu/home/vip/teach/DMcourse/2_cluster_EM_mixt/HW2/2gaussian.txt'\n",
    "url_B = 'https://www.ccs.neu.edu/home/vip/teach/DMcourse/2_cluster_EM_mixt/HW2/3gaussian.txt'\n",
    "\n",
    "response_A = requests.get(url_A)\n",
    "response_B = requests.get(url_B)\n"
   ]
  },
  {
   "cell_type": "code",
   "execution_count": 204,
   "metadata": {},
   "outputs": [],
   "source": [
    "data_A = response_A.text\n",
    "data_B = response_B.text\n",
    "\n",
    "with open('2gaussian.txt', 'w') as file:\n",
    "    file.write(data_A)\n",
    "\n",
    "with open('3gaussian.txt', 'w') as file:\n",
    "    file.write(data_B)"
   ]
  },
  {
   "cell_type": "code",
   "execution_count": 205,
   "metadata": {},
   "outputs": [],
   "source": [
    "import pandas as pd\n",
    "\n",
    "d_A = {'col1':[], 'col2':[]}\n",
    "\n",
    "with open(\"2gaussian.txt\", \"r\") as file:\n",
    "    for line in file:\n",
    "        values = line.split(' ')\n",
    "        d_A['col1'].append(float(values[0]))\n",
    "        d_A['col2'].append(float(values[1]))\n",
    "\n",
    "d_B = {'col1':[], 'col2':[]}\n",
    "with open(\"3gaussian.txt\", \"r\") as file:\n",
    "    for line in file:\n",
    "        values = line.split(' ')\n",
    "        d_B['col1'].append(float(values[0]))\n",
    "        d_B['col2'].append(float(values[1]))\n",
    "\n",
    "df_A = pd.DataFrame(d_A)\n",
    "df_B = pd.DataFrame(d_B)\n"
   ]
  },
  {
   "cell_type": "code",
   "execution_count": 206,
   "metadata": {},
   "outputs": [
    {
     "data": {
      "text/plain": [
       "col1    0\n",
       "col2    0\n",
       "dtype: int64"
      ]
     },
     "execution_count": 206,
     "metadata": {},
     "output_type": "execute_result"
    }
   ],
   "source": [
    "df_A.isnull().sum()"
   ]
  },
  {
   "cell_type": "code",
   "execution_count": 207,
   "metadata": {},
   "outputs": [
    {
     "data": {
      "text/plain": [
       "col1    0\n",
       "col2    0\n",
       "dtype: int64"
      ]
     },
     "execution_count": 207,
     "metadata": {},
     "output_type": "execute_result"
    }
   ],
   "source": [
    "df_B.isnull().sum()\n"
   ]
  },
  {
   "cell_type": "code",
   "execution_count": 208,
   "metadata": {},
   "outputs": [],
   "source": [
    "df_A.to_csv('2gaussian.csv', index=False)\n",
    "df_B.to_csv('3gaussian.csv', index=False)\n"
   ]
  },
  {
   "cell_type": "markdown",
   "metadata": {},
   "source": [
    "## A"
   ]
  },
  {
   "cell_type": "code",
   "execution_count": 141,
   "metadata": {},
   "outputs": [],
   "source": [
    "import pandas as pd\n",
    "df = pd.read_csv('2gaussian.csv')"
   ]
  },
  {
   "cell_type": "code",
   "execution_count": 147,
   "metadata": {},
   "outputs": [],
   "source": [
    "import numpy as np\n",
    "import random\n",
    "from scipy.stats import multivariate_normal\n",
    "\n",
    "def initialize_parameters(arr, K):\n",
    "    indices = np.random.choice(len(arr), size=K, replace=False)\n",
    "    mus = arr[indices]\n",
    "    covs = [np.eye(arr.shape[1]) for _ in range(K)]\n",
    "    wi = np.ones(K) / K\n",
    "    return mus, np.array(covs), wi\n",
    "\n",
    "def e_step(mu, cov, arr, wi, K):\n",
    "    probs = []\n",
    "    n = arr.shape[0]\n",
    "    for i in range(K):\n",
    "        probs.append(multivariate_normal.pdf(arr, mean=mu[i], cov=cov[i]))\n",
    "    probs = np.array(probs)\n",
    "    probs = probs * wi.reshape(K, 1)\n",
    "    probs_sum = np.sum(probs, axis=0)\n",
    "    resp = probs / (probs_sum + 1e-10)\n",
    "    return resp\n",
    "\n",
    "def m_step(arr, pi_vals, K):\n",
    "    covs = []\n",
    "    mus = []\n",
    "    n = arr.shape[0]\n",
    "    d = arr.shape[1]\n",
    "\n",
    "    for k in range(K):\n",
    "        kth_resp = pi_vals[k]\n",
    "        kth_resp_sum = np.sum(kth_resp)\n",
    "        mu = np.sum(arr * kth_resp.reshape(n,1), axis=0) / kth_resp_sum\n",
    "        x = arr - mu\n",
    "        cov = (x.T @ (x * kth_resp.reshape(n,1))) / kth_resp_sum + np.eye(d)*1e-6\n",
    "        mus.append(mu)\n",
    "        covs.append(cov)\n",
    "        wi = np.sum(pi_vals, axis=1) / n\n",
    "    return mus, covs, wi\n",
    "\n",
    "def log_likelihood(arr, mus, covs, wi, K):\n",
    "    obj_val = 0\n",
    "    n = arr.shape[0]\n",
    "    for i in range(K):\n",
    "        probs = multivariate_normal.pdf(arr, mean=mus[i], cov=covs[i])\n",
    "        obj_val += np.log(np.sum(wi[i] * probs))\n",
    "    return obj_val\n",
    "\n",
    "def converge(arr, K, max_itr=100, tol=1e-6):\n",
    "    mus, covs, wi = initialize_parameters(arr, K)\n",
    "    prev_log_l = -np.inf\n",
    "    for itr in range(max_itr):\n",
    "        resp = e_step(mus, covs, arr, wi, K)\n",
    "        mus, covs, wi = m_step(arr, resp, K)\n",
    "        log_l = log_likelihood(arr, mus, covs, wi, K)\n",
    "        print(\"Iteration {itr+1}: Log-likelihood = {log_l}\")\n",
    "        if np.abs(log_l - prev_log_l) < tol:\n",
    "            break\n",
    "        prev_log_l = log_l\n",
    "    return mus, covs, wi"
   ]
  },
  {
   "cell_type": "code",
   "execution_count": 148,
   "metadata": {},
   "outputs": [
    {
     "name": "stdout",
     "output_type": "stream",
     "text": [
      "Iteration 1: Log-likelihood = 9.012502414013502\n",
      "Iteration 2: Log-likelihood = 9.02874102010129\n",
      "Iteration 3: Log-likelihood = 9.021559291886616\n",
      "Iteration 4: Log-likelihood = 9.01470143041412\n",
      "Iteration 5: Log-likelihood = 9.009561367986356\n",
      "Iteration 6: Log-likelihood = 9.005854218822412\n",
      "Iteration 7: Log-likelihood = 9.00322987563401\n",
      "Iteration 8: Log-likelihood = 9.00139695714168\n",
      "Iteration 9: Log-likelihood = 9.000129567698771\n",
      "Iteration 10: Log-likelihood = 8.999259555332912\n",
      "Iteration 11: Log-likelihood = 8.998665380720004\n",
      "Iteration 12: Log-likelihood = 8.998261033351964\n",
      "Iteration 13: Log-likelihood = 8.997986541272734\n",
      "Iteration 14: Log-likelihood = 8.997800513952615\n",
      "Iteration 15: Log-likelihood = 8.997674584338077\n",
      "Iteration 16: Log-likelihood = 8.997589403393153\n",
      "Iteration 17: Log-likelihood = 8.99753181579645\n",
      "Iteration 18: Log-likelihood = 8.997492896849975\n",
      "Iteration 19: Log-likelihood = 8.997466600905074\n",
      "Iteration 20: Log-likelihood = 8.997448836694975\n",
      "Iteration 21: Log-likelihood = 8.997436837411303\n",
      "Iteration 22: Log-likelihood = 8.997428732793999\n",
      "Iteration 23: Log-likelihood = 8.997423259006498\n",
      "Iteration 24: Log-likelihood = 8.997419562183563\n",
      "Iteration 25: Log-likelihood = 8.997417065523388\n",
      "Iteration 26: Log-likelihood = 8.997415379422682\n",
      "Iteration 27: Log-likelihood = 8.99741424073911\n",
      "Iteration 28: Log-likelihood = 8.997413471751146\n"
     ]
    }
   ],
   "source": [
    "K = 2\n",
    "arr = df.to_numpy()\n",
    "mus, covs, wi = converge(arr, K, max_itr=40)"
   ]
  },
  {
   "cell_type": "code",
   "execution_count": 149,
   "metadata": {},
   "outputs": [
    {
     "data": {
      "text/plain": [
       "[array([7.01315024, 3.98313534]), array([2.99413566, 3.0520961 ])]"
      ]
     },
     "execution_count": 149,
     "metadata": {},
     "output_type": "execute_result"
    }
   ],
   "source": [
    "mus"
   ]
  },
  {
   "cell_type": "markdown",
   "metadata": {},
   "source": [
    "Results are below"
   ]
  },
  {
   "cell_type": "code",
   "execution_count": 150,
   "metadata": {},
   "outputs": [
    {
     "data": {
      "text/plain": [
       "[array([[0.97475662, 0.49746833],\n",
       "        [0.49746833, 1.00114191]]),\n",
       " array([[1.01024165, 0.02719055],\n",
       "        [0.02719055, 2.93782075]])]"
      ]
     },
     "execution_count": 150,
     "metadata": {},
     "output_type": "execute_result"
    }
   ],
   "source": [
    "covs"
   ]
  },
  {
   "cell_type": "code",
   "execution_count": 151,
   "metadata": {},
   "outputs": [
    {
     "data": {
      "text/plain": [
       "array([0.66520359, 0.3347964 ])"
      ]
     },
     "execution_count": 151,
     "metadata": {},
     "output_type": "execute_result"
    }
   ],
   "source": [
    "wi"
   ]
  },
  {
   "cell_type": "markdown",
   "metadata": {},
   "source": [
    "# B"
   ]
  },
  {
   "cell_type": "code",
   "execution_count": 119,
   "metadata": {},
   "outputs": [],
   "source": [
    "import pandas as pd\n",
    "df = pd.read_csv('3gaussian.csv')"
   ]
  },
  {
   "cell_type": "code",
   "execution_count": 120,
   "metadata": {},
   "outputs": [
    {
     "name": "stdout",
     "output_type": "stream",
     "text": [
      "Iteration 1: Log-likelihood = 10.107867650644387\n",
      "Iteration 2: Log-likelihood = 10.25554086781822\n",
      "Iteration 3: Log-likelihood = 10.377663639756275\n",
      "Iteration 4: Log-likelihood = 10.48024410708884\n",
      "Iteration 5: Log-likelihood = 10.566858010553448\n",
      "Iteration 6: Log-likelihood = 10.642344397133426\n",
      "Iteration 7: Log-likelihood = 10.711913999175497\n",
      "Iteration 8: Log-likelihood = 10.780751845097168\n",
      "Iteration 9: Log-likelihood = 10.854283774172789\n",
      "Iteration 10: Log-likelihood = 10.937945471209266\n",
      "Iteration 11: Log-likelihood = 11.036011886804465\n",
      "Iteration 12: Log-likelihood = 11.150843624250928\n",
      "Iteration 13: Log-likelihood = 11.28300364793494\n",
      "Iteration 14: Log-likelihood = 11.431898709936812\n",
      "Iteration 15: Log-likelihood = 11.595799674240356\n",
      "Iteration 16: Log-likelihood = 11.772675921448567\n",
      "Iteration 17: Log-likelihood = 11.96035631801788\n",
      "Iteration 18: Log-likelihood = 12.15213362754347\n",
      "Iteration 19: Log-likelihood = 12.334118585976675\n",
      "Iteration 20: Log-likelihood = 12.491265517708886\n",
      "Iteration 21: Log-likelihood = 12.614599116013983\n",
      "Iteration 22: Log-likelihood = 12.700775652152014\n",
      "Iteration 23: Log-likelihood = 12.75463773966284\n",
      "Iteration 24: Log-likelihood = 12.786898566889828\n",
      "Iteration 25: Log-likelihood = 12.80728518231826\n",
      "Iteration 26: Log-likelihood = 12.821526270640913\n",
      "Iteration 27: Log-likelihood = 12.832383042299742\n",
      "Iteration 28: Log-likelihood = 12.841137881874818\n",
      "Iteration 29: Log-likelihood = 12.848425157846599\n",
      "Iteration 30: Log-likelihood = 12.854597569796216\n",
      "Iteration 31: Log-likelihood = 12.859877918357476\n",
      "Iteration 32: Log-likelihood = 12.864422662360784\n",
      "Iteration 33: Log-likelihood = 12.868350034697805\n",
      "Iteration 34: Log-likelihood = 12.871753612434654\n",
      "Iteration 35: Log-likelihood = 12.874709602147561\n",
      "Iteration 36: Log-likelihood = 12.877281195582526\n",
      "Iteration 37: Log-likelihood = 12.879521426657377\n",
      "Iteration 38: Log-likelihood = 12.881475183276152\n",
      "Iteration 39: Log-likelihood = 12.883180698007795\n",
      "Iteration 40: Log-likelihood = 12.884670693032735\n",
      "Iteration 41: Log-likelihood = 12.885973282468349\n",
      "Iteration 42: Log-likelihood = 12.887112697123488\n",
      "Iteration 43: Log-likelihood = 12.888109875120783\n",
      "Iteration 44: Log-likelihood = 12.888982948715842\n",
      "Iteration 45: Log-likelihood = 12.889747649242452\n",
      "Iteration 46: Log-likelihood = 12.890417646486812\n",
      "Iteration 47: Log-likelihood = 12.891004834887458\n",
      "Iteration 48: Log-likelihood = 12.891519576164068\n",
      "Iteration 49: Log-likelihood = 12.891970905930762\n",
      "Iteration 50: Log-likelihood = 12.892366710317054\n"
     ]
    }
   ],
   "source": [
    "K = 3\n",
    "arr = df.to_numpy()\n",
    "mus, covs, wi = converge(arr, K, max_itr=50)"
   ]
  },
  {
   "cell_type": "code",
   "execution_count": 121,
   "metadata": {},
   "outputs": [
    {
     "data": {
      "text/plain": [
       "[array([5.01091469, 7.00074739]),\n",
       " array([3.03804719, 3.04382128]),\n",
       " array([7.02120915, 4.01527054])]"
      ]
     },
     "execution_count": 121,
     "metadata": {},
     "output_type": "execute_result"
    }
   ],
   "source": [
    "mus"
   ]
  },
  {
   "cell_type": "markdown",
   "metadata": {},
   "source": [
    "Result are below"
   ]
  },
  {
   "cell_type": "code",
   "execution_count": 122,
   "metadata": {},
   "outputs": [
    {
     "data": {
      "text/plain": [
       "[array([[0.98070786, 0.18578253],\n",
       "        [0.18578253, 0.97551657]]),\n",
       " array([[1.02723265, 0.02376725],\n",
       "        [0.02376725, 3.3753003 ]]),\n",
       " array([[0.99101181, 0.50118987],\n",
       "        [0.50118987, 0.99567759]])]"
      ]
     },
     "execution_count": 122,
     "metadata": {},
     "output_type": "execute_result"
    }
   ],
   "source": [
    "covs"
   ]
  },
  {
   "cell_type": "code",
   "execution_count": 123,
   "metadata": {},
   "outputs": [
    {
     "data": {
      "text/plain": [
       "array([0.49630332, 0.20521438, 0.29848228])"
      ]
     },
     "execution_count": 123,
     "metadata": {},
     "output_type": "execute_result"
    }
   ],
   "source": [
    "wi"
   ]
  }
 ],
 "metadata": {
  "kernelspec": {
   "display_name": "myenv",
   "language": "python",
   "name": "python3"
  },
  "language_info": {
   "codemirror_mode": {
    "name": "ipython",
    "version": 3
   },
   "file_extension": ".py",
   "mimetype": "text/x-python",
   "name": "python",
   "nbconvert_exporter": "python",
   "pygments_lexer": "ipython3",
   "version": "3.8.20"
  },
  "orig_nbformat": 4
 },
 "nbformat": 4,
 "nbformat_minor": 2
}
