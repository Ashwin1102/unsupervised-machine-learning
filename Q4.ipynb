{
 "cells": [
  {
   "cell_type": "markdown",
   "metadata": {},
   "source": [
    "# PROBLEM 4 EM for coin flips"
   ]
  },
  {
   "cell_type": "markdown",
   "metadata": {},
   "source": [
    "## Read data"
   ]
  },
  {
   "cell_type": "code",
   "execution_count": 1,
   "metadata": {},
   "outputs": [],
   "source": [
    "import requests\n",
    "\n",
    "\n",
    "url = 'https://www.ccs.neu.edu/home/vip/teach/DMcourse/2_cluster_EM_mixt/HW2/coin_flips_outcome.txt'\n",
    "\n",
    "response = requests.get(url)\n"
   ]
  },
  {
   "cell_type": "code",
   "execution_count": 2,
   "metadata": {},
   "outputs": [],
   "source": [
    "data = response.text\n",
    "\n",
    "with open('coinflips.txt', 'w') as file:\n",
    "    file.write(data)\n"
   ]
  },
  {
   "cell_type": "code",
   "execution_count": 7,
   "metadata": {},
   "outputs": [],
   "source": [
    "import pandas as pd\n",
    "\n",
    "d = {}\n",
    "\n",
    "for i in range(20):\n",
    "    d['col' + str(i)] = []\n",
    "\n",
    "with open(\"coinflips.txt\", \"r\") as file:\n",
    "    for line in file:\n",
    "        values = line.split(' ')\n",
    "        for i in range(20):\n",
    "            d['col' + str(i)].append(int(values[i]))\n",
    "\n",
    "df = pd.DataFrame(d)\n"
   ]
  },
  {
   "cell_type": "code",
   "execution_count": 10,
   "metadata": {},
   "outputs": [
    {
     "data": {
      "text/plain": [
       "(50, 20)"
      ]
     },
     "execution_count": 10,
     "metadata": {},
     "output_type": "execute_result"
    }
   ],
   "source": [
    "df.shape"
   ]
  },
  {
   "cell_type": "code",
   "execution_count": 11,
   "metadata": {},
   "outputs": [],
   "source": [
    "df.to_csv('coinflips.csv', index=False)"
   ]
  },
  {
   "cell_type": "markdown",
   "metadata": {},
   "source": [
    "## Probability computation"
   ]
  },
  {
   "cell_type": "code",
   "execution_count": 1,
   "metadata": {},
   "outputs": [
    {
     "data": {
      "text/html": [
       "<div>\n",
       "<style scoped>\n",
       "    .dataframe tbody tr th:only-of-type {\n",
       "        vertical-align: middle;\n",
       "    }\n",
       "\n",
       "    .dataframe tbody tr th {\n",
       "        vertical-align: top;\n",
       "    }\n",
       "\n",
       "    .dataframe thead th {\n",
       "        text-align: right;\n",
       "    }\n",
       "</style>\n",
       "<table border=\"1\" class=\"dataframe\">\n",
       "  <thead>\n",
       "    <tr style=\"text-align: right;\">\n",
       "      <th></th>\n",
       "      <th>col0</th>\n",
       "      <th>col1</th>\n",
       "      <th>col2</th>\n",
       "      <th>col3</th>\n",
       "      <th>col4</th>\n",
       "      <th>col5</th>\n",
       "      <th>col6</th>\n",
       "      <th>col7</th>\n",
       "      <th>col8</th>\n",
       "      <th>col9</th>\n",
       "      <th>col10</th>\n",
       "      <th>col11</th>\n",
       "      <th>col12</th>\n",
       "      <th>col13</th>\n",
       "      <th>col14</th>\n",
       "      <th>col15</th>\n",
       "      <th>col16</th>\n",
       "      <th>col17</th>\n",
       "      <th>col18</th>\n",
       "      <th>col19</th>\n",
       "    </tr>\n",
       "  </thead>\n",
       "  <tbody>\n",
       "    <tr>\n",
       "      <th>0</th>\n",
       "      <td>0</td>\n",
       "      <td>1</td>\n",
       "      <td>0</td>\n",
       "      <td>0</td>\n",
       "      <td>1</td>\n",
       "      <td>0</td>\n",
       "      <td>1</td>\n",
       "      <td>0</td>\n",
       "      <td>1</td>\n",
       "      <td>0</td>\n",
       "      <td>0</td>\n",
       "      <td>0</td>\n",
       "      <td>1</td>\n",
       "      <td>1</td>\n",
       "      <td>1</td>\n",
       "      <td>0</td>\n",
       "      <td>1</td>\n",
       "      <td>1</td>\n",
       "      <td>0</td>\n",
       "      <td>1</td>\n",
       "    </tr>\n",
       "    <tr>\n",
       "      <th>1</th>\n",
       "      <td>1</td>\n",
       "      <td>0</td>\n",
       "      <td>0</td>\n",
       "      <td>1</td>\n",
       "      <td>1</td>\n",
       "      <td>1</td>\n",
       "      <td>1</td>\n",
       "      <td>1</td>\n",
       "      <td>1</td>\n",
       "      <td>1</td>\n",
       "      <td>1</td>\n",
       "      <td>1</td>\n",
       "      <td>0</td>\n",
       "      <td>0</td>\n",
       "      <td>1</td>\n",
       "      <td>1</td>\n",
       "      <td>1</td>\n",
       "      <td>1</td>\n",
       "      <td>0</td>\n",
       "      <td>1</td>\n",
       "    </tr>\n",
       "    <tr>\n",
       "      <th>2</th>\n",
       "      <td>1</td>\n",
       "      <td>1</td>\n",
       "      <td>0</td>\n",
       "      <td>1</td>\n",
       "      <td>1</td>\n",
       "      <td>1</td>\n",
       "      <td>0</td>\n",
       "      <td>0</td>\n",
       "      <td>1</td>\n",
       "      <td>1</td>\n",
       "      <td>0</td>\n",
       "      <td>0</td>\n",
       "      <td>0</td>\n",
       "      <td>1</td>\n",
       "      <td>0</td>\n",
       "      <td>1</td>\n",
       "      <td>1</td>\n",
       "      <td>0</td>\n",
       "      <td>1</td>\n",
       "      <td>0</td>\n",
       "    </tr>\n",
       "    <tr>\n",
       "      <th>3</th>\n",
       "      <td>1</td>\n",
       "      <td>0</td>\n",
       "      <td>0</td>\n",
       "      <td>0</td>\n",
       "      <td>0</td>\n",
       "      <td>0</td>\n",
       "      <td>0</td>\n",
       "      <td>0</td>\n",
       "      <td>0</td>\n",
       "      <td>1</td>\n",
       "      <td>0</td>\n",
       "      <td>0</td>\n",
       "      <td>0</td>\n",
       "      <td>1</td>\n",
       "      <td>0</td>\n",
       "      <td>0</td>\n",
       "      <td>0</td>\n",
       "      <td>0</td>\n",
       "      <td>0</td>\n",
       "      <td>0</td>\n",
       "    </tr>\n",
       "    <tr>\n",
       "      <th>4</th>\n",
       "      <td>0</td>\n",
       "      <td>0</td>\n",
       "      <td>1</td>\n",
       "      <td>0</td>\n",
       "      <td>0</td>\n",
       "      <td>1</td>\n",
       "      <td>0</td>\n",
       "      <td>0</td>\n",
       "      <td>0</td>\n",
       "      <td>1</td>\n",
       "      <td>0</td>\n",
       "      <td>0</td>\n",
       "      <td>0</td>\n",
       "      <td>0</td>\n",
       "      <td>0</td>\n",
       "      <td>0</td>\n",
       "      <td>0</td>\n",
       "      <td>0</td>\n",
       "      <td>0</td>\n",
       "      <td>0</td>\n",
       "    </tr>\n",
       "  </tbody>\n",
       "</table>\n",
       "</div>"
      ],
      "text/plain": [
       "   col0  col1  col2  col3  col4  col5  col6  col7  col8  col9  col10  col11  \\\n",
       "0     0     1     0     0     1     0     1     0     1     0      0      0   \n",
       "1     1     0     0     1     1     1     1     1     1     1      1      1   \n",
       "2     1     1     0     1     1     1     0     0     1     1      0      0   \n",
       "3     1     0     0     0     0     0     0     0     0     1      0      0   \n",
       "4     0     0     1     0     0     1     0     0     0     1      0      0   \n",
       "\n",
       "   col12  col13  col14  col15  col16  col17  col18  col19  \n",
       "0      1      1      1      0      1      1      0      1  \n",
       "1      0      0      1      1      1      1      0      1  \n",
       "2      0      1      0      1      1      0      1      0  \n",
       "3      0      1      0      0      0      0      0      0  \n",
       "4      0      0      0      0      0      0      0      0  "
      ]
     },
     "execution_count": 1,
     "metadata": {},
     "output_type": "execute_result"
    }
   ],
   "source": [
    "import pandas as pd\n",
    "\n",
    "df = pd.read_csv('coinflips.csv')\n",
    "df.head()"
   ]
  },
  {
   "cell_type": "code",
   "execution_count": 2,
   "metadata": {},
   "outputs": [],
   "source": [
    "arr = df.to_numpy()"
   ]
  },
  {
   "cell_type": "code",
   "execution_count": 3,
   "metadata": {},
   "outputs": [
    {
     "data": {
      "text/plain": [
       "(50, 20)"
      ]
     },
     "execution_count": 3,
     "metadata": {},
     "output_type": "execute_result"
    }
   ],
   "source": [
    "arr.shape"
   ]
  },
  {
   "cell_type": "code",
   "execution_count": 4,
   "metadata": {},
   "outputs": [],
   "source": [
    "import numpy as np\n",
    "import random\n",
    "from scipy.stats import multivariate_normal\n",
    "\n",
    "def initialize_parameters(arr, K):\n",
    "    d = arr.shape[1]\n",
    "    indices = np.random.choice(len(arr), size=K, replace=False)\n",
    "    mus = np.mean(arr[indices], axis=1)\n",
    "\n",
    "    return mus, np.array([1/K for k in range(K)])\n",
    "\n",
    "K=3\n",
    "mus, wi = initialize_parameters(arr, K)"
   ]
  },
  {
   "cell_type": "code",
   "execution_count": 20,
   "metadata": {},
   "outputs": [
    {
     "data": {
      "text/plain": [
       "array([0.5 , 0.95, 0.55])"
      ]
     },
     "execution_count": 20,
     "metadata": {},
     "output_type": "execute_result"
    }
   ],
   "source": [
    "mus"
   ]
  },
  {
   "cell_type": "code",
   "execution_count": 5,
   "metadata": {},
   "outputs": [],
   "source": [
    "from scipy.stats import binom\n",
    "\n",
    "def e_step(arr, wi, mus, K):\n",
    "    probs = []\n",
    "    sucessful_occ = np.sum(arr, axis=1)\n",
    "    n = arr.shape[1]\n",
    "\n",
    "    for k in range(K):\n",
    "        probs.append(binom.pmf(sucessful_occ, n, mus[k]))\n",
    "    probs = np.array(probs)\n",
    "    probs = probs * wi.reshape(K,1)\n",
    "    probs_sum = np.sum(probs, axis=0)\n",
    "    resp = probs / probs_sum\n",
    "    return resp\n",
    "\n",
    "resp = e_step(arr, wi, mus, K)"
   ]
  },
  {
   "cell_type": "code",
   "execution_count": 7,
   "metadata": {},
   "outputs": [
    {
     "data": {
      "text/plain": [
       "(3, 50)"
      ]
     },
     "execution_count": 7,
     "metadata": {},
     "output_type": "execute_result"
    }
   ],
   "source": [
    "resp.shape"
   ]
  },
  {
   "cell_type": "code",
   "execution_count": 32,
   "metadata": {},
   "outputs": [],
   "source": [
    "def m_step(arr, pi_vals, K):\n",
    "    mus = []\n",
    "    n = arr.shape[0]\n",
    "    d = arr.shape[1]\n",
    "    arr = np.mean(arr, axis=1)\n",
    "\n",
    "    for k in range(K):\n",
    "        kth_resp = pi_vals[k]\n",
    "        kth_resp_sum = np.sum(kth_resp)\n",
    "        mu = np.sum(arr.reshape(n,1) * kth_resp.reshape(n,1)) / kth_resp_sum\n",
    "        mus.append(mu)\n",
    "    wi = np.sum(pi_vals, axis=1) / n\n",
    "    return np.array(mus), wi\n",
    "\n",
    "mus, wi =  m_step(arr, resp, K)"
   ]
  },
  {
   "cell_type": "code",
   "execution_count": 37,
   "metadata": {},
   "outputs": [],
   "source": [
    "def log_likelihood(arr, mus, wi, K):\n",
    "    obj_val = 0\n",
    "    n = arr.shape[0]\n",
    "    sucessful_occ = np.sum(arr, axis=1)\n",
    "    \n",
    "    for i in range(K):\n",
    "        k_sum = 0.0\n",
    "        for j in range(K):\n",
    "            probs = binom.pmf(sucessful_occ, n, mus[i])\n",
    "            k_sum += np.sum(wi[i] * probs)\n",
    "        obj_val += np.log(k_sum + 1e-10)\n",
    "    return obj_val"
   ]
  },
  {
   "cell_type": "code",
   "execution_count": 38,
   "metadata": {},
   "outputs": [
    {
     "data": {
      "text/plain": [
       "-26.278798831274457"
      ]
     },
     "execution_count": 38,
     "metadata": {},
     "output_type": "execute_result"
    }
   ],
   "source": [
    "log_likelihood(arr, mus, wi, K)"
   ]
  },
  {
   "cell_type": "code",
   "execution_count": 45,
   "metadata": {},
   "outputs": [],
   "source": [
    "def converge(arr, K, max_itr=100, tol=1e-6):\n",
    "    mus, wi = initialize_parameters(arr, K)\n",
    "    \n",
    "    for itr in range(max_itr):\n",
    "        resp = e_step(arr, wi, mus, K)\n",
    "        mus, wi = m_step(arr, resp, K)\n",
    "        ll = log_likelihood(arr, mus, wi, K)\n",
    "        print(\"Error\", ll)\n",
    "\n",
    "    return mus, wi\n",
    "\n"
   ]
  },
  {
   "cell_type": "code",
   "execution_count": 46,
   "metadata": {},
   "outputs": [
    {
     "name": "stdout",
     "output_type": "stream",
     "text": [
      "Error -33.59418943068139\n",
      "Error -31.704954310650333\n",
      "Error -30.010264291027298\n",
      "Error -28.83098856208511\n",
      "Error -28.1195977592874\n",
      "Error -27.698569006365975\n",
      "Error -27.452997829880076\n",
      "Error -27.310982675476865\n",
      "Error -27.228121321812676\n",
      "Error -27.179196807523667\n",
      "Error -27.150047074405542\n",
      "Error -27.132575909601897\n",
      "Error -27.122065591055453\n",
      "Error -27.1157284617202\n",
      "Error -27.111902274828914\n",
      "Error -27.10959020229888\n",
      "Error -27.108192368141044\n",
      "Error -27.107347006935615\n",
      "Error -27.106835667688134\n",
      "Error -27.106526335983766\n",
      "Error -27.106339194925987\n",
      "Error -27.106225972755446\n",
      "Error -27.10615747054072\n",
      "Error -27.106116024385695\n",
      "Error -27.106090947834154\n",
      "Error -27.106075775452524\n",
      "Error -27.106066595485053\n",
      "Error -27.10606104118424\n",
      "Error -27.106057680573734\n",
      "Error -27.1060556472465\n",
      "Error -27.106054416987437\n",
      "Error -27.106053672622366\n",
      "Error -27.10605322224613\n",
      "Error -27.106052949747085\n",
      "Error -27.10605278487218\n",
      "Error -27.10605268511502\n",
      "Error -27.106052624757183\n",
      "Error -27.10605258823782\n",
      "Error -27.106052566141855\n",
      "Error -27.106052552772756\n",
      "Error -27.1060525446838\n",
      "Error -27.106052539789605\n",
      "Error -27.106052536828372\n",
      "Error -27.106052535036696\n",
      "Error -27.10605253395265\n",
      "Error -27.106052533296733\n",
      "Error -27.10605253289988\n",
      "Error -27.10605253265977\n",
      "Error -27.106052532514497\n",
      "Error -27.106052532426595\n",
      "Error -27.106052532373404\n",
      "Error -27.10605253234123\n",
      "Error -27.10605253232176\n",
      "Error -27.106052532309977\n",
      "Error -27.10605253230285\n",
      "Error -27.10605253229854\n",
      "Error -27.106052532295926\n",
      "Error -27.10605253229435\n",
      "Error -27.106052532293386\n",
      "Error -27.106052532292818\n",
      "Error -27.106052532292466\n",
      "Error -27.106052532292257\n",
      "Error -27.106052532292125\n",
      "Error -27.106052532292047\n",
      "Error -27.106052532292\n",
      "Error -27.106052532291976\n",
      "Error -27.10605253229195\n",
      "Error -27.10605253229194\n",
      "Error -27.106052532291944\n",
      "Error -27.106052532291933\n",
      "Error -27.106052532291933\n",
      "Error -27.106052532291933\n",
      "Error -27.106052532291944\n",
      "Error -27.106052532291933\n",
      "Error -27.106052532291926\n",
      "Error -27.106052532291926\n",
      "Error -27.106052532291926\n",
      "Error -27.106052532291926\n",
      "Error -27.106052532291926\n",
      "Error -27.106052532291926\n",
      "Error -27.106052532291926\n",
      "Error -27.106052532291926\n",
      "Error -27.106052532291926\n",
      "Error -27.106052532291926\n",
      "Error -27.106052532291926\n",
      "Error -27.106052532291926\n",
      "Error -27.106052532291926\n",
      "Error -27.106052532291926\n",
      "Error -27.106052532291926\n",
      "Error -27.106052532291926\n",
      "Error -27.106052532291926\n",
      "Error -27.106052532291926\n",
      "Error -27.106052532291926\n",
      "Error -27.106052532291926\n",
      "Error -27.106052532291926\n",
      "Error -27.106052532291926\n",
      "Error -27.106052532291926\n",
      "Error -27.106052532291926\n",
      "Error -27.106052532291926\n",
      "Error -27.106052532291926\n"
     ]
    }
   ],
   "source": [
    "mus, wi = converge(arr, K, max_itr=100, tol=1e-6)"
   ]
  },
  {
   "cell_type": "code",
   "execution_count": 47,
   "metadata": {},
   "outputs": [
    {
     "data": {
      "text/plain": [
       "array([0.61003783, 0.93172853, 0.23691867])"
      ]
     },
     "execution_count": 47,
     "metadata": {},
     "output_type": "execute_result"
    }
   ],
   "source": [
    "mus"
   ]
  },
  {
   "cell_type": "code",
   "execution_count": 48,
   "metadata": {},
   "outputs": [
    {
     "data": {
      "text/plain": [
       "array([0.51462834, 0.17855768, 0.30681398])"
      ]
     },
     "execution_count": 48,
     "metadata": {},
     "output_type": "execute_result"
    }
   ],
   "source": [
    "wi"
   ]
  }
 ],
 "metadata": {
  "kernelspec": {
   "display_name": "myenv",
   "language": "python",
   "name": "python3"
  },
  "language_info": {
   "codemirror_mode": {
    "name": "ipython",
    "version": 3
   },
   "file_extension": ".py",
   "mimetype": "text/x-python",
   "name": "python",
   "nbconvert_exporter": "python",
   "pygments_lexer": "ipython3",
   "version": "3.8.20"
  },
  "orig_nbformat": 4
 },
 "nbformat": 4,
 "nbformat_minor": 2
}
