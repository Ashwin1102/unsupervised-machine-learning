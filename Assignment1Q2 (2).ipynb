{
 "cells": [
  {
   "cell_type": "markdown",
   "metadata": {},
   "source": [
    "## Preprocessing\n"
   ]
  },
  {
   "cell_type": "code",
   "execution_count": 1,
   "metadata": {},
   "outputs": [],
   "source": [
    "import requests\n",
    "\n",
    "url = 'http://fimi.uantwerpen.be/data/kosarak.dat'\n",
    "\n",
    "response = requests.get(url)"
   ]
  },
  {
   "cell_type": "code",
   "execution_count": 2,
   "metadata": {},
   "outputs": [],
   "source": [
    "data = response.text\n",
    "with open('kosarak.txt', 'w') as file:\n",
    "    file.write(data)"
   ]
  },
  {
   "cell_type": "markdown",
   "metadata": {},
   "source": [
    "# Part a&b\n"
   ]
  },
  {
   "cell_type": "code",
   "execution_count": 3,
   "metadata": {},
   "outputs": [],
   "source": [
    "def txt_to_arff(input_file, output_file):\n",
    "    import numpy as np\n",
    "    from tqdm import tqdm\n",
    "    from scipy.sparse import csr_matrix\n",
    "    from tqdm import tqdm\n",
    "\n",
    "    items = []\n",
    "    unique_items = []\n",
    "\n",
    "    with open(input_file, 'r') as file:\n",
    "        for line in tqdm(file, desc=\"Processing lines\", unit=\"row\"):\n",
    "            line = line.strip()\n",
    "            line = line.split(' ')\n",
    "            items.append(line)\n",
    "            unique_items += line\n",
    "\n",
    "    unique_items = set(unique_items)\n",
    "    unique_items = list(map(int, unique_items))\n",
    "    unique_items.sort()\n",
    "\n",
    "    m = len(unique_items)\n",
    "    n = len(items)\n",
    "\n",
    "    row = []\n",
    "    col = []\n",
    "    sparse = []\n",
    "\n",
    "    for i in range(n):\n",
    "        for item in items[i]:\n",
    "            row.append(i)\n",
    "            col.append(int(item) - 1)\n",
    "            sparse.append(1)\n",
    "\n",
    "    sparse_mat = csr_matrix((sparse, (row, col)), shape=(n, m))\n",
    "\n",
    "    file = output_file\n",
    "    with open(file, \"w\") as f:\n",
    "        f.write(\"@RELATION data\\n\\n\")\n",
    "\n",
    "        for i in range(m):\n",
    "            f.write(\"@ATTRIBUTE item_\" + str(i+1) + \"  {0,1}\\n\")\n",
    "\n",
    "        f.write(\"\\n@DATA\\n\")\n",
    "\n",
    "        arff_row = []\n",
    "\n",
    "        for row in tqdm(range(n)):\n",
    "            start = sparse_mat.indptr[row]\n",
    "            end = sparse_mat.indptr[row + 1]\n",
    "            cols = sparse_mat.indices[start:end]\n",
    "            values = sparse_mat.data[start:end]\n",
    "\n",
    "            for col in cols:\n",
    "                arff_row.append(str(col) + ' 1')\n",
    "\n",
    "            add_row = '{' + (', '.join(arff_row)) + '}'\n",
    "            f.write('{' + (', '.join(arff_row)) + '}\\n')\n",
    "            arff_row = []"
   ]
  },
  {
   "cell_type": "code",
   "execution_count": 4,
   "metadata": {},
   "outputs": [
    {
     "name": "stderr",
     "output_type": "stream",
     "text": [
      "Processing lines: 990002row [00:03, 279320.93row/s]\n",
      "100%|██████████| 990002/990002 [00:08<00:00, 117748.77it/s]\n"
     ]
    }
   ],
   "source": [
    "txt_to_arff('kosarak.txt', 'kosarak.arff')"
   ]
  },
  {
   "cell_type": "markdown",
   "metadata": {},
   "source": [
    "It took 53 seconds to convert the kosarak.dat file to kosarak.arff file\n"
   ]
  },
  {
   "cell_type": "markdown",
   "metadata": {},
   "source": [
    "# Part c\n"
   ]
  },
  {
   "cell_type": "markdown",
   "metadata": {},
   "source": [
    "The data is loaded successfully in the weka, it took around 10-15 seconds to load the data.\n"
   ]
  },
  {
   "cell_type": "markdown",
   "metadata": {},
   "source": [
    "# Part D\n"
   ]
  },
  {
   "cell_type": "markdown",
   "metadata": {},
   "source": [
    "Associations rules are\n",
    "\n",
    "1. [item_11=1, item_218=1, item_148=1]: 50098 ==> [item_6=1]: 49866 <conf:(1)> lift:(1.64) lev:(0.02) conv:(84.4)\n",
    "2. [item_11=1, item_148=1]: 55759 ==> [item_6=1]: 55230 <conf:(0.99)> lift:(1.63) lev:(0.02) conv:(41.3)\n"
   ]
  },
  {
   "cell_type": "markdown",
   "metadata": {},
   "source": [
    "# Part E\n"
   ]
  },
  {
   "cell_type": "markdown",
   "metadata": {},
   "source": [
    "Time for each execution\n",
    "\n",
    "1. 3 sec\n",
    "2. 3 sec\n",
    "3. 4 sec\n",
    "4. 3 sec\n",
    "5. 3 sec\n",
    "\n",
    "Avg = 3 sec\n",
    "The avg time to run FP growth is less than (3sec) the time to parse the data to arff file\n"
   ]
  }
 ],
 "metadata": {
  "kernelspec": {
   "display_name": "myenv",
   "language": "python",
   "name": "python3"
  },
  "language_info": {
   "codemirror_mode": {
    "name": "ipython",
    "version": 3
   },
   "file_extension": ".py",
   "mimetype": "text/x-python",
   "name": "python",
   "nbconvert_exporter": "python",
   "pygments_lexer": "ipython3",
   "version": "3.8.20"
  },
  "orig_nbformat": 4
 },
 "nbformat": 4,
 "nbformat_minor": 2
}
